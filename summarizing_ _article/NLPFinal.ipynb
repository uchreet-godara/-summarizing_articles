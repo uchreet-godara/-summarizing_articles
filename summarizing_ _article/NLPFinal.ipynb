{
 "cells": [
  {
   "cell_type": "code",
   "execution_count": 77,
   "metadata": {},
   "outputs": [],
   "source": [
    "import pandas as pd\n",
    "import numpy as np\n",
    "import matplotlib.pyplot as plt\n",
    "import os\n",
    "import glob\n",
    "import string\n",
    "\n",
    "import itertools\n",
    "\n",
    "import seaborn as sns\n",
    "import math\n",
    "import nltk\n",
    "from nltk.corpus import stopwords\n",
    "from sklearn.metrics.pairwise import cosine_similarity\n",
    "from nltk import sent_tokenize , word_tokenize\n",
    "\n",
    "from sklearn.feature_extraction.text import CountVectorizer\n",
    "from sklearn.feature_extraction.text import TfidfVectorizer\n",
    "\n",
    "from sklearn.pipeline import Pipeline\n",
    "\n",
    "from sklearn.model_selection import GridSearchCV\n",
    " \n",
    "\n",
    "from bs4 import BeautifulSoup\n",
    "\n",
    "import re\n",
    "# import sys\n",
    "# from importlib import reload\n",
    "# reload(sys)\n",
    "# sys.setdefaultencoding(\"ISO-8859-1\")\n",
    "from sklearn.preprocessing import LabelEncoder\n",
    "from sklearn.ensemble import RandomForestClassifier\n",
    "from sklearn.ensemble import RandomForestRegressor\n",
    "from sklearn.linear_model import SGDClassifier\n",
    "from sklearn.neighbors import KNeighborsClassifier\n",
    "\n",
    "from sklearn.metrics import confusion_matrix\n",
    "\n",
    "from sklearn import preprocessing\n",
    "\n",
    "from sklearn.svm import SVC\n",
    "\n",
    "from sklearn.linear_model import LogisticRegression\n",
    "\n",
    "from sklearn.model_selection import train_test_split\n",
    "\n",
    "from sklearn.model_selection import KFold"
   ]
  },
  {
   "cell_type": "code",
   "execution_count": 2,
   "metadata": {},
   "outputs": [],
   "source": [
    "Npath ='/home/sukrit/Desktop/BBC News Summary/News Articles/**/**'\n",
    "Spath = '/home/sukrit/Desktop/BBC News Summary/Summaries/**/**'\n",
    "\n",
    "Nfiles = glob.glob(Npath)\n",
    "Sfiles = glob.glob(Spath)"
   ]
  },
  {
   "cell_type": "code",
   "execution_count": 3,
   "metadata": {},
   "outputs": [],
   "source": [
    "# list of text files\n",
    "NF=[]\n",
    "for i in Nfiles:\n",
    "#     print(i)\n",
    "    f = open(i ,'r',encoding=\"utf8\" ,errors='ignore') \n",
    "    sen = f.read()\n",
    "    NF.append(sen)\n",
    "    \n",
    "SF=[]\n",
    "for j in Sfiles:\n",
    "#     print(i)\n",
    "    f = open(j ,'r') \n",
    "    sen = f.read()\n",
    "    SF.append(sen)"
   ]
  },
  {
   "cell_type": "code",
   "execution_count": 4,
   "metadata": {},
   "outputs": [],
   "source": [
    "dnews = pd.DataFrame(NF,columns=['news'])"
   ]
  },
  {
   "cell_type": "code",
   "execution_count": 5,
   "metadata": {},
   "outputs": [],
   "source": [
    "dsumm = pd.DataFrame(SF,columns=['summ'])"
   ]
  },
  {
   "cell_type": "code",
   "execution_count": 6,
   "metadata": {},
   "outputs": [],
   "source": [
    "data = pd.concat([dnews , dsumm],axis=1)"
   ]
  },
  {
   "cell_type": "code",
   "execution_count": 7,
   "metadata": {},
   "outputs": [
    {
     "data": {
      "text/html": [
       "<div>\n",
       "<style>\n",
       "    .dataframe thead tr:only-child th {\n",
       "        text-align: right;\n",
       "    }\n",
       "\n",
       "    .dataframe thead th {\n",
       "        text-align: left;\n",
       "    }\n",
       "\n",
       "    .dataframe tbody tr th {\n",
       "        vertical-align: top;\n",
       "    }\n",
       "</style>\n",
       "<table border=\"1\" class=\"dataframe\">\n",
       "  <thead>\n",
       "    <tr style=\"text-align: right;\">\n",
       "      <th></th>\n",
       "      <th>news</th>\n",
       "      <th>summ</th>\n",
       "    </tr>\n",
       "  </thead>\n",
       "  <tbody>\n",
       "    <tr>\n",
       "      <th>0</th>\n",
       "      <td>Call for Kenteris to be cleared\\n\\nKostas Kenteris' lawyer has called for the doping charges against the Greek sprinter to be dropped.\\n\\nGregory Ioannidis has submitted new evidence to a Greek athletics tribunal which he claims proves the former Olympic champion has no case to answer. Kenteris and compatriot Katerina Thanou were given provisional suspensions in December for failing to take drugs tests before the Athens Olympics. The Greek tribunal is expected to give its verdict early next week. Kenteris and Thanou withdrew from the Athens Olympics last August after missing drugs tests on the eve of the opening ceremony. They were also alleged to have avoided tests in Tel Aviv and Chicago before the Games.\\n\\nBut Ioannidis said: \"Everything overwhelmingly shows that the charges should be dropped.\" Ioannidis also said he has presented evidence that will throw a different light on the events leading up to the pair's sensational withdrawal from the Athens Games. The lawyer added that he has proof the authorities \"knew\" Kenteris was in Germany at the time he was alleged to have missed a test in Chicago. Nick Davies, spokesman for athletics' ruling body the IAAF, which handed out the provisional bans, said: \"We can't comment because we were not present at the hearing and don't know what was said behind closed doors. \"We expect a verdict from the Greek Athletics Federation before the end of February and will obviously be making a statement then.\" Kenteris won 200m gold at the 2000 Sydney Olympics, while Thanou won silver in the 100m.\\n</td>\n",
       "      <td>Kostas Kenteris' lawyer has called for the doping charges against the Greek sprinter to be dropped.Kenteris and compatriot Katerina Thanou were given provisional suspensions in December for failing to take drugs tests before the Athens Olympics.Kenteris and Thanou withdrew from the Athens Olympics last August after missing drugs tests on the eve of the opening ceremony.The lawyer added that he has proof the authorities \"knew\" Kenteris was in Germany at the time he was alleged to have missed a test in Chicago.Gregory Ioannidis has submitted new evidence to a Greek athletics tribunal which he claims proves the former Olympic champion has no case to answer.</td>\n",
       "    </tr>\n",
       "  </tbody>\n",
       "</table>\n",
       "</div>"
      ],
      "text/plain": [
       "                                                                                                                                                                                                                                                                                                                                                                                                                                                                                                                                                                                                                                                                                                                                                                                                                                                                                                                                                                                                                                                                                                                                                                                                                                                                                                                                                                                                                                                                                                                                                                                                                   news  \\\n",
       "0  Call for Kenteris to be cleared\\n\\nKostas Kenteris' lawyer has called for the doping charges against the Greek sprinter to be dropped.\\n\\nGregory Ioannidis has submitted new evidence to a Greek athletics tribunal which he claims proves the former Olympic champion has no case to answer. Kenteris and compatriot Katerina Thanou were given provisional suspensions in December for failing to take drugs tests before the Athens Olympics. The Greek tribunal is expected to give its verdict early next week. Kenteris and Thanou withdrew from the Athens Olympics last August after missing drugs tests on the eve of the opening ceremony. They were also alleged to have avoided tests in Tel Aviv and Chicago before the Games.\\n\\nBut Ioannidis said: \"Everything overwhelmingly shows that the charges should be dropped.\" Ioannidis also said he has presented evidence that will throw a different light on the events leading up to the pair's sensational withdrawal from the Athens Games. The lawyer added that he has proof the authorities \"knew\" Kenteris was in Germany at the time he was alleged to have missed a test in Chicago. Nick Davies, spokesman for athletics' ruling body the IAAF, which handed out the provisional bans, said: \"We can't comment because we were not present at the hearing and don't know what was said behind closed doors. \"We expect a verdict from the Greek Athletics Federation before the end of February and will obviously be making a statement then.\" Kenteris won 200m gold at the 2000 Sydney Olympics, while Thanou won silver in the 100m.\\n   \n",
       "\n",
       "                                                                                                                                                                                                                                                                                                                                                                                                                                                                                                                                                                                                                                                                                     summ  \n",
       "0  Kostas Kenteris' lawyer has called for the doping charges against the Greek sprinter to be dropped.Kenteris and compatriot Katerina Thanou were given provisional suspensions in December for failing to take drugs tests before the Athens Olympics.Kenteris and Thanou withdrew from the Athens Olympics last August after missing drugs tests on the eve of the opening ceremony.The lawyer added that he has proof the authorities \"knew\" Kenteris was in Germany at the time he was alleged to have missed a test in Chicago.Gregory Ioannidis has submitted new evidence to a Greek athletics tribunal which he claims proves the former Olympic champion has no case to answer.  "
      ]
     },
     "execution_count": 7,
     "metadata": {},
     "output_type": "execute_result"
    }
   ],
   "source": [
    "pd.set_option('display.max_colwidth', -1)\n",
    "data.head(1)"
   ]
  },
  {
   "cell_type": "code",
   "execution_count": 8,
   "metadata": {},
   "outputs": [
    {
     "name": "stderr",
     "output_type": "stream",
     "text": [
      "/home/sukrit/anaconda3/lib/python3.6/site-packages/bs4/__init__.py:181: UserWarning: No parser was explicitly specified, so I'm using the best available HTML parser for this system (\"lxml\"). This usually isn't a problem, but if you run this code on another system, or in a different virtual environment, it may use a different parser and behave differently.\n",
      "\n",
      "The code that caused this warning is on line 193 of the file /home/sukrit/anaconda3/lib/python3.6/runpy.py. To get rid of this warning, change code that looks like this:\n",
      "\n",
      " BeautifulSoup(YOUR_MARKUP})\n",
      "\n",
      "to this:\n",
      "\n",
      " BeautifulSoup(YOUR_MARKUP, \"lxml\")\n",
      "\n",
      "  markup_type=markup_type))\n"
     ]
    }
   ],
   "source": [
    "data = data.applymap(lambda text: BeautifulSoup(text).get_text())\n",
    "data1 = pd.DataFrame(data['news'] , columns = ['news'])\n",
    "data1['news'] = data1[\"news\"].str.lower()"
   ]
  },
  {
   "cell_type": "code",
   "execution_count": 9,
   "metadata": {},
   "outputs": [],
   "source": [
    "data1['news'] = data1['news'].apply(lambda text: text.replace('\\n','. ').replace('\\\\','').split('. '))\n",
    "data1['news'] = data1['news'].apply(lambda text: list(filter(None, text)))"
   ]
  },
  {
   "cell_type": "code",
   "execution_count": 10,
   "metadata": {},
   "outputs": [
    {
     "data": {
      "text/plain": [
       "(2225,)"
      ]
     },
     "execution_count": 10,
     "metadata": {},
     "output_type": "execute_result"
    }
   ],
   "source": [
    "data1['news'].shape"
   ]
  },
  {
   "cell_type": "code",
   "execution_count": 11,
   "metadata": {},
   "outputs": [],
   "source": [
    "\n",
    "\n",
    "# removing punctuation\n",
    "\n",
    "data['news'] = data['news'].apply(lambda x:''.join([i for i in x \n",
    "                                                  if i not in string.punctuation]))\n",
    "\n"
   ]
  },
  {
   "cell_type": "code",
   "execution_count": 12,
   "metadata": {},
   "outputs": [],
   "source": [
    "data = data.applymap(lambda text: re.sub('[^a-zA-Z0-9 !?$%£]',' ',text))\n"
   ]
  },
  {
   "cell_type": "code",
   "execution_count": 13,
   "metadata": {},
   "outputs": [],
   "source": [
    "data['tryvec'] = data['news']"
   ]
  },
  {
   "cell_type": "code",
   "execution_count": 14,
   "metadata": {},
   "outputs": [],
   "source": [
    "data[\"news\"] = data[\"news\"].str.lower()\n",
    "data[\"summ\"] = data[\"summ\"].str.lower()\n"
   ]
  },
  {
   "cell_type": "code",
   "execution_count": 15,
   "metadata": {},
   "outputs": [
    {
     "name": "stdout",
     "output_type": "stream",
     "text": [
      "[nltk_data] Downloading package stopwords to /home/sukrit/nltk_data...\n",
      "[nltk_data]   Package stopwords is already up-to-date!\n"
     ]
    },
    {
     "data": {
      "text/plain": [
       "True"
      ]
     },
     "execution_count": 15,
     "metadata": {},
     "output_type": "execute_result"
    }
   ],
   "source": [
    "nltk.download('stopwords')"
   ]
  },
  {
   "cell_type": "code",
   "execution_count": 16,
   "metadata": {},
   "outputs": [],
   "source": [
    "stop_words=stopwords.words('english')"
   ]
  },
  {
   "cell_type": "code",
   "execution_count": 17,
   "metadata": {},
   "outputs": [],
   "source": [
    "data = data.applymap(lambda text: text.split())"
   ]
  },
  {
   "cell_type": "code",
   "execution_count": 18,
   "metadata": {},
   "outputs": [],
   "source": [
    "\n",
    "\n",
    "# wait for few seconds\n",
    "\n",
    "data = data.applymap(lambda x: [item for item in x if item not in stop_words])\n",
    "# data['summ'] = data['summ'].apply(lambda x: [item for item in x if item not in stop_words])\n",
    "\n"
   ]
  },
  {
   "cell_type": "code",
   "execution_count": 19,
   "metadata": {},
   "outputs": [],
   "source": [
    "# convertting rows to string\n",
    "data = data.applymap(lambda x:' '.join(x))"
   ]
  },
  {
   "cell_type": "code",
   "execution_count": 20,
   "metadata": {},
   "outputs": [],
   "source": [
    "\n",
    "data['news']= data['news'].apply(lambda x: nltk.word_tokenize(str(x)))"
   ]
  },
  {
   "cell_type": "code",
   "execution_count": 21,
   "metadata": {},
   "outputs": [],
   "source": [
    "data['onews'] = data1['news']"
   ]
  },
  {
   "cell_type": "code",
   "execution_count": 22,
   "metadata": {},
   "outputs": [],
   "source": [
    "data2 = pd.DataFrame(data1['news'])\n",
    "\n",
    "data2.rename(columns = {'news':'newswdttl'} , inplace=True)"
   ]
  },
  {
   "cell_type": "code",
   "execution_count": 23,
   "metadata": {},
   "outputs": [
    {
     "data": {
      "text/plain": [
       "0       call for kenteris to be cleared  \n",
       "1       worcester v sale (fri)           \n",
       "2       robinson ready for difficult task\n",
       "3       roddick in talks over new coach  \n",
       "4       davenport hits out at wimbledon  \n",
       "5       injury sidelines philippoussis   \n",
       "6       sydney to host north v south game\n",
       "7       spain coach faces racism inquiry \n",
       "8       wenger handed summer war chest   \n",
       "9       rochus shocks coria in auckland  \n",
       "10      henman to face saulnier test     \n",
       "11      2004: an irish athletics year    \n",
       "12      boro suffer morrison injury blow \n",
       "13      celts savour grand slam prospect \n",
       "14      beattie return calms attack fears\n",
       "15      mansfield 0-1 leyton orient      \n",
       "16      classy henman makes winning start\n",
       "17      mexicans tracking unhappy juninho\n",
       "18      downing injury mars uefa victory \n",
       "19      london irish 19-33 wasps         \n",
       "20      wru proposes season overhaul     \n",
       "21      holmes starts 2005 with gb events\n",
       "22      double injury blow strikes wales \n",
       "23      pearce keen on succeeding keegan \n",
       "24      safin plays down wimbledon hopes \n",
       "25      moya suffers shock loss          \n",
       "26      wright-phillips to start on right\n",
       "27      big guns ease through in san jose\n",
       "28      mourinho receives robson warning \n",
       "29      real in talks over gravesen move \n",
       "                      ...                \n",
       "2195    microsoft gets the blogging bug  \n",
       "2196    tv's future down the phone line  \n",
       "2197    chip maker backs net phone calls \n",
       "2198    long life promised for laptop pcs\n",
       "2199    british library gets wireless net\n",
       "2200    us blogger fired by her airline  \n",
       "2201    beckham virus spotted on the net \n",
       "2202    screensaver tackles spam websites\n",
       "2203    microsoft debuts security tools  \n",
       "2204    digital guru floats sub-$100 pc  \n",
       "2205    looks and music to drive mobiles \n",
       "2206    how to make a gigapixel picture  \n",
       "2207    gta sequel is criminally good    \n",
       "2208    'blog' picked as word of the year\n",
       "2209    yahoo moves into desktop search  \n",
       "2210    junk e-mails on relentless rise  \n",
       "2211    savvy searchers fail to spot ads \n",
       "2212    consumer concern over rfid tags  \n",
       "2213    internet boom for gift shopping  \n",
       "2214    apple sues 'tiger' file sharers  \n",
       "2215    google launches tv search service\n",
       "2216    big war games battle it out      \n",
       "2217    iran jails blogger for 14 years  \n",
       "2218    junk e-mails on relentless rise  \n",
       "2219    blind student 'hears in colour'  \n",
       "2220    seamen sail into biometric future\n",
       "2221    bbc web search aids odd queries  \n",
       "2222    lifestyle 'governs mobile choice'\n",
       "2223    playstation 3 processor unveiled \n",
       "2224    eu software patent law delayed   \n",
       "Name: onews, Length: 2225, dtype: object"
      ]
     },
     "execution_count": 23,
     "metadata": {},
     "output_type": "execute_result"
    }
   ],
   "source": [
    "\n",
    "data['Title'] = data['onews'].apply(lambda x: x[0])\n",
    "data['onews'].apply(lambda x: x.pop(0))\n",
    "# data.head()\n",
    "\n",
    "# data['summ'] = data['summ'].apply(lambda x: [item for item in x if item not in stop_words])\n"
   ]
  },
  {
   "cell_type": "code",
   "execution_count": 24,
   "metadata": {},
   "outputs": [],
   "source": [
    "# removing stopwords froom title\n",
    "\n",
    "\n",
    "def getspiltd(s):\n",
    "    return s.split(' ')\n",
    "\n",
    "data['Titleoutstop'] = data['Title'].apply(lambda x : [item for item in getspiltd(x) if item not in stop_words])"
   ]
  },
  {
   "cell_type": "code",
   "execution_count": null,
   "metadata": {},
   "outputs": [],
   "source": []
  },
  {
   "cell_type": "code",
   "execution_count": 25,
   "metadata": {},
   "outputs": [],
   "source": [
    "# creating vectorizer\n",
    "vectorizer = CountVectorizer()\n",
    "\n",
    "# x = vectorizer.fit_transform(data['onews'][0])\n",
    "data['convec'] = data['onews'].apply(lambda x : vectorizer.fit_transform(x))"
   ]
  },
  {
   "cell_type": "code",
   "execution_count": 26,
   "metadata": {},
   "outputs": [
    {
     "name": "stdout",
     "output_type": "stream",
     "text": [
      "[[0 0 0 0 0 1 0 0 0 0 0 0 0 0 0 0 0 0 1 0 0 0 0 0 1 0 0 0 0 1 0 0 0 0 0 0 0\n",
      "  0 0 0 1 1 0 0 0 0 0 0 0 0 0 0 0 0 1 0 0 0 0 0 0 0 1 0 0 1 0 0 0 0 0 0 0 0\n",
      "  0 1 0 0 1 0 1 0 0 0 0 0 0 0 0 0 0 0 0 0 0 0 0 0 0 0 0 0 0 0 0 0 0 0 0 0 0\n",
      "  0 1 0 0 0 0 0 0 0 0 0 0 2 0 0 0 0 1 0 0 0 0 0 0 0 0 0 0 0 0 0 0]]\n"
     ]
    }
   ],
   "source": [
    "print(data['convec'][0][0,:].toarray())"
   ]
  },
  {
   "cell_type": "code",
   "execution_count": 27,
   "metadata": {},
   "outputs": [
    {
     "name": "stdout",
     "output_type": "stream",
     "text": [
      "['about', 'accusations', 'added', 'afford', 'allow', 'already', 'amazon', 'and', 'angry', 'are', 'as', 'austrian', 'based', 'been', 'big', 'business', 'but', 'cannot', 'case', 'changed', 'claim', 'claimed', 'clashed', 'click', 'com', 'companies', 'computer', 'consider', 'controversial', 'costs', 'could', 'critics', 'crucial', 'currently', 'debate', 'decide', 'delays', 'developments', 'directive', 'due', 'especially', 'eu', 'european', 'eva', 'excludes', 'exclusively', 'favour', 'firms', 'for', 'from', 'green', 'happens', 'harmonise', 'has', 'have', 'hold', 'holds', 'ideas', 'ignited', 'implemented', 'in', 'inflict', 'innovative', 'instance', 'interests', 'internet', 'intervention', 'inventions', 'inventors', 'is', 'issue', 'it', 'large', 'last', 'law', 'legal', 'lichtenberg', 'little', 'massive', 'member', 'methods', 'ministers', 'minute', 'more', 'needed', 'new', 'of', 'on', 'one', 'ones', 'open', 'over', 'parliament', 'patent', 'patentability', 'patenting', 'phrasing', 'planned', 'poland', 'polish', 'previous', 'process', 'programs', 'protect', 'protected', 'put', 'ramifications', 'relates', 'requested', 'rights', 'rules', 'said', 'say', 'says', 'see', 'several', 'she', 'shopping', 'should', 'small', 'smaller', 'so', 'software', 'source', 'statement', 'subject', 'such', 'text', 'than', 'that', 'the', 'them', 'there', 'therefore', 'they', 'this', 'time', 'to', 'undemocratic', 'union', 'us', 'want', 'whether', 'which', 'with', 'would']\n"
     ]
    }
   ],
   "source": [
    "print(vectorizer.get_feature_names())"
   ]
  },
  {
   "cell_type": "code",
   "execution_count": 28,
   "metadata": {},
   "outputs": [],
   "source": [
    "tfidf = TfidfVectorizer(ngram_range=(1,1), token_pattern='(?u)\\\\b\\\\w+\\\\b', smooth_idf=False)\n",
    "\n",
    "\n",
    "\n",
    "data['tfidf'] = data['onews'].apply(lambda x : tfidf.fit_transform(x))\n",
    "# tfs = tfidf.fit_transform(corpus.values())\n",
    "# new_tfs = normalized_counts.multiply(tfidf.idf_)"
   ]
  },
  {
   "cell_type": "code",
   "execution_count": 29,
   "metadata": {},
   "outputs": [],
   "source": [
    "data['sentimport'] = data['tfidf'].apply(lambda i: i.sum(axis=1) )"
   ]
  },
  {
   "cell_type": "code",
   "execution_count": 30,
   "metadata": {},
   "outputs": [
    {
     "data": {
      "text/plain": [
       "matrix([[ 3.74950761],\n",
       "        [ 4.57033639],\n",
       "        [ 4.40606926],\n",
       "        [ 3.31993883],\n",
       "        [ 4.26472629],\n",
       "        [ 3.85236124],\n",
       "        [ 5.61217119],\n",
       "        [ 4.50175543],\n",
       "        [ 5.53487084],\n",
       "        [ 5.49288328]])"
      ]
     },
     "execution_count": 30,
     "metadata": {},
     "output_type": "execute_result"
    }
   ],
   "source": [
    "data['sentimport'][0]"
   ]
  },
  {
   "cell_type": "code",
   "execution_count": 31,
   "metadata": {},
   "outputs": [
    {
     "data": {
      "text/plain": [
       "'Kostas Kenteris\\' lawyer has called for the doping charges against the Greek sprinter to be dropped.Kenteris and compatriot Katerina Thanou were given provisional suspensions in December for failing to take drugs tests before the Athens Olympics.Kenteris and Thanou withdrew from the Athens Olympics last August after missing drugs tests on the eve of the opening ceremony.The lawyer added that he has proof the authorities \"knew\" Kenteris was in Germany at the time he was alleged to have missed a test in Chicago.Gregory Ioannidis has submitted new evidence to a Greek athletics tribunal which he claims proves the former Olympic champion has no case to answer.'"
      ]
     },
     "execution_count": 31,
     "metadata": {},
     "output_type": "execute_result"
    }
   ],
   "source": [
    "dsumm['summ'][0]"
   ]
  },
  {
   "cell_type": "code",
   "execution_count": 32,
   "metadata": {},
   "outputs": [],
   "source": [
    "def lensentn(sent):\n",
    "    return len(sent.split(' '))"
   ]
  },
  {
   "cell_type": "code",
   "execution_count": 33,
   "metadata": {},
   "outputs": [],
   "source": [
    "data['snlen'] = data['onews'].apply(lambda x: [lensentn(i) for i in x])"
   ]
  },
  {
   "cell_type": "code",
   "execution_count": 34,
   "metadata": {},
   "outputs": [
    {
     "data": {
      "text/html": [
       "<div>\n",
       "<style>\n",
       "    .dataframe thead tr:only-child th {\n",
       "        text-align: right;\n",
       "    }\n",
       "\n",
       "    .dataframe thead th {\n",
       "        text-align: left;\n",
       "    }\n",
       "\n",
       "    .dataframe tbody tr th {\n",
       "        vertical-align: top;\n",
       "    }\n",
       "</style>\n",
       "<table border=\"1\" class=\"dataframe\">\n",
       "  <thead>\n",
       "    <tr style=\"text-align: right;\">\n",
       "      <th></th>\n",
       "      <th>news</th>\n",
       "      <th>summ</th>\n",
       "      <th>tryvec</th>\n",
       "      <th>onews</th>\n",
       "      <th>Title</th>\n",
       "      <th>Titleoutstop</th>\n",
       "      <th>convec</th>\n",
       "      <th>tfidf</th>\n",
       "      <th>sentimport</th>\n",
       "      <th>snlen</th>\n",
       "    </tr>\n",
       "  </thead>\n",
       "  <tbody>\n",
       "    <tr>\n",
       "      <th>0</th>\n",
       "      <td>[call, kenteris, cleared, kostas, kenteris, lawyer, called, doping, charges, greek, sprinter, dropped, gregory, ioannidis, submitted, new, evidence, greek, athletics, tribunal, claims, proves, former, olympic, champion, case, answer, kenteris, compatriot, katerina, thanou, given, provisional, suspensions, december, failing, take, drugs, tests, athens, olympics, greek, tribunal, expected, give, verdict, early, next, week, kenteris, thanou, withdrew, athens, olympics, last, august, missing, drugs, tests, eve, opening, ceremony, also, alleged, avoided, tests, tel, aviv, chicago, games, ioannidis, said, everything, overwhelmingly, shows, charges, dropped, ioannidis, also, said, presented, evidence, throw, different, light, events, leading, pairs, sensational, withdrawal, athens, games, lawyer, added, proof, authorities, knew, kenteris, germany, time, ...]</td>\n",
       "      <td>kostas kenteris lawyer called doping charges greek sprinter dropped kenteris compatriot katerina thanou given provisional suspensions december failing take drugs tests athens olympics kenteris thanou withdrew athens olympics last august missing drugs tests eve opening ceremony lawyer added proof authorities knew kenteris germany time alleged missed test chicago gregory ioannidis submitted new evidence greek athletics tribunal claims proves former olympic champion case answer</td>\n",
       "      <td>Call Kenteris cleared Kostas Kenteris lawyer called doping charges Greek sprinter dropped Gregory Ioannidis submitted new evidence Greek athletics tribunal claims proves former Olympic champion case answer Kenteris compatriot Katerina Thanou given provisional suspensions December failing take drugs tests Athens Olympics The Greek tribunal expected give verdict early next week Kenteris Thanou withdrew Athens Olympics last August missing drugs tests eve opening ceremony They also alleged avoided tests Tel Aviv Chicago Games But Ioannidis said Everything overwhelmingly shows charges dropped Ioannidis also said presented evidence throw different light events leading pairs sensational withdrawal Athens Games The lawyer added proof authorities knew Kenteris Germany time alleged missed test Chicago Nick Davies spokesman athletics ruling body IAAF handed provisional bans said We cant comment present hearing dont know said behind closed doors We expect verdict Greek Athletics Federation end February obviously making statement Kenteris 200m gold 2000 Sydney Olympics Thanou silver 100m</td>\n",
       "      <td>[kostas kenteris' lawyer has called for the doping charges against the greek sprinter to be dropped., gregory ioannidis has submitted new evidence to a greek athletics tribunal which he claims proves the former olympic champion has no case to answer, kenteris and compatriot katerina thanou were given provisional suspensions in december for failing to take drugs tests before the athens olympics, the greek tribunal is expected to give its verdict early next week, kenteris and thanou withdrew from the athens olympics last august after missing drugs tests on the eve of the opening ceremony, they were also alleged to have avoided tests in tel aviv and chicago before the games., but ioannidis said: \"everything overwhelmingly shows that the charges should be dropped.\" ioannidis also said he has presented evidence that will throw a different light on the events leading up to the pair's sensational withdrawal from the athens games, the lawyer added that he has proof the authorities \"knew\" kenteris was in germany at the time he was alleged to have missed a test in chicago, nick davies, spokesman for athletics' ruling body the iaaf, which handed out the provisional bans, said: \"we can't comment because we were not present at the hearing and don't know what was said behind closed doors, \"we expect a verdict from the greek athletics federation before the end of february and will obviously be making a statement then.\" kenteris won 200m gold at the 2000 sydney olympics, while thanou won silver in the 100m.]</td>\n",
       "      <td>call for kenteris to be cleared</td>\n",
       "      <td>[call, kenteris, cleared]</td>\n",
       "      <td>(0, 41)\\t1\\n  (0, 18)\\t1\\n  (0, 128)\\t1\\n  (0, 112)\\t1\\n  (0, 62)\\t1\\n  (0, 5)\\t1\\n  (0, 29)\\t1\\n  (0, 40)\\t1\\n  (0, 123)\\t2\\n  (0, 54)\\t1\\n  (0, 24)\\t1\\n  (0, 65)\\t1\\n  (0, 80)\\t1\\n  (0, 75)\\t1\\n  (0, 78)\\t1\\n  (1, 9)\\t1\\n  (1, 26)\\t1\\n  (1, 89)\\t1\\n  (1, 28)\\t1\\n  (1, 93)\\t1\\n  (1, 55)\\t1\\n  (1, 103)\\t1\\n  (1, 31)\\t1\\n  (1, 67)\\t1\\n  (1, 137)\\t1\\n  :\\t:\\n  (9, 142)\\t2\\n  (9, 124)\\t1\\n  (9, 113)\\t1\\n  (9, 83)\\t1\\n  (9, 91)\\t1\\n  (9, 52)\\t1\\n  (9, 44)\\t1\\n  (9, 53)\\t1\\n  (9, 49)\\t1\\n  (9, 133)\\t1\\n  (9, 10)\\t1\\n  (9, 139)\\t1\\n  (9, 92)\\t1\\n  (9, 56)\\t1\\n  (9, 131)\\t1\\n  (9, 94)\\t1\\n  (9, 20)\\t1\\n  (9, 70)\\t1\\n  (9, 121)\\t1\\n  (9, 8)\\t1\\n  (9, 12)\\t1\\n  (9, 18)\\t1\\n  (9, 62)\\t1\\n  (9, 123)\\t4\\n  (9, 75)\\t1</td>\n",
       "      <td>(0, 79)\\t0.329060463574\\n  (0, 76)\\t0.168700512007\\n  (0, 81)\\t0.25999719158\\n  (0, 66)\\t0.190933919587\\n  (0, 25)\\t0.329060463574\\n  (0, 55)\\t0.219597767287\\n  (0, 126)\\t0.199274480026\\n  (0, 41)\\t0.329060463574\\n  (0, 30)\\t0.25999719158\\n  (0, 6)\\t0.329060463574\\n  (0, 63)\\t0.190933919587\\n  (0, 114)\\t0.329060463574\\n  (0, 131)\\t0.135175347009\\n  (0, 19)\\t0.219597767287\\n  (0, 42)\\t0.25999719158\\n  (1, 66)\\t0.280023110471\\n  (1, 126)\\t0.0730638378126\\n  (1, 63)\\t0.140011555235\\n  (1, 131)\\t0.198247756137\\n  (1, 64)\\t0.241299541597\\n  (1, 72)\\t0.190655548416\\n  (1, 116)\\t0.241299541597\\n  (1, 87)\\t0.241299541597\\n  (1, 49)\\t0.190655548416\\n  (1, 3)\\t0.140011555235\\n  :\\t:\\n  (9, 71)\\t0.108446905482\\n  (9, 21)\\t0.124727436407\\n  (9, 95)\\t0.124727436407\\n  (9, 134)\\t0.147673555972\\n  (9, 57)\\t0.124727436407\\n  (9, 93)\\t0.147673555972\\n  (9, 142)\\t0.147673555972\\n  (9, 11)\\t0.124727436407\\n  (9, 136)\\t0.147673555972\\n  (9, 50)\\t0.186900206462\\n  (9, 54)\\t0.186900206462\\n  (9, 45)\\t0.186900206462\\n  (9, 53)\\t0.186900206462\\n  (9, 92)\\t0.186900206462\\n  (9, 84)\\t0.186900206462\\n  (9, 115)\\t0.186900206462\\n  (9, 127)\\t0.186900206462\\n  (9, 145)\\t0.373800412923\\n  (9, 2)\\t0.186900206462\\n  (9, 62)\\t0.186900206462\\n  (9, 1)\\t0.186900206462\\n  (9, 118)\\t0.186900206462\\n  (9, 141)\\t0.186900206462\\n  (9, 112)\\t0.186900206462\\n  (9, 0)\\t0.186900206462</td>\n",
       "      <td>[[[[[ 3.74950761]]]], [[[[ 4.57033639]]]], [[[[ 4.40606926]]]], [[[[ 3.31993883]]]], [[[[ 4.26472629]]]], [[[[ 3.85236124]]]], [[[[ 5.61217119]]]], [[[[ 4.50175543]]]], [[[[ 5.53487084]]]], [[[[ 5.49288328]]]]]</td>\n",
       "      <td>[16, 24, 21, 12, 21, 16, 39, 27, 36, 38]</td>\n",
       "    </tr>\n",
       "    <tr>\n",
       "      <th>1</th>\n",
       "      <td>[worcester, v, sale, fri, sixways, friday, 25, february, 2000, gmt, make, one, change, tim, collier, replacing, phil, murphy, second, row, contrast, sale, missing, 14, players, due, combination, international, callups, injuries, john, payne, chris, rhys, jones, come, centres, scrumhalf, richard, wigglesworth, looks, set, play, wing, delport, pieters, rasmussen, lombard, oleary, brown, powell, windo, van, niekerk, horsman, collier, gillies, hickey, sanderson, macleod, henderson, replacements, fortey, murphy, daly, vaili, cole, hayes, trueman, hanley, mayor, payne, rhys, jones, wigglesworth, hercus, redpath, capt, turner, roddam, stewart, day, schofield, caillet, carter, chabal, replacements, bozzi, coutts, anglesea, lund, martens, riley, duffy, c, jones]</td>\n",
       "      <td>john payne chris rhys jones come centres scrum half richard wigglesworth looks set play wing hanley mayor payne rhys jones wigglesworth hercus redpath capt turner roddam stewart day schofield caillet carter chabal replacements bozzi coutts anglesea lund martens riley duffy c jones</td>\n",
       "      <td>Worcester v Sale Fri Sixways Friday 25 February 2000 GMT They make one change Tim Collier replacing Phil Murphy second row In contrast Sale missing 14 players due combination international callups injuries John Payne Chris Rhys Jones come centres scrumhalf Richard Wigglesworth looks set play wing Delport Pieters Rasmussen Lombard OLeary Brown Powell Windo Van Niekerk Horsman Collier Gillies Hickey Sanderson MacLeod Henderson Replacements Fortey Murphy Daly Vaili Cole Hayes Trueman Hanley Mayor Payne Rhys Jones Wigglesworth Hercus Redpath capt Turner Roddam Stewart Day Schofield Caillet Carter Chabal Replacements Bozzi Coutts Anglesea Lund Martens Riley Duffy C Jones</td>\n",
       "      <td>[sixways, friday, 25 february, 2000 gmt, they make just one change, with tim collier replacing phil murphy in the second row, in contrast, sale are missing 14 players due to a combination of international call-ups and injuries, john payne and chris rhys jones come into the centres while scrum-half richard wigglesworth looks set to play on the wing., delport; pieters, rasmussen, lombard, o'leary; brown, powell; windo, van niekerk, horsman; collier, gillies; hickey, sanderson, macleod- henderson., replacements: fortey, murphy, daly, vaili, cole, hayes, trueman., hanley; mayor, payne, rhys jones, wigglesworth; hercus, redpath (capt); turner, roddam, stewart; day, schofield; caillet, carter, chabal., replacements (from): bozzi, coutts, anglesea, lund, martens, riley, duffy, c jones.]</td>\n",
       "      <td>worcester v sale (fri)</td>\n",
       "      <td>[worcester, v, sale, (fri)]</td>\n",
       "      <td>(0, 82)\\t1\\n  (1, 27)\\t1\\n  (1, 2)\\t1\\n  (1, 29)\\t1\\n  (2, 32)\\t1\\n  (2, 1)\\t1\\n  (3, 75)\\t1\\n  (3, 80)\\t1\\n  (3, 84)\\t1\\n  (3, 40)\\t1\\n  (3, 56)\\t1\\n  (3, 62)\\t1\\n  (3, 70)\\t1\\n  (3, 17)\\t1\\n  (3, 86)\\t1\\n  (3, 97)\\t1\\n  (3, 14)\\t1\\n  (3, 60)\\t1\\n  (3, 46)\\t1\\n  (3, 52)\\t1\\n  (3, 85)\\t1\\n  (4, 41)\\t1\\n  (4, 3)\\t1\\n  (4, 90)\\t1\\n  (4, 9)\\t1\\n  :\\t:\\n  (8, 8)\\t1\\n  (8, 78)\\t1\\n  (8, 23)\\t1\\n  (8, 83)\\t1\\n  (8, 74)\\t1\\n  (8, 89)\\t1\\n  (8, 10)\\t1\\n  (8, 68)\\t1\\n  (8, 37)\\t1\\n  (8, 54)\\t1\\n  (8, 34)\\t1\\n  (8, 94)\\t1\\n  (8, 45)\\t1\\n  (8, 71)\\t1\\n  (8, 61)\\t1\\n  (9, 26)\\t1\\n  (9, 73)\\t1\\n  (9, 53)\\t1\\n  (9, 50)\\t1\\n  (9, 4)\\t1\\n  (9, 21)\\t1\\n  (9, 6)\\t1\\n  (9, 30)\\t1\\n  (9, 69)\\t1\\n  (9, 45)\\t1</td>\n",
       "      <td>(0, 85)\\t1.0\\n  (1, 31)\\t0.57735026919\\n  (1, 2)\\t0.57735026919\\n  (1, 29)\\t0.57735026919\\n  (2, 1)\\t0.707106781187\\n  (2, 34)\\t0.707106781187\\n  (3, 88)\\t0.272194186817\\n  (3, 54)\\t0.272194186817\\n  (3, 48)\\t0.272194186817\\n  (3, 63)\\t0.272194186817\\n  (3, 16)\\t0.272194186817\\n  (3, 100)\\t0.272194186817\\n  (3, 89)\\t0.272194186817\\n  (3, 19)\\t0.215066019686\\n  (3, 73)\\t0.272194186817\\n  (3, 65)\\t0.272194186817\\n  (3, 58)\\t0.215066019686\\n  (3, 42)\\t0.215066019686\\n  (3, 87)\\t0.215066019686\\n  (3, 83)\\t0.272194186817\\n  (3, 78)\\t0.272194186817\\n  (4, 42)\\t0.198319422912\\n  (4, 22)\\t0.250999177501\\n  (4, 79)\\t0.250999177501\\n  (4, 6)\\t0.250999177501\\n  :\\t:\\n  (8, 97)\\t0.201877903622\\n  (8, 36)\\t0.255502900426\\n  (8, 56)\\t0.255502900426\\n  (8, 39)\\t0.255502900426\\n  (8, 71)\\t0.255502900426\\n  (8, 12)\\t0.255502900426\\n  (8, 92)\\t0.255502900426\\n  (8, 77)\\t0.255502900426\\n  (8, 86)\\t0.255502900426\\n  (8, 25)\\t0.255502900426\\n  (8, 81)\\t0.255502900426\\n  (8, 10)\\t0.255502900426\\n  (8, 13)\\t0.255502900426\\n  (8, 15)\\t0.255502900426\\n  (9, 47)\\t0.210302866256\\n  (9, 72)\\t0.248992306631\\n  (9, 32)\\t0.315132341808\\n  (9, 7)\\t0.315132341808\\n  (9, 23)\\t0.315132341808\\n  (9, 5)\\t0.315132341808\\n  (9, 52)\\t0.315132341808\\n  (9, 55)\\t0.315132341808\\n  (9, 76)\\t0.315132341808\\n  (9, 28)\\t0.315132341808\\n  (9, 9)\\t0.315132341808</td>\n",
       "      <td>[[[[[ 1.]]]], [[[[ 1.73205081]]]], [[[[ 1.41421356]]]], [[[[ 3.85440013]]]], [[[[ 4.10894675]]]], [[[[ 4.50924761]]]], [[[[ 4.23763031]]]], [[[[ 2.81550632]]]], [[[[ 4.09768071]]]], [[[[ 3.29548625]]]]]</td>\n",
       "      <td>[1, 3, 2, 15, 16, 21, 17, 8, 17, 11]</td>\n",
       "    </tr>\n",
       "    <tr>\n",
       "      <th>2</th>\n",
       "      <td>[robinson, ready, difficult, task, england, coach, andy, robinson, faces, first, major, test, tenure, tries, get, back, winning, ways, six, nations, defeat, wales, robinson, likely, make, changes, back, row, centre, 119, loss, contemplates, sundays, setto, france, twickenham, lewis, moody, martin, corry, could, return, missing, game, hamstring, shoulder, problems, midfield, pairing, mathew, tait, jamie, noon, also, threat, olly, barkley, immediately, allowed, england, generate, better, field, position, kicking, game, replacing, debutant, tait, hour, bath, flyhalfcumcentre, likely, start, france, either, tait, noon, dropping, tait, given, little, opportunity, shine, attack, received, praise, robinson, afterwards, even, coach, admitted, cardiff, unforgiving, place, teenage, prodigy, robinson, tricky, decision, ...]</td>\n",
       "      <td>england coach andy robinson faces first major test tenure tries get back winning ways six nations defeat wales bath fly half cum centre likely start france either tait noon dropping robinson likely make changes back row centre 11 9 loss contemplates sunday set france twickenham likely leicester flanker return open side physical challenge posed french forwards andy hazell likely make way midfield pairing mathew tait jamie noon also threat tait given little opportunity shine attack received praise robinson afterwards even coach admitted cardiff unforgiving place teenage prodigy newcastle team mate noon hardly covered glory first major test olly barkley immediately allowed england generate better field position kicking game replacing debutant tait hour</td>\n",
       "      <td>Robinson ready difficult task England coach Andy Robinson faces first major test tenure tries get back winning ways Six Nations defeat Wales Robinson likely make changes back row centre 119 loss contemplates Sundays setto France Twickenham Lewis Moody Martin Corry could return missing game hamstring shoulder problems And midfield pairing Mathew Tait Jamie Noon also threat Olly Barkley immediately allowed England generate better field position kicking game replacing debutant Tait hour The Bath flyhalfcumcentre likely start France either Tait Noon dropping Tait given little opportunity shine attack received praise Robinson afterwards even coach admitted Cardiff unforgiving place teenage prodigy Robinson tricky decision whether withdraw firing line one outing player regards central Englands future Tait least outwardly appeared unaffected punishing treatment dished Gavin Henson particular I want definitely said Hopefully I train hard week get selected next week well look video wait see We playing 22 lot first half quite difficult I thought defended reasonably well weve got pick France His Newcastle teammate Noon hardly covered glory first major Test He missed tackle Michael Owen buildup Wales try conceded penalty breakdown turned another tackle fumbled Gavin Hensons crosskick touch inside first quarter His contribution improved second half England clearly need playmaker inside centre role Up front lineout remains fallible despite superb performance Chris Jones whose athleticism came fore stepping side Moody It likely Leicester flanker return open side physical challenge posed French forwards Andy Hazell likely make way Lock Ben Kay also justified recall impressive allround display return side elsewhere England positives thin ground</td>\n",
       "      <td>[england coach andy robinson faces the first major test of his tenure as he tries to get back to winning ways after the six nations defeat by wales., robinson is likely to make changes in the back row and centre after the 11-9 loss as he contemplates sunday's set-to with france at twickenham, lewis moody and martin corry could both return after missing the game with hamstring and shoulder problems, and the midfield pairing of mathew tait and jamie noon is also under threat, olly barkley immediately allowed england to generate better field position with his kicking game after replacing debutant tait just before the hour, the bath fly-half-cum-centre is likely to start against france, with either tait or noon dropping out., tait, given little opportunity to shine in attack, received praise from robinson afterwards, even if the coach admitted cardiff was an \"unforgiving place\" for the teenage prodigy, robinson now has a tricky decision over whether to withdraw from the firing line, after just one outing, a player he regards as central to england's future, tait himself, at least outwardly, appeared unaffected by the punishing treatment dished out to him by gavin henson in particular, \"i want more of that definitely,\" he said, \"hopefully i can train hard this week and get selected for next week but we'll have to look at the video and wait and see, \"we were playing on our own 22 for a lot of the first half so it was quite difficult, i thought we defended reasonably well but we've just got to pick it up for france.\", his newcastle team-mate noon hardly covered himself in glory in his first major test, he missed a tackle on michael owen in the build-up to wales' try, conceded a penalty at the breakdown, was turned over in another tackle and fumbled gavin henson's cross-kick into touch, all inside the first quarter, his contribution improved in the second half, but england clearly need more of a playmaker in the inside centre role, up front, the line-out remains fallible, despite a superb performance from chris jones, whose athleticism came to the fore after stepping into the side for moody, it is more likely the leicester flanker will return on the open side for the more physical challenge posed by the french forwards, with andy hazell likely to make way, lock ben kay also justified his recall with an impressive all-round display on his return to the side, but elsewhere england positives were thin on the ground.]</td>\n",
       "      <td>robinson ready for difficult task</td>\n",
       "      <td>[robinson, ready, difficult, task]</td>\n",
       "      <td>(0, 229)\\t1\\n  (0, 28)\\t1\\n  (0, 49)\\t1\\n  (0, 137)\\t1\\n  (0, 195)\\t1\\n  (0, 3)\\t1\\n  (0, 233)\\t1\\n  (0, 241)\\t1\\n  (0, 18)\\t1\\n  (0, 80)\\t1\\n  (0, 213)\\t2\\n  (0, 218)\\t1\\n  (0, 92)\\t1\\n  (0, 14)\\t1\\n  (0, 205)\\t1\\n  (0, 96)\\t1\\n  (0, 143)\\t1\\n  (0, 206)\\t1\\n  (0, 126)\\t1\\n  (0, 65)\\t1\\n  (0, 208)\\t2\\n  (0, 61)\\t1\\n  (0, 183)\\t1\\n  (0, 11)\\t1\\n  (0, 38)\\t1\\n  :\\t:\\n  (18, 84)\\t1\\n  (18, 209)\\t1\\n  (18, 169)\\t1\\n  (18, 58)\\t1\\n  (18, 55)\\t1\\n  (18, 185)\\t1\\n  (18, 101)\\t1\\n  (18, 177)\\t1\\n  (18, 111)\\t1\\n  (18, 112)\\t1\\n  (18, 22)\\t1\\n  (18, 122)\\t1\\n  (18, 194)\\t1\\n  (18, 6)\\t1\\n  (18, 145)\\t2\\n  (18, 237)\\t1\\n  (18, 27)\\t1\\n  (18, 9)\\t1\\n  (18, 8)\\t1\\n  (18, 182)\\t1\\n  (18, 242)\\t1\\n  (18, 213)\\t1\\n  (18, 96)\\t2\\n  (18, 208)\\t2\\n  (18, 59)\\t1</td>\n",
       "      <td>(0, 61)\\t0.142819907104\\n  (0, 40)\\t0.198864659747\\n  (0, 13)\\t0.198864659747\\n  (0, 186)\\t0.156468441027\\n  (0, 63)\\t0.241260878468\\n  (0, 212)\\t0.143352007174\\n  (0, 67)\\t0.156468441027\\n  (0, 129)\\t0.198864659747\\n  (0, 210)\\t0.198864659747\\n  (0, 146)\\t0.142819907104\\n  (0, 98)\\t0.142819907104\\n  (0, 209)\\t0.241260878468\\n  (0, 16)\\t0.174064461624\\n  (0, 94)\\t0.142819907104\\n  (0, 222)\\t0.241260878468\\n  (0, 217)\\t0.168752453633\\n  (0, 82)\\t0.198864659747\\n  (0, 20)\\t0.198864659747\\n  (0, 245)\\t0.241260878468\\n  (0, 237)\\t0.241260878468\\n  (0, 5)\\t0.131668242903\\n  (0, 199)\\t0.241260878468\\n  (0, 140)\\t0.241260878468\\n  (0, 51)\\t0.241260878468\\n  (0, 30)\\t0.174064461624\\n  :\\t:\\n  (18, 61)\\t0.131106229446\\n  (18, 212)\\t0.131594688199\\n  (18, 98)\\t0.262212458891\\n  (18, 217)\\t0.0774559315787\\n  (18, 246)\\t0.120869192641\\n  (18, 185)\\t0.159788195544\\n  (18, 10)\\t0.182554352808\\n  (18, 11)\\t0.182554352808\\n  (18, 29)\\t0.143635349905\\n  (18, 241)\\t0.182554352808\\n  (18, 148)\\t0.28727069981\\n  (18, 8)\\t0.182554352808\\n  (18, 198)\\t0.159788195544\\n  (18, 125)\\t0.22147335571\\n  (18, 24)\\t0.22147335571\\n  (18, 115)\\t0.22147335571\\n  (18, 114)\\t0.22147335571\\n  (18, 180)\\t0.22147335571\\n  (18, 104)\\t0.22147335571\\n  (18, 188)\\t0.22147335571\\n  (18, 57)\\t0.22147335571\\n  (18, 60)\\t0.22147335571\\n  (18, 172)\\t0.22147335571\\n  (18, 213)\\t0.22147335571\\n  (18, 86)\\t0.22147335571</td>\n",
       "      <td>[[[[[ 4.99825778]]]], [[[[ 4.97747509]]]], [[[[ 3.87217756]]]], [[[[ 3.46684921]]]], [[[[ 4.50690467]]]], [[[[ 4.19166719]]]], [[[[ 4.97152175]]]], [[[[ 4.96012781]]]], [[[[ 4.16039906]]]], [[[[ 2.76555174]]]], [[[[ 4.46819406]]]], [[[[ 4.22036441]]]], [[[[ 3.84114683]]]], [[[[ 3.56227377]]]], [[[[ 5.69130785]]]], [[[[ 4.13739368]]]], [[[[ 4.88486318]]]], [[[[ 4.81092235]]]], [[[[ 4.86161862]]]]]</td>\n",
       "      <td>[28, 25, 17, 14, 22, 16, 27, 27, 20, 8, 25, 19, 16, 14, 37, 20, 26, 30, 27]</td>\n",
       "    </tr>\n",
       "  </tbody>\n",
       "</table>\n",
       "</div>"
      ],
      "text/plain": [
       "                                                                                                                                                                                                                                                                                                                                                                                                                                                                                                                                                                                                                                                                                                                                                                                                                                                                                              news  \\\n",
       "0  [call, kenteris, cleared, kostas, kenteris, lawyer, called, doping, charges, greek, sprinter, dropped, gregory, ioannidis, submitted, new, evidence, greek, athletics, tribunal, claims, proves, former, olympic, champion, case, answer, kenteris, compatriot, katerina, thanou, given, provisional, suspensions, december, failing, take, drugs, tests, athens, olympics, greek, tribunal, expected, give, verdict, early, next, week, kenteris, thanou, withdrew, athens, olympics, last, august, missing, drugs, tests, eve, opening, ceremony, also, alleged, avoided, tests, tel, aviv, chicago, games, ioannidis, said, everything, overwhelmingly, shows, charges, dropped, ioannidis, also, said, presented, evidence, throw, different, light, events, leading, pairs, sensational, withdrawal, athens, games, lawyer, added, proof, authorities, knew, kenteris, germany, time, ...]   \n",
       "1  [worcester, v, sale, fri, sixways, friday, 25, february, 2000, gmt, make, one, change, tim, collier, replacing, phil, murphy, second, row, contrast, sale, missing, 14, players, due, combination, international, callups, injuries, john, payne, chris, rhys, jones, come, centres, scrumhalf, richard, wigglesworth, looks, set, play, wing, delport, pieters, rasmussen, lombard, oleary, brown, powell, windo, van, niekerk, horsman, collier, gillies, hickey, sanderson, macleod, henderson, replacements, fortey, murphy, daly, vaili, cole, hayes, trueman, hanley, mayor, payne, rhys, jones, wigglesworth, hercus, redpath, capt, turner, roddam, stewart, day, schofield, caillet, carter, chabal, replacements, bozzi, coutts, anglesea, lund, martens, riley, duffy, c, jones]                                                                                                       \n",
       "2  [robinson, ready, difficult, task, england, coach, andy, robinson, faces, first, major, test, tenure, tries, get, back, winning, ways, six, nations, defeat, wales, robinson, likely, make, changes, back, row, centre, 119, loss, contemplates, sundays, setto, france, twickenham, lewis, moody, martin, corry, could, return, missing, game, hamstring, shoulder, problems, midfield, pairing, mathew, tait, jamie, noon, also, threat, olly, barkley, immediately, allowed, england, generate, better, field, position, kicking, game, replacing, debutant, tait, hour, bath, flyhalfcumcentre, likely, start, france, either, tait, noon, dropping, tait, given, little, opportunity, shine, attack, received, praise, robinson, afterwards, even, coach, admitted, cardiff, unforgiving, place, teenage, prodigy, robinson, tricky, decision, ...]                                          \n",
       "\n",
       "                                                                                                                                                                                                                                                                                                                                                                                                                                                                                                                                                                                                                                                                                                                                                                                      summ  \\\n",
       "0  kostas kenteris lawyer called doping charges greek sprinter dropped kenteris compatriot katerina thanou given provisional suspensions december failing take drugs tests athens olympics kenteris thanou withdrew athens olympics last august missing drugs tests eve opening ceremony lawyer added proof authorities knew kenteris germany time alleged missed test chicago gregory ioannidis submitted new evidence greek athletics tribunal claims proves former olympic champion case answer                                                                                                                                                                                                                                                                                           \n",
       "1  john payne chris rhys jones come centres scrum half richard wigglesworth looks set play wing hanley mayor payne rhys jones wigglesworth hercus redpath capt turner roddam stewart day schofield caillet carter chabal replacements bozzi coutts anglesea lund martens riley duffy c jones                                                                                                                                                                                                                                                                                                                                                                                                                                                                                                 \n",
       "2  england coach andy robinson faces first major test tenure tries get back winning ways six nations defeat wales bath fly half cum centre likely start france either tait noon dropping robinson likely make changes back row centre 11 9 loss contemplates sunday set france twickenham likely leicester flanker return open side physical challenge posed french forwards andy hazell likely make way midfield pairing mathew tait jamie noon also threat tait given little opportunity shine attack received praise robinson afterwards even coach admitted cardiff unforgiving place teenage prodigy newcastle team mate noon hardly covered glory first major test olly barkley immediately allowed england generate better field position kicking game replacing debutant tait hour   \n",
       "\n",
       "                                                                                                                                                                                                                                                                                                                                                                                                                                                                                                                                                                                                                                                                                                                                                                                                                                                                                                                                                                                                                                                                                                                                                                                                                                                                                                                                                                                                                                                                                                                                                                                                                                                                                                                                                                                                                          tryvec  \\\n",
       "0  Call Kenteris cleared Kostas Kenteris lawyer called doping charges Greek sprinter dropped Gregory Ioannidis submitted new evidence Greek athletics tribunal claims proves former Olympic champion case answer Kenteris compatriot Katerina Thanou given provisional suspensions December failing take drugs tests Athens Olympics The Greek tribunal expected give verdict early next week Kenteris Thanou withdrew Athens Olympics last August missing drugs tests eve opening ceremony They also alleged avoided tests Tel Aviv Chicago Games But Ioannidis said Everything overwhelmingly shows charges dropped Ioannidis also said presented evidence throw different light events leading pairs sensational withdrawal Athens Games The lawyer added proof authorities knew Kenteris Germany time alleged missed test Chicago Nick Davies spokesman athletics ruling body IAAF handed provisional bans said We cant comment present hearing dont know said behind closed doors We expect verdict Greek Athletics Federation end February obviously making statement Kenteris 200m gold 2000 Sydney Olympics Thanou silver 100m                                                                                                                                                                                                                                                                                                                                                                                                                                                                                                                                                                                                                                                                                             \n",
       "1  Worcester v Sale Fri Sixways Friday 25 February 2000 GMT They make one change Tim Collier replacing Phil Murphy second row In contrast Sale missing 14 players due combination international callups injuries John Payne Chris Rhys Jones come centres scrumhalf Richard Wigglesworth looks set play wing Delport Pieters Rasmussen Lombard OLeary Brown Powell Windo Van Niekerk Horsman Collier Gillies Hickey Sanderson MacLeod Henderson Replacements Fortey Murphy Daly Vaili Cole Hayes Trueman Hanley Mayor Payne Rhys Jones Wigglesworth Hercus Redpath capt Turner Roddam Stewart Day Schofield Caillet Carter Chabal Replacements Bozzi Coutts Anglesea Lund Martens Riley Duffy C Jones                                                                                                                                                                                                                                                                                                                                                                                                                                                                                                                                                                                                                                                                                                                                                                                                                                                                                                                                                                                                                                                                                                                              \n",
       "2  Robinson ready difficult task England coach Andy Robinson faces first major test tenure tries get back winning ways Six Nations defeat Wales Robinson likely make changes back row centre 119 loss contemplates Sundays setto France Twickenham Lewis Moody Martin Corry could return missing game hamstring shoulder problems And midfield pairing Mathew Tait Jamie Noon also threat Olly Barkley immediately allowed England generate better field position kicking game replacing debutant Tait hour The Bath flyhalfcumcentre likely start France either Tait Noon dropping Tait given little opportunity shine attack received praise Robinson afterwards even coach admitted Cardiff unforgiving place teenage prodigy Robinson tricky decision whether withdraw firing line one outing player regards central Englands future Tait least outwardly appeared unaffected punishing treatment dished Gavin Henson particular I want definitely said Hopefully I train hard week get selected next week well look video wait see We playing 22 lot first half quite difficult I thought defended reasonably well weve got pick France His Newcastle teammate Noon hardly covered glory first major Test He missed tackle Michael Owen buildup Wales try conceded penalty breakdown turned another tackle fumbled Gavin Hensons crosskick touch inside first quarter His contribution improved second half England clearly need playmaker inside centre role Up front lineout remains fallible despite superb performance Chris Jones whose athleticism came fore stepping side Moody It likely Leicester flanker return open side physical challenge posed French forwards Andy Hazell likely make way Lock Ben Kay also justified recall impressive allround display return side elsewhere England positives thin ground   \n",
       "\n",
       "                                                                                                                                                                                                                                                                                                                                                                                                                                                                                                                                                                                                                                                                                                                                                                                                                                                                                                                                                                                                                                                                                                                                                                                                                                                                                                                                                                                                                                                                                                                                                                                                                                                                                                                                                                                                                                                                                                                                                                                                                                                                                                                                                                                                                                                                                                                                                                                                                                                                                                                                              onews  \\\n",
       "0  [kostas kenteris' lawyer has called for the doping charges against the greek sprinter to be dropped., gregory ioannidis has submitted new evidence to a greek athletics tribunal which he claims proves the former olympic champion has no case to answer, kenteris and compatriot katerina thanou were given provisional suspensions in december for failing to take drugs tests before the athens olympics, the greek tribunal is expected to give its verdict early next week, kenteris and thanou withdrew from the athens olympics last august after missing drugs tests on the eve of the opening ceremony, they were also alleged to have avoided tests in tel aviv and chicago before the games., but ioannidis said: \"everything overwhelmingly shows that the charges should be dropped.\" ioannidis also said he has presented evidence that will throw a different light on the events leading up to the pair's sensational withdrawal from the athens games, the lawyer added that he has proof the authorities \"knew\" kenteris was in germany at the time he was alleged to have missed a test in chicago, nick davies, spokesman for athletics' ruling body the iaaf, which handed out the provisional bans, said: \"we can't comment because we were not present at the hearing and don't know what was said behind closed doors, \"we expect a verdict from the greek athletics federation before the end of february and will obviously be making a statement then.\" kenteris won 200m gold at the 2000 sydney olympics, while thanou won silver in the 100m.]                                                                                                                                                                                                                                                                                                                                                                                                                                                                                                                                                                                                                                                                                                                                                                                                                                                                                                                                                                      \n",
       "1  [sixways, friday, 25 february, 2000 gmt, they make just one change, with tim collier replacing phil murphy in the second row, in contrast, sale are missing 14 players due to a combination of international call-ups and injuries, john payne and chris rhys jones come into the centres while scrum-half richard wigglesworth looks set to play on the wing., delport; pieters, rasmussen, lombard, o'leary; brown, powell; windo, van niekerk, horsman; collier, gillies; hickey, sanderson, macleod- henderson., replacements: fortey, murphy, daly, vaili, cole, hayes, trueman., hanley; mayor, payne, rhys jones, wigglesworth; hercus, redpath (capt); turner, roddam, stewart; day, schofield; caillet, carter, chabal., replacements (from): bozzi, coutts, anglesea, lund, martens, riley, duffy, c jones.]                                                                                                                                                                                                                                                                                                                                                                                                                                                                                                                                                                                                                                                                                                                                                                                                                                                                                                                                                                                                                                                                                                                                                                                                                                                                                                                                                                                                                                                                                                                                                                                                                                                                                                                             \n",
       "2  [england coach andy robinson faces the first major test of his tenure as he tries to get back to winning ways after the six nations defeat by wales., robinson is likely to make changes in the back row and centre after the 11-9 loss as he contemplates sunday's set-to with france at twickenham, lewis moody and martin corry could both return after missing the game with hamstring and shoulder problems, and the midfield pairing of mathew tait and jamie noon is also under threat, olly barkley immediately allowed england to generate better field position with his kicking game after replacing debutant tait just before the hour, the bath fly-half-cum-centre is likely to start against france, with either tait or noon dropping out., tait, given little opportunity to shine in attack, received praise from robinson afterwards, even if the coach admitted cardiff was an \"unforgiving place\" for the teenage prodigy, robinson now has a tricky decision over whether to withdraw from the firing line, after just one outing, a player he regards as central to england's future, tait himself, at least outwardly, appeared unaffected by the punishing treatment dished out to him by gavin henson in particular, \"i want more of that definitely,\" he said, \"hopefully i can train hard this week and get selected for next week but we'll have to look at the video and wait and see, \"we were playing on our own 22 for a lot of the first half so it was quite difficult, i thought we defended reasonably well but we've just got to pick it up for france.\", his newcastle team-mate noon hardly covered himself in glory in his first major test, he missed a tackle on michael owen in the build-up to wales' try, conceded a penalty at the breakdown, was turned over in another tackle and fumbled gavin henson's cross-kick into touch, all inside the first quarter, his contribution improved in the second half, but england clearly need more of a playmaker in the inside centre role, up front, the line-out remains fallible, despite a superb performance from chris jones, whose athleticism came to the fore after stepping into the side for moody, it is more likely the leicester flanker will return on the open side for the more physical challenge posed by the french forwards, with andy hazell likely to make way, lock ben kay also justified his recall with an impressive all-round display on his return to the side, but elsewhere england positives were thin on the ground.]   \n",
       "\n",
       "                               Title                        Titleoutstop  \\\n",
       "0  call for kenteris to be cleared    [call, kenteris, cleared]            \n",
       "1  worcester v sale (fri)             [worcester, v, sale, (fri)]          \n",
       "2  robinson ready for difficult task  [robinson, ready, difficult, task]   \n",
       "\n",
       "                                                                                                                                                                                                                                                                                                                                                                                                                                                                                                                                                                                                                                                                                                                                                                                convec  \\\n",
       "0    (0, 41)\\t1\\n  (0, 18)\\t1\\n  (0, 128)\\t1\\n  (0, 112)\\t1\\n  (0, 62)\\t1\\n  (0, 5)\\t1\\n  (0, 29)\\t1\\n  (0, 40)\\t1\\n  (0, 123)\\t2\\n  (0, 54)\\t1\\n  (0, 24)\\t1\\n  (0, 65)\\t1\\n  (0, 80)\\t1\\n  (0, 75)\\t1\\n  (0, 78)\\t1\\n  (1, 9)\\t1\\n  (1, 26)\\t1\\n  (1, 89)\\t1\\n  (1, 28)\\t1\\n  (1, 93)\\t1\\n  (1, 55)\\t1\\n  (1, 103)\\t1\\n  (1, 31)\\t1\\n  (1, 67)\\t1\\n  (1, 137)\\t1\\n  :\\t:\\n  (9, 142)\\t2\\n  (9, 124)\\t1\\n  (9, 113)\\t1\\n  (9, 83)\\t1\\n  (9, 91)\\t1\\n  (9, 52)\\t1\\n  (9, 44)\\t1\\n  (9, 53)\\t1\\n  (9, 49)\\t1\\n  (9, 133)\\t1\\n  (9, 10)\\t1\\n  (9, 139)\\t1\\n  (9, 92)\\t1\\n  (9, 56)\\t1\\n  (9, 131)\\t1\\n  (9, 94)\\t1\\n  (9, 20)\\t1\\n  (9, 70)\\t1\\n  (9, 121)\\t1\\n  (9, 8)\\t1\\n  (9, 12)\\t1\\n  (9, 18)\\t1\\n  (9, 62)\\t1\\n  (9, 123)\\t4\\n  (9, 75)\\t1                                          \n",
       "1    (0, 82)\\t1\\n  (1, 27)\\t1\\n  (1, 2)\\t1\\n  (1, 29)\\t1\\n  (2, 32)\\t1\\n  (2, 1)\\t1\\n  (3, 75)\\t1\\n  (3, 80)\\t1\\n  (3, 84)\\t1\\n  (3, 40)\\t1\\n  (3, 56)\\t1\\n  (3, 62)\\t1\\n  (3, 70)\\t1\\n  (3, 17)\\t1\\n  (3, 86)\\t1\\n  (3, 97)\\t1\\n  (3, 14)\\t1\\n  (3, 60)\\t1\\n  (3, 46)\\t1\\n  (3, 52)\\t1\\n  (3, 85)\\t1\\n  (4, 41)\\t1\\n  (4, 3)\\t1\\n  (4, 90)\\t1\\n  (4, 9)\\t1\\n  :\\t:\\n  (8, 8)\\t1\\n  (8, 78)\\t1\\n  (8, 23)\\t1\\n  (8, 83)\\t1\\n  (8, 74)\\t1\\n  (8, 89)\\t1\\n  (8, 10)\\t1\\n  (8, 68)\\t1\\n  (8, 37)\\t1\\n  (8, 54)\\t1\\n  (8, 34)\\t1\\n  (8, 94)\\t1\\n  (8, 45)\\t1\\n  (8, 71)\\t1\\n  (8, 61)\\t1\\n  (9, 26)\\t1\\n  (9, 73)\\t1\\n  (9, 53)\\t1\\n  (9, 50)\\t1\\n  (9, 4)\\t1\\n  (9, 21)\\t1\\n  (9, 6)\\t1\\n  (9, 30)\\t1\\n  (9, 69)\\t1\\n  (9, 45)\\t1                                                           \n",
       "2    (0, 229)\\t1\\n  (0, 28)\\t1\\n  (0, 49)\\t1\\n  (0, 137)\\t1\\n  (0, 195)\\t1\\n  (0, 3)\\t1\\n  (0, 233)\\t1\\n  (0, 241)\\t1\\n  (0, 18)\\t1\\n  (0, 80)\\t1\\n  (0, 213)\\t2\\n  (0, 218)\\t1\\n  (0, 92)\\t1\\n  (0, 14)\\t1\\n  (0, 205)\\t1\\n  (0, 96)\\t1\\n  (0, 143)\\t1\\n  (0, 206)\\t1\\n  (0, 126)\\t1\\n  (0, 65)\\t1\\n  (0, 208)\\t2\\n  (0, 61)\\t1\\n  (0, 183)\\t1\\n  (0, 11)\\t1\\n  (0, 38)\\t1\\n  :\\t:\\n  (18, 84)\\t1\\n  (18, 209)\\t1\\n  (18, 169)\\t1\\n  (18, 58)\\t1\\n  (18, 55)\\t1\\n  (18, 185)\\t1\\n  (18, 101)\\t1\\n  (18, 177)\\t1\\n  (18, 111)\\t1\\n  (18, 112)\\t1\\n  (18, 22)\\t1\\n  (18, 122)\\t1\\n  (18, 194)\\t1\\n  (18, 6)\\t1\\n  (18, 145)\\t2\\n  (18, 237)\\t1\\n  (18, 27)\\t1\\n  (18, 9)\\t1\\n  (18, 8)\\t1\\n  (18, 182)\\t1\\n  (18, 242)\\t1\\n  (18, 213)\\t1\\n  (18, 96)\\t2\\n  (18, 208)\\t2\\n  (18, 59)\\t1   \n",
       "\n",
       "                                                                                                                                                                                                                                                                                                                                                                                                                                                                                                                                                                                                                                                                                                                                                                                                                                                                                                                                                                                                                                                                                                                                                                                                                                                                                                                                                                                                                                                tfidf  \\\n",
       "0    (0, 79)\\t0.329060463574\\n  (0, 76)\\t0.168700512007\\n  (0, 81)\\t0.25999719158\\n  (0, 66)\\t0.190933919587\\n  (0, 25)\\t0.329060463574\\n  (0, 55)\\t0.219597767287\\n  (0, 126)\\t0.199274480026\\n  (0, 41)\\t0.329060463574\\n  (0, 30)\\t0.25999719158\\n  (0, 6)\\t0.329060463574\\n  (0, 63)\\t0.190933919587\\n  (0, 114)\\t0.329060463574\\n  (0, 131)\\t0.135175347009\\n  (0, 19)\\t0.219597767287\\n  (0, 42)\\t0.25999719158\\n  (1, 66)\\t0.280023110471\\n  (1, 126)\\t0.0730638378126\\n  (1, 63)\\t0.140011555235\\n  (1, 131)\\t0.198247756137\\n  (1, 64)\\t0.241299541597\\n  (1, 72)\\t0.190655548416\\n  (1, 116)\\t0.241299541597\\n  (1, 87)\\t0.241299541597\\n  (1, 49)\\t0.190655548416\\n  (1, 3)\\t0.140011555235\\n  :\\t:\\n  (9, 71)\\t0.108446905482\\n  (9, 21)\\t0.124727436407\\n  (9, 95)\\t0.124727436407\\n  (9, 134)\\t0.147673555972\\n  (9, 57)\\t0.124727436407\\n  (9, 93)\\t0.147673555972\\n  (9, 142)\\t0.147673555972\\n  (9, 11)\\t0.124727436407\\n  (9, 136)\\t0.147673555972\\n  (9, 50)\\t0.186900206462\\n  (9, 54)\\t0.186900206462\\n  (9, 45)\\t0.186900206462\\n  (9, 53)\\t0.186900206462\\n  (9, 92)\\t0.186900206462\\n  (9, 84)\\t0.186900206462\\n  (9, 115)\\t0.186900206462\\n  (9, 127)\\t0.186900206462\\n  (9, 145)\\t0.373800412923\\n  (9, 2)\\t0.186900206462\\n  (9, 62)\\t0.186900206462\\n  (9, 1)\\t0.186900206462\\n  (9, 118)\\t0.186900206462\\n  (9, 141)\\t0.186900206462\\n  (9, 112)\\t0.186900206462\\n  (9, 0)\\t0.186900206462                                 \n",
       "1    (0, 85)\\t1.0\\n  (1, 31)\\t0.57735026919\\n  (1, 2)\\t0.57735026919\\n  (1, 29)\\t0.57735026919\\n  (2, 1)\\t0.707106781187\\n  (2, 34)\\t0.707106781187\\n  (3, 88)\\t0.272194186817\\n  (3, 54)\\t0.272194186817\\n  (3, 48)\\t0.272194186817\\n  (3, 63)\\t0.272194186817\\n  (3, 16)\\t0.272194186817\\n  (3, 100)\\t0.272194186817\\n  (3, 89)\\t0.272194186817\\n  (3, 19)\\t0.215066019686\\n  (3, 73)\\t0.272194186817\\n  (3, 65)\\t0.272194186817\\n  (3, 58)\\t0.215066019686\\n  (3, 42)\\t0.215066019686\\n  (3, 87)\\t0.215066019686\\n  (3, 83)\\t0.272194186817\\n  (3, 78)\\t0.272194186817\\n  (4, 42)\\t0.198319422912\\n  (4, 22)\\t0.250999177501\\n  (4, 79)\\t0.250999177501\\n  (4, 6)\\t0.250999177501\\n  :\\t:\\n  (8, 97)\\t0.201877903622\\n  (8, 36)\\t0.255502900426\\n  (8, 56)\\t0.255502900426\\n  (8, 39)\\t0.255502900426\\n  (8, 71)\\t0.255502900426\\n  (8, 12)\\t0.255502900426\\n  (8, 92)\\t0.255502900426\\n  (8, 77)\\t0.255502900426\\n  (8, 86)\\t0.255502900426\\n  (8, 25)\\t0.255502900426\\n  (8, 81)\\t0.255502900426\\n  (8, 10)\\t0.255502900426\\n  (8, 13)\\t0.255502900426\\n  (8, 15)\\t0.255502900426\\n  (9, 47)\\t0.210302866256\\n  (9, 72)\\t0.248992306631\\n  (9, 32)\\t0.315132341808\\n  (9, 7)\\t0.315132341808\\n  (9, 23)\\t0.315132341808\\n  (9, 5)\\t0.315132341808\\n  (9, 52)\\t0.315132341808\\n  (9, 55)\\t0.315132341808\\n  (9, 76)\\t0.315132341808\\n  (9, 28)\\t0.315132341808\\n  (9, 9)\\t0.315132341808                                                            \n",
       "2    (0, 61)\\t0.142819907104\\n  (0, 40)\\t0.198864659747\\n  (0, 13)\\t0.198864659747\\n  (0, 186)\\t0.156468441027\\n  (0, 63)\\t0.241260878468\\n  (0, 212)\\t0.143352007174\\n  (0, 67)\\t0.156468441027\\n  (0, 129)\\t0.198864659747\\n  (0, 210)\\t0.198864659747\\n  (0, 146)\\t0.142819907104\\n  (0, 98)\\t0.142819907104\\n  (0, 209)\\t0.241260878468\\n  (0, 16)\\t0.174064461624\\n  (0, 94)\\t0.142819907104\\n  (0, 222)\\t0.241260878468\\n  (0, 217)\\t0.168752453633\\n  (0, 82)\\t0.198864659747\\n  (0, 20)\\t0.198864659747\\n  (0, 245)\\t0.241260878468\\n  (0, 237)\\t0.241260878468\\n  (0, 5)\\t0.131668242903\\n  (0, 199)\\t0.241260878468\\n  (0, 140)\\t0.241260878468\\n  (0, 51)\\t0.241260878468\\n  (0, 30)\\t0.174064461624\\n  :\\t:\\n  (18, 61)\\t0.131106229446\\n  (18, 212)\\t0.131594688199\\n  (18, 98)\\t0.262212458891\\n  (18, 217)\\t0.0774559315787\\n  (18, 246)\\t0.120869192641\\n  (18, 185)\\t0.159788195544\\n  (18, 10)\\t0.182554352808\\n  (18, 11)\\t0.182554352808\\n  (18, 29)\\t0.143635349905\\n  (18, 241)\\t0.182554352808\\n  (18, 148)\\t0.28727069981\\n  (18, 8)\\t0.182554352808\\n  (18, 198)\\t0.159788195544\\n  (18, 125)\\t0.22147335571\\n  (18, 24)\\t0.22147335571\\n  (18, 115)\\t0.22147335571\\n  (18, 114)\\t0.22147335571\\n  (18, 180)\\t0.22147335571\\n  (18, 104)\\t0.22147335571\\n  (18, 188)\\t0.22147335571\\n  (18, 57)\\t0.22147335571\\n  (18, 60)\\t0.22147335571\\n  (18, 172)\\t0.22147335571\\n  (18, 213)\\t0.22147335571\\n  (18, 86)\\t0.22147335571   \n",
       "\n",
       "                                                                                                                                                                                                                                                                                                                                                                                                        sentimport  \\\n",
       "0  [[[[[ 3.74950761]]]], [[[[ 4.57033639]]]], [[[[ 4.40606926]]]], [[[[ 3.31993883]]]], [[[[ 4.26472629]]]], [[[[ 3.85236124]]]], [[[[ 5.61217119]]]], [[[[ 4.50175543]]]], [[[[ 5.53487084]]]], [[[[ 5.49288328]]]]]                                                                                                                                                                                                \n",
       "1  [[[[[ 1.]]]], [[[[ 1.73205081]]]], [[[[ 1.41421356]]]], [[[[ 3.85440013]]]], [[[[ 4.10894675]]]], [[[[ 4.50924761]]]], [[[[ 4.23763031]]]], [[[[ 2.81550632]]]], [[[[ 4.09768071]]]], [[[[ 3.29548625]]]]]                                                                                                                                                                                                        \n",
       "2  [[[[[ 4.99825778]]]], [[[[ 4.97747509]]]], [[[[ 3.87217756]]]], [[[[ 3.46684921]]]], [[[[ 4.50690467]]]], [[[[ 4.19166719]]]], [[[[ 4.97152175]]]], [[[[ 4.96012781]]]], [[[[ 4.16039906]]]], [[[[ 2.76555174]]]], [[[[ 4.46819406]]]], [[[[ 4.22036441]]]], [[[[ 3.84114683]]]], [[[[ 3.56227377]]]], [[[[ 5.69130785]]]], [[[[ 4.13739368]]]], [[[[ 4.88486318]]]], [[[[ 4.81092235]]]], [[[[ 4.86161862]]]]]   \n",
       "\n",
       "                                                                         snlen  \n",
       "0  [16, 24, 21, 12, 21, 16, 39, 27, 36, 38]                                     \n",
       "1  [1, 3, 2, 15, 16, 21, 17, 8, 17, 11]                                         \n",
       "2  [28, 25, 17, 14, 22, 16, 27, 27, 20, 8, 25, 19, 16, 14, 37, 20, 26, 30, 27]  "
      ]
     },
     "execution_count": 34,
     "metadata": {},
     "output_type": "execute_result"
    }
   ],
   "source": [
    "data.head(3)"
   ]
  },
  {
   "cell_type": "code",
   "execution_count": 35,
   "metadata": {},
   "outputs": [],
   "source": [
    "#Converting array to list\n",
    "data['sentimport'] = data['sentimport'].apply(lambda x: x.tolist())"
   ]
  },
  {
   "cell_type": "code",
   "execution_count": 36,
   "metadata": {},
   "outputs": [],
   "source": [
    "#Coonverting list of list to single list\n",
    "data['sentimport'] = data['sentimport'].apply(lambda x : list(itertools.chain(*x)))"
   ]
  },
  {
   "cell_type": "code",
   "execution_count": 37,
   "metadata": {},
   "outputs": [],
   "source": [
    "\n",
    "data['sentimport_mean'] = data.apply(lambda x: [np.divide(x.sentimport, x.snlen)], axis=1)"
   ]
  },
  {
   "cell_type": "code",
   "execution_count": null,
   "metadata": {},
   "outputs": [],
   "source": []
  },
  {
   "cell_type": "code",
   "execution_count": 38,
   "metadata": {},
   "outputs": [],
   "source": [
    "# svec = CountVectorizer()\n",
    "    \n",
    "# sentvec = svec.fit_transform(title,a)\n",
    "# # simlarity = cosine_similarity(title ,a)\n",
    "# sentvec.toarray()"
   ]
  },
  {
   "cell_type": "code",
   "execution_count": 39,
   "metadata": {},
   "outputs": [],
   "source": [
    "def spltsentn(sent , title):\n",
    "    svec = CountVectorizer()\n",
    "    sent.append(title)\n",
    "    \n",
    "    \n",
    "    sentvec = svec.fit_transform(sent)\n",
    "    return(cosine_similarity(sentvec[-1] ,sentvec[:-1]))"
   ]
  },
  {
   "cell_type": "code",
   "execution_count": 40,
   "metadata": {},
   "outputs": [],
   "source": [
    "data['sentsimilarity'] = data.apply(lambda x: [spltsentn(x.onews,x.Title)], axis=1)"
   ]
  },
  {
   "cell_type": "code",
   "execution_count": null,
   "metadata": {},
   "outputs": [],
   "source": []
  },
  {
   "cell_type": "code",
   "execution_count": 41,
   "metadata": {},
   "outputs": [],
   "source": [
    "# data1 = pd.DataFrame({ col:np.repeat(data[col].values, data['news',''].str.len()) for col in data.columns.difference(['news']) }).assign(**{'news':np.concatenate(data['news'].values)})[data.columns.tolist()]"
   ]
  },
  {
   "cell_type": "code",
   "execution_count": 42,
   "metadata": {},
   "outputs": [],
   "source": [
    "datafinal = data[['onews','summ','Title','sentimport_mean','snlen','sentsimilarity']].copy()\n",
    "datafinal['summ'] = dsumm['summ']"
   ]
  },
  {
   "cell_type": "code",
   "execution_count": 43,
   "metadata": {},
   "outputs": [
    {
     "data": {
      "text/html": [
       "<div>\n",
       "<style>\n",
       "    .dataframe thead tr:only-child th {\n",
       "        text-align: right;\n",
       "    }\n",
       "\n",
       "    .dataframe thead th {\n",
       "        text-align: left;\n",
       "    }\n",
       "\n",
       "    .dataframe tbody tr th {\n",
       "        vertical-align: top;\n",
       "    }\n",
       "</style>\n",
       "<table border=\"1\" class=\"dataframe\">\n",
       "  <thead>\n",
       "    <tr style=\"text-align: right;\">\n",
       "      <th></th>\n",
       "      <th>onews</th>\n",
       "      <th>summ</th>\n",
       "      <th>Title</th>\n",
       "      <th>sentimport_mean</th>\n",
       "      <th>snlen</th>\n",
       "      <th>sentsimilarity</th>\n",
       "    </tr>\n",
       "  </thead>\n",
       "  <tbody>\n",
       "    <tr>\n",
       "      <th>0</th>\n",
       "      <td>[kostas kenteris' lawyer has called for the doping charges against the greek sprinter to be dropped., gregory ioannidis has submitted new evidence to a greek athletics tribunal which he claims proves the former olympic champion has no case to answer, kenteris and compatriot katerina thanou were given provisional suspensions in december for failing to take drugs tests before the athens olympics, the greek tribunal is expected to give its verdict early next week, kenteris and thanou withdrew from the athens olympics last august after missing drugs tests on the eve of the opening ceremony, they were also alleged to have avoided tests in tel aviv and chicago before the games., but ioannidis said: \"everything overwhelmingly shows that the charges should be dropped.\" ioannidis also said he has presented evidence that will throw a different light on the events leading up to the pair's sensational withdrawal from the athens games, the lawyer added that he has proof the authorities \"knew\" kenteris was in germany at the time he was alleged to have missed a test in chicago, nick davies, spokesman for athletics' ruling body the iaaf, which handed out the provisional bans, said: \"we can't comment because we were not present at the hearing and don't know what was said behind closed doors, \"we expect a verdict from the greek athletics federation before the end of february and will obviously be making a statement then.\" kenteris won 200m gold at the 2000 sydney olympics, while thanou won silver in the 100m., call for kenteris to be cleared]</td>\n",
       "      <td>Kostas Kenteris' lawyer has called for the doping charges against the Greek sprinter to be dropped.Kenteris and compatriot Katerina Thanou were given provisional suspensions in December for failing to take drugs tests before the Athens Olympics.Kenteris and Thanou withdrew from the Athens Olympics last August after missing drugs tests on the eve of the opening ceremony.The lawyer added that he has proof the authorities \"knew\" Kenteris was in Germany at the time he was alleged to have missed a test in Chicago.Gregory Ioannidis has submitted new evidence to a Greek athletics tribunal which he claims proves the former Olympic champion has no case to answer.</td>\n",
       "      <td>call for kenteris to be cleared</td>\n",
       "      <td>[[0.234344225338, 0.190430682881, 0.20981282196, 0.276661569213, 0.20308220413, 0.24077257752, 0.143901825268, 0.166731682414, 0.153746412319, 0.144549559902]]</td>\n",
       "      <td>[16, 24, 21, 12, 21, 16, 39, 27, 36, 38]</td>\n",
       "      <td>[[[0.38490017946, 0.157134840264, 0.267261241912, 0.117851130198, 0.0785674201318, 0.102062072616, 0.109108945118, 0.132453235707, 0.0601929265429, 0.115470053838]]]</td>\n",
       "    </tr>\n",
       "    <tr>\n",
       "      <th>1</th>\n",
       "      <td>[sixways, friday, 25 february, 2000 gmt, they make just one change, with tim collier replacing phil murphy in the second row, in contrast, sale are missing 14 players due to a combination of international call-ups and injuries, john payne and chris rhys jones come into the centres while scrum-half richard wigglesworth looks set to play on the wing., delport; pieters, rasmussen, lombard, o'leary; brown, powell; windo, van niekerk, horsman; collier, gillies; hickey, sanderson, macleod- henderson., replacements: fortey, murphy, daly, vaili, cole, hayes, trueman., hanley; mayor, payne, rhys jones, wigglesworth; hercus, redpath (capt); turner, roddam, stewart; day, schofield; caillet, carter, chabal., replacements (from): bozzi, coutts, anglesea, lund, martens, riley, duffy, c jones., worcester v sale (fri)]</td>\n",
       "      <td>John Payne and Chris Rhys Jones come into the centres while scrum-half Richard Wigglesworth looks set to play on the wing.Hanley; Mayor, Payne, Rhys Jones, Wigglesworth; Hercus, Redpath (capt); Turner, Roddam, Stewart; Day, Schofield; Caillet, Carter, Chabal.Replacements (from): Bozzi, Coutts, Anglesea, Lund, Martens, Riley, Duffy, C Jones.</td>\n",
       "      <td>worcester v sale (fri)</td>\n",
       "      <td>[[1.0, 0.57735026919, 0.707106781187, 0.256960008915, 0.25680917211, 0.214726076699, 0.249272371142, 0.35193829062, 0.241040041635, 0.299589659015]]</td>\n",
       "      <td>[1, 3, 2, 15, 16, 21, 17, 8, 17, 11]</td>\n",
       "      <td>[[[0.0, 0.0, 0.0, 0.0, 0.144337567297, 0.0, 0.0, 0.0, 0.0, 0.0]]]</td>\n",
       "    </tr>\n",
       "    <tr>\n",
       "      <th>2</th>\n",
       "      <td>[england coach andy robinson faces the first major test of his tenure as he tries to get back to winning ways after the six nations defeat by wales., robinson is likely to make changes in the back row and centre after the 11-9 loss as he contemplates sunday's set-to with france at twickenham, lewis moody and martin corry could both return after missing the game with hamstring and shoulder problems, and the midfield pairing of mathew tait and jamie noon is also under threat, olly barkley immediately allowed england to generate better field position with his kicking game after replacing debutant tait just before the hour, the bath fly-half-cum-centre is likely to start against france, with either tait or noon dropping out., tait, given little opportunity to shine in attack, received praise from robinson afterwards, even if the coach admitted cardiff was an \"unforgiving place\" for the teenage prodigy, robinson now has a tricky decision over whether to withdraw from the firing line, after just one outing, a player he regards as central to england's future, tait himself, at least outwardly, appeared unaffected by the punishing treatment dished out to him by gavin henson in particular, \"i want more of that definitely,\" he said, \"hopefully i can train hard this week and get selected for next week but we'll have to look at the video and wait and see, \"we were playing on our own 22 for a lot of the first half so it was quite difficult, i thought we defended reasonably well but we've just got to pick it up for france.\", his newcastle team-mate noon hardly covered himself in glory in his first major test, he missed a tackle on michael owen in the build-up to wales' try, conceded a penalty at the breakdown, was turned over in another tackle and fumbled gavin henson's cross-kick into touch, all inside the first quarter, his contribution improved in the second half, but england clearly need more of a playmaker in the inside centre role, up front, the line-out remains fallible, despite a superb performance from chris jones, whose athleticism came to the fore after stepping into the side for moody, it is more likely the leicester flanker will return on the open side for the more physical challenge posed by the french forwards, with andy hazell likely to make way, lock ben kay also justified his recall with an impressive all-round display on his return to the side, but elsewhere england positives were thin on the ground., robinson ready for difficult task]</td>\n",
       "      <td>England coach Andy Robinson faces the first major test of his tenure as he tries to get back to winning ways after the Six Nations defeat by Wales.The Bath fly-half-cum-centre is likely to start against France, with either Tait or Noon dropping out.Robinson is likely to make changes in the back row and centre after the 11-9 loss as he contemplates Sunday's set-to with France at Twickenham.It is more likely the Leicester flanker will return on the open side for the more physical challenge posed by the French forwards, with Andy Hazell likely to make way.And the midfield pairing of Mathew Tait and Jamie Noon is also under threat.Tait, given little opportunity to shine in attack, received praise from Robinson afterwards, even if the coach admitted Cardiff was an \"unforgiving place\" for the teenage prodigy.His Newcastle team-mate Noon hardly covered himself in glory in his first major Test.Olly Barkley immediately allowed England to generate better field position with his kicking game after replacing debutant Tait just before the hour.</td>\n",
       "      <td>robinson ready for difficult task</td>\n",
       "      <td>[[0.17850920655, 0.199099003738, 0.22777515061, 0.247632086078, 0.204859303362, 0.261979199383, 0.184130435347, 0.18370843732, 0.208019952777, 0.34569396792, 0.178727762251, 0.222124442842, 0.24007167674, 0.254448126565, 0.153819131052, 0.206869684073, 0.187879353259, 0.160364078173, 0.180059948938]]</td>\n",
       "      <td>[28, 25, 17, 14, 22, 16, 27, 27, 20, 8, 25, 19, 16, 14, 37, 20, 26, 30, 27]</td>\n",
       "      <td>[[[0.0790569415042, 0.0816496580928, 0.0, 0.0, 0.0, 0.0, 0.166090959707, 0.0860662965824, 0.0, 0.0, 0.0778498944162, 0.210818510678, 0.105409255339, 0.0, 0.0, 0.0, 0.0790569415042, 0.0659380473396, 0.0]]]</td>\n",
       "    </tr>\n",
       "    <tr>\n",
       "      <th>3</th>\n",
       "      <td>[andy roddick is reportedly close to confirming us davis cup assistant dean goldfine as his new coach., roddick ended his 18-month partnership with brad gilbert on monday, and goldfine admits talks have taken place, \"we had a really good conversation and we're on the same page in terms of what i expect from a player in commitment and what he wants,\" said goldfine, \"the reading i got from him is that i would have a lot of the qualities he's looking for in a coach.\" speaking to told south florida's sun-sentinel newspaper, goldfine added: \"that being said, from his standpoint, which is smart, he wants to cover all his bases, \"i think andy wants a long-term relationship and wants to make sure it's the right fit.., the best fit.\" goldfine, 39, has worked with todd martin and roddick's close friend mardy fish, and was an assistant coach with the us olympic team, martin is the other name to have been linked to the vacant post alongside roddick., roddick in talks over new coach]</td>\n",
       "      <td>Andy Roddick is reportedly close to confirming US Davis Cup assistant Dean Goldfine as his new coach.Goldfine, 39, has worked with Todd Martin and Roddick's close friend Mardy Fish, and was an assistant coach with the US Olympic team.Speaking to told South Florida's Sun-Sentinel newspaper, Goldfine added: \"That being said, from his standpoint, which is smart, he wants to cover all his bases.Roddick ended his 18-month partnership with Brad Gilbert on Monday, and Goldfine admits talks have taken place.</td>\n",
       "      <td>roddick in talks over new coach</td>\n",
       "      <td>[[0.235560282051, 0.242893629744, 0.161344873852, 0.130343707881, 0.248752970345, 0.183205196657, 0.235821212132]]</td>\n",
       "      <td>[17, 17, 29, 47, 16, 26, 15]</td>\n",
       "      <td>[[[0.297044262893, 0.19245008973, 0.138013111868, 0.107211253484, 0.0, 0.144337567297, 0.0936585811582]]]</td>\n",
       "    </tr>\n",
       "    <tr>\n",
       "      <th>4</th>\n",
       "      <td>[world number one lindsay davenport has criticised wimbledon over the issue of equal prize money for women., reacting to a disputed comment by all england club chairman tim phillips, the american said: \"i think it is highly insulting if prize money is taken away, \"somebody, i think it was mr phillips, said they won't have money for flowers at wimbledon, that's insulting.\" an all england club spokesperson denied phillips made the remark, insisting: \"he definitely didn't say it.\" the statement added: \"it was said by someone else and was a humorous aside at the end of a radio interview when the conversation had moved to talking about the wimbledon grounds.\", davenport was speaking following the announcement that this week's dubai duty free event will join the us and australian opens in offering equal prize money for women, \"you hear about women playing only three sets while men play five,\" said daveport, \"and the best women are never going to beat the best men, \"but it's a different game you go to watch with the women - it doesn't make it better or worse, \"hopefully we will be able to change people's minds.\", serena williams, who is also in dubai, added: \"i'm obviously for equal prize money, \"women's tennis is exciting, men's tennis is exciting as well, but the women have it right now, \"if you are bringing in the spectators you should be able to reap what everyone else is able to reap.\", davenport hits out at wimbledon]</td>\n",
       "      <td>Reacting to a disputed comment by All England Club chairman Tim Phillips, the American said: \"I think it is highly insulting if prize money is taken away.\"Somebody, I think it was Mr Phillips, said they won't have money for flowers at Wimbledon.Men's tennis is exciting as well, but the women have it right now.Davenport was speaking following the announcement that this week's Dubai Duty Free event will join the US and Australian Opens in offering equal prize money for women.World number one Lindsay Davenport has criticised Wimbledon over the issue of equal prize money for women.Serena Williams, who is also in Dubai, added: \"I'm obviously for equal prize money.</td>\n",
       "      <td>davenport hits out at wimbledon</td>\n",
       "      <td>[[0.23468065427, 0.183962900076, 0.252251077742, 0.129723346215, 0.188100532102, 0.261716980965, 0.239448888663, 0.207066318205, 0.342607444523, 0.27007510754, 0.542921490842, 0.2770767918, 0.186764060165]]</td>\n",
       "      <td>[17, 27, 16, 50, 27, 14, 12, 20, 9, 14, 4, 13, 20]</td>\n",
       "      <td>[[[0.216930457819, 0.0, 0.230940107676, 0.105409255339, 0.0830454798537, 0.0, 0.0, 0.0, 0.0, 0.0, 0.0, 0.0, 0.0]]]</td>\n",
       "    </tr>\n",
       "  </tbody>\n",
       "</table>\n",
       "</div>"
      ],
      "text/plain": [
       "                                                                                                                                                                                                                                                                                                                                                                                                                                                                                                                                                                                                                                                                                                                                                                                                                                                                                                                                                                                                                                                                                                                                                                                                                                                                                                                                                                                                                                                                                                                                                                                                                                                                                                                                                                                                                                                                                                                                                                                                                                                                                                                                                                                                                                                                                                                                                                                                                                                                                                                                                                                 onews  \\\n",
       "0  [kostas kenteris' lawyer has called for the doping charges against the greek sprinter to be dropped., gregory ioannidis has submitted new evidence to a greek athletics tribunal which he claims proves the former olympic champion has no case to answer, kenteris and compatriot katerina thanou were given provisional suspensions in december for failing to take drugs tests before the athens olympics, the greek tribunal is expected to give its verdict early next week, kenteris and thanou withdrew from the athens olympics last august after missing drugs tests on the eve of the opening ceremony, they were also alleged to have avoided tests in tel aviv and chicago before the games., but ioannidis said: \"everything overwhelmingly shows that the charges should be dropped.\" ioannidis also said he has presented evidence that will throw a different light on the events leading up to the pair's sensational withdrawal from the athens games, the lawyer added that he has proof the authorities \"knew\" kenteris was in germany at the time he was alleged to have missed a test in chicago, nick davies, spokesman for athletics' ruling body the iaaf, which handed out the provisional bans, said: \"we can't comment because we were not present at the hearing and don't know what was said behind closed doors, \"we expect a verdict from the greek athletics federation before the end of february and will obviously be making a statement then.\" kenteris won 200m gold at the 2000 sydney olympics, while thanou won silver in the 100m., call for kenteris to be cleared]                                                                                                                                                                                                                                                                                                                                                                                                                                                                                                                                                                                                                                                                                                                                                                                                                                                                                                                                                                        \n",
       "1  [sixways, friday, 25 february, 2000 gmt, they make just one change, with tim collier replacing phil murphy in the second row, in contrast, sale are missing 14 players due to a combination of international call-ups and injuries, john payne and chris rhys jones come into the centres while scrum-half richard wigglesworth looks set to play on the wing., delport; pieters, rasmussen, lombard, o'leary; brown, powell; windo, van niekerk, horsman; collier, gillies; hickey, sanderson, macleod- henderson., replacements: fortey, murphy, daly, vaili, cole, hayes, trueman., hanley; mayor, payne, rhys jones, wigglesworth; hercus, redpath (capt); turner, roddam, stewart; day, schofield; caillet, carter, chabal., replacements (from): bozzi, coutts, anglesea, lund, martens, riley, duffy, c jones., worcester v sale (fri)]                                                                                                                                                                                                                                                                                                                                                                                                                                                                                                                                                                                                                                                                                                                                                                                                                                                                                                                                                                                                                                                                                                                                                                                                                                                                                                                                                                                                                                                                                                                                                                                                                                                                                                                                        \n",
       "2  [england coach andy robinson faces the first major test of his tenure as he tries to get back to winning ways after the six nations defeat by wales., robinson is likely to make changes in the back row and centre after the 11-9 loss as he contemplates sunday's set-to with france at twickenham, lewis moody and martin corry could both return after missing the game with hamstring and shoulder problems, and the midfield pairing of mathew tait and jamie noon is also under threat, olly barkley immediately allowed england to generate better field position with his kicking game after replacing debutant tait just before the hour, the bath fly-half-cum-centre is likely to start against france, with either tait or noon dropping out., tait, given little opportunity to shine in attack, received praise from robinson afterwards, even if the coach admitted cardiff was an \"unforgiving place\" for the teenage prodigy, robinson now has a tricky decision over whether to withdraw from the firing line, after just one outing, a player he regards as central to england's future, tait himself, at least outwardly, appeared unaffected by the punishing treatment dished out to him by gavin henson in particular, \"i want more of that definitely,\" he said, \"hopefully i can train hard this week and get selected for next week but we'll have to look at the video and wait and see, \"we were playing on our own 22 for a lot of the first half so it was quite difficult, i thought we defended reasonably well but we've just got to pick it up for france.\", his newcastle team-mate noon hardly covered himself in glory in his first major test, he missed a tackle on michael owen in the build-up to wales' try, conceded a penalty at the breakdown, was turned over in another tackle and fumbled gavin henson's cross-kick into touch, all inside the first quarter, his contribution improved in the second half, but england clearly need more of a playmaker in the inside centre role, up front, the line-out remains fallible, despite a superb performance from chris jones, whose athleticism came to the fore after stepping into the side for moody, it is more likely the leicester flanker will return on the open side for the more physical challenge posed by the french forwards, with andy hazell likely to make way, lock ben kay also justified his recall with an impressive all-round display on his return to the side, but elsewhere england positives were thin on the ground., robinson ready for difficult task]   \n",
       "3  [andy roddick is reportedly close to confirming us davis cup assistant dean goldfine as his new coach., roddick ended his 18-month partnership with brad gilbert on monday, and goldfine admits talks have taken place, \"we had a really good conversation and we're on the same page in terms of what i expect from a player in commitment and what he wants,\" said goldfine, \"the reading i got from him is that i would have a lot of the qualities he's looking for in a coach.\" speaking to told south florida's sun-sentinel newspaper, goldfine added: \"that being said, from his standpoint, which is smart, he wants to cover all his bases, \"i think andy wants a long-term relationship and wants to make sure it's the right fit.., the best fit.\" goldfine, 39, has worked with todd martin and roddick's close friend mardy fish, and was an assistant coach with the us olympic team, martin is the other name to have been linked to the vacant post alongside roddick., roddick in talks over new coach]                                                                                                                                                                                                                                                                                                                                                                                                                                                                                                                                                                                                                                                                                                                                                                                                                                                                                                                                                                                                                                                                                                                                                                                                                                                                                                                                                                                                                                                                                                                                                             \n",
       "4  [world number one lindsay davenport has criticised wimbledon over the issue of equal prize money for women., reacting to a disputed comment by all england club chairman tim phillips, the american said: \"i think it is highly insulting if prize money is taken away, \"somebody, i think it was mr phillips, said they won't have money for flowers at wimbledon, that's insulting.\" an all england club spokesperson denied phillips made the remark, insisting: \"he definitely didn't say it.\" the statement added: \"it was said by someone else and was a humorous aside at the end of a radio interview when the conversation had moved to talking about the wimbledon grounds.\", davenport was speaking following the announcement that this week's dubai duty free event will join the us and australian opens in offering equal prize money for women, \"you hear about women playing only three sets while men play five,\" said daveport, \"and the best women are never going to beat the best men, \"but it's a different game you go to watch with the women - it doesn't make it better or worse, \"hopefully we will be able to change people's minds.\", serena williams, who is also in dubai, added: \"i'm obviously for equal prize money, \"women's tennis is exciting, men's tennis is exciting as well, but the women have it right now, \"if you are bringing in the spectators you should be able to reap what everyone else is able to reap.\", davenport hits out at wimbledon]                                                                                                                                                                                                                                                                                                                                                                                                                                                                                                                                                                                                                                                                                                                                                                                                                                                                                                                                                                                                                                                                                      \n",
       "\n",
       "                                                                                                                                                                                                                                                                                                                                                                                                                                                                                                                                                                                                                                                                                                                                                                                                                                                                                                                                                                                                                                                                                      summ  \\\n",
       "0  Kostas Kenteris' lawyer has called for the doping charges against the Greek sprinter to be dropped.Kenteris and compatriot Katerina Thanou were given provisional suspensions in December for failing to take drugs tests before the Athens Olympics.Kenteris and Thanou withdrew from the Athens Olympics last August after missing drugs tests on the eve of the opening ceremony.The lawyer added that he has proof the authorities \"knew\" Kenteris was in Germany at the time he was alleged to have missed a test in Chicago.Gregory Ioannidis has submitted new evidence to a Greek athletics tribunal which he claims proves the former Olympic champion has no case to answer.                                                                                                                                                                                                                                                                                                                                                                                                    \n",
       "1  John Payne and Chris Rhys Jones come into the centres while scrum-half Richard Wigglesworth looks set to play on the wing.Hanley; Mayor, Payne, Rhys Jones, Wigglesworth; Hercus, Redpath (capt); Turner, Roddam, Stewart; Day, Schofield; Caillet, Carter, Chabal.Replacements (from): Bozzi, Coutts, Anglesea, Lund, Martens, Riley, Duffy, C Jones.                                                                                                                                                                                                                                                                                                                                                                                                                                                                                                                                                                                                                                                                                                                                    \n",
       "2  England coach Andy Robinson faces the first major test of his tenure as he tries to get back to winning ways after the Six Nations defeat by Wales.The Bath fly-half-cum-centre is likely to start against France, with either Tait or Noon dropping out.Robinson is likely to make changes in the back row and centre after the 11-9 loss as he contemplates Sunday's set-to with France at Twickenham.It is more likely the Leicester flanker will return on the open side for the more physical challenge posed by the French forwards, with Andy Hazell likely to make way.And the midfield pairing of Mathew Tait and Jamie Noon is also under threat.Tait, given little opportunity to shine in attack, received praise from Robinson afterwards, even if the coach admitted Cardiff was an \"unforgiving place\" for the teenage prodigy.His Newcastle team-mate Noon hardly covered himself in glory in his first major Test.Olly Barkley immediately allowed England to generate better field position with his kicking game after replacing debutant Tait just before the hour.   \n",
       "3  Andy Roddick is reportedly close to confirming US Davis Cup assistant Dean Goldfine as his new coach.Goldfine, 39, has worked with Todd Martin and Roddick's close friend Mardy Fish, and was an assistant coach with the US Olympic team.Speaking to told South Florida's Sun-Sentinel newspaper, Goldfine added: \"That being said, from his standpoint, which is smart, he wants to cover all his bases.Roddick ended his 18-month partnership with Brad Gilbert on Monday, and Goldfine admits talks have taken place.                                                                                                                                                                                                                                                                                                                                                                                                                                                                                                                                                                 \n",
       "4  Reacting to a disputed comment by All England Club chairman Tim Phillips, the American said: \"I think it is highly insulting if prize money is taken away.\"Somebody, I think it was Mr Phillips, said they won't have money for flowers at Wimbledon.Men's tennis is exciting as well, but the women have it right now.Davenport was speaking following the announcement that this week's Dubai Duty Free event will join the US and Australian Opens in offering equal prize money for women.World number one Lindsay Davenport has criticised Wimbledon over the issue of equal prize money for women.Serena Williams, who is also in Dubai, added: \"I'm obviously for equal prize money.                                                                                                                                                                                                                                                                                                                                                                                               \n",
       "\n",
       "                               Title  \\\n",
       "0  call for kenteris to be cleared     \n",
       "1  worcester v sale (fri)              \n",
       "2  robinson ready for difficult task   \n",
       "3  roddick in talks over new coach     \n",
       "4  davenport hits out at wimbledon     \n",
       "\n",
       "                                                                                                                                                                                                                                                                                                 sentimport_mean  \\\n",
       "0  [[0.234344225338, 0.190430682881, 0.20981282196, 0.276661569213, 0.20308220413, 0.24077257752, 0.143901825268, 0.166731682414, 0.153746412319, 0.144549559902]]                                                                                                                                                 \n",
       "1  [[1.0, 0.57735026919, 0.707106781187, 0.256960008915, 0.25680917211, 0.214726076699, 0.249272371142, 0.35193829062, 0.241040041635, 0.299589659015]]                                                                                                                                                            \n",
       "2  [[0.17850920655, 0.199099003738, 0.22777515061, 0.247632086078, 0.204859303362, 0.261979199383, 0.184130435347, 0.18370843732, 0.208019952777, 0.34569396792, 0.178727762251, 0.222124442842, 0.24007167674, 0.254448126565, 0.153819131052, 0.206869684073, 0.187879353259, 0.160364078173, 0.180059948938]]   \n",
       "3  [[0.235560282051, 0.242893629744, 0.161344873852, 0.130343707881, 0.248752970345, 0.183205196657, 0.235821212132]]                                                                                                                                                                                              \n",
       "4  [[0.23468065427, 0.183962900076, 0.252251077742, 0.129723346215, 0.188100532102, 0.261716980965, 0.239448888663, 0.207066318205, 0.342607444523, 0.27007510754, 0.542921490842, 0.2770767918, 0.186764060165]]                                                                                                  \n",
       "\n",
       "                                                                         snlen  \\\n",
       "0  [16, 24, 21, 12, 21, 16, 39, 27, 36, 38]                                      \n",
       "1  [1, 3, 2, 15, 16, 21, 17, 8, 17, 11]                                          \n",
       "2  [28, 25, 17, 14, 22, 16, 27, 27, 20, 8, 25, 19, 16, 14, 37, 20, 26, 30, 27]   \n",
       "3  [17, 17, 29, 47, 16, 26, 15]                                                  \n",
       "4  [17, 27, 16, 50, 27, 14, 12, 20, 9, 14, 4, 13, 20]                            \n",
       "\n",
       "                                                                                                                                                                                                 sentsimilarity  \n",
       "0  [[[0.38490017946, 0.157134840264, 0.267261241912, 0.117851130198, 0.0785674201318, 0.102062072616, 0.109108945118, 0.132453235707, 0.0601929265429, 0.115470053838]]]                                         \n",
       "1  [[[0.0, 0.0, 0.0, 0.0, 0.144337567297, 0.0, 0.0, 0.0, 0.0, 0.0]]]                                                                                                                                             \n",
       "2  [[[0.0790569415042, 0.0816496580928, 0.0, 0.0, 0.0, 0.0, 0.166090959707, 0.0860662965824, 0.0, 0.0, 0.0778498944162, 0.210818510678, 0.105409255339, 0.0, 0.0, 0.0, 0.0790569415042, 0.0659380473396, 0.0]]]  \n",
       "3  [[[0.297044262893, 0.19245008973, 0.138013111868, 0.107211253484, 0.0, 0.144337567297, 0.0936585811582]]]                                                                                                     \n",
       "4  [[[0.216930457819, 0.0, 0.230940107676, 0.105409255339, 0.0830454798537, 0.0, 0.0, 0.0, 0.0, 0.0, 0.0, 0.0, 0.0]]]                                                                                            "
      ]
     },
     "execution_count": 43,
     "metadata": {},
     "output_type": "execute_result"
    }
   ],
   "source": [
    "datafinal.head()"
   ]
  },
  {
   "cell_type": "code",
   "execution_count": 44,
   "metadata": {},
   "outputs": [],
   "source": [
    "# Converting array to list\n",
    "datafinal['sentimport_mean'] = datafinal['sentimport_mean'].apply(lambda x: x[0].tolist())\n",
    "# datafinal['sentimport_mean'] = datafinal['sentimport_mean'].apply(lambda x : list(itertools.chain(*x)))\n",
    "datafinal['sentsimilarity'] = datafinal['sentsimilarity'].apply(lambda x: x[0].tolist())\n",
    "datafinal['sentsimilarity'] = datafinal['sentsimilarity'].apply(lambda x : list(itertools.chain(*x)))"
   ]
  },
  {
   "cell_type": "code",
   "execution_count": null,
   "metadata": {},
   "outputs": [],
   "source": []
  },
  {
   "cell_type": "code",
   "execution_count": 45,
   "metadata": {},
   "outputs": [
    {
     "data": {
      "text/plain": [
       "[0.23434422533760818,\n",
       " 0.19043068288149909,\n",
       " 0.20981282195983314,\n",
       " 0.2766615692127472,\n",
       " 0.20308220412983172,\n",
       " 0.24077257751989953,\n",
       " 0.14390182526787607,\n",
       " 0.16673168241375358,\n",
       " 0.15374641231862948,\n",
       " 0.14454955990218088]"
      ]
     },
     "execution_count": 45,
     "metadata": {},
     "output_type": "execute_result"
    }
   ],
   "source": [
    "datafinal['sentimport_mean'][0]"
   ]
  },
  {
   "cell_type": "code",
   "execution_count": 46,
   "metadata": {},
   "outputs": [
    {
     "data": {
      "text/html": [
       "<div>\n",
       "<style>\n",
       "    .dataframe thead tr:only-child th {\n",
       "        text-align: right;\n",
       "    }\n",
       "\n",
       "    .dataframe thead th {\n",
       "        text-align: left;\n",
       "    }\n",
       "\n",
       "    .dataframe tbody tr th {\n",
       "        vertical-align: top;\n",
       "    }\n",
       "</style>\n",
       "<table border=\"1\" class=\"dataframe\">\n",
       "  <thead>\n",
       "    <tr style=\"text-align: right;\">\n",
       "      <th></th>\n",
       "      <th>onews</th>\n",
       "      <th>summ</th>\n",
       "      <th>Title</th>\n",
       "      <th>sentimport_mean</th>\n",
       "      <th>snlen</th>\n",
       "      <th>sentsimilarity</th>\n",
       "    </tr>\n",
       "  </thead>\n",
       "  <tbody>\n",
       "    <tr>\n",
       "      <th>2220</th>\n",
       "      <td>[the luxury cruise liner crystal harmony, currently in the gulf of mexico, is the unlikely setting for tests of biometric technology., as holidaymakers enjoy balmy breezes, their ship's crew is testing prototype versions of the world's first internationally issued biometric id cards, the seafarer's equivalent of a passport, along with the owner's picture, name and personal details, the new seafarers' identity document incorporates a barcode representing unique features of its holder's fingerprints, the cards are due to be issued in february next year, in line with the revised un convention on seafarers' identity documents of june 2003, tests currently under way in the caribbean are designed to ensure that new cards and their machine readers, produced by different companies in different countries, are working to interoperable standards, results of the current tests, which involve seafarers from a wide range of occupations and nationalities, will be published by the international labour organisation (ilo) by the end of november, crystal cruises, which operates the crystal harmony, is exploring the use of biometrics but has not yet committed to the technology., authenti-corp, the us technology consultancy, has been working with the ilo on its technical specifications for the cards., \"if you're issued a seafarer's id in your country, you want to be sure that when the ship lands in a port in, say, my country you can validate yourself using whatever equipment we have installed,\" authenti-corp's ceo, cynthia musselman, told the bbc's go digital programme, she said french, jordanian and nigerian nationals would be the first seafarers to get the new id cards since their countries have already ratified the convention, it aims to combat international terrorism whilst guaranteeing the welfare the one million seafarers estimated to be at sea, the convention highlights the importance of access to shore facilities and shore leave as vital elements to a sailor's wellbeing and, therefore, it says, to safer shipping and cleaner oceans, \"by increasing security on the seas as well as border control and protection, the cards will hopefully reduce the number of piracy problems around the world,\" said ms musselman, \"it should be a safer environment for seafarers to work in, and will allow people protecting their borders to have confidence that the people getting off the ship are, in fact, seafarers.\", seamen sail into biometric future]</td>\n",
       "      <td>She said French, Jordanian and Nigerian nationals would be the first seafarers to get the new ID cards since their countries have already ratified the convention.The cards are due to be issued in February next year, in line with the revised UN Convention on Seafarers' Identity Documents of June 2003.\"It should be a safer environment for seafarers to work in, and will allow people protecting their borders to have confidence that the people getting off the ship are, in fact, seafarers.\"As holidaymakers enjoy balmy breezes, their ship's crew is testing prototype versions of the world's first internationally issued biometric ID cards, the seafarer's equivalent of a passport.\"If you're issued a seafarer's ID in your country, you want to be sure that when the ship lands in a port in, say, my country you can validate yourself using whatever equipment we have installed,\" Authenti-corp's CEO, Cynthia Musselman, told the BBC's Go Digital programme.The luxury cruise liner Crystal Harmony, currently in the Gulf of Mexico, is the unlikely setting for tests of biometric technology.</td>\n",
       "      <td>seamen sail into biometric future</td>\n",
       "      <td>[0.1994120758533141, 0.18097675005461225, 0.19779990045678505, 0.18473283048601652, 0.16034955448781255, 0.16153416595837458, 0.19435834623610293, 0.22594323240916678, 0.13006222123874628, 0.18261056966078842, 0.21233298116718097, 0.15842544302454326, 0.1677335797869614, 0.15374343242210203]</td>\n",
       "      <td>[21, 27, 24, 25, 30, 30, 21, 18, 46, 26, 19, 30, 29, 32]</td>\n",
       "      <td>[0.08304547985373996, 0.0816496580927726, 0.0, 0.0, 0.0, 0.0, 0.0, 0.0, 0.0, 0.0, 0.0, 0.0, 0.0, 0.0]</td>\n",
       "    </tr>\n",
       "    <tr>\n",
       "      <th>2221</th>\n",
       "      <td>[the bbc's online search engine was used a record amount in 2004, helping with enquires both simple and strange., more than 277 million enquiries were made, asking for informaton of a wide range of subjects, the most requested search terms of 2004 included games, eastenders, cbbc, john peel, harry potter and olympics, but there were many strange enquiries, including: what is a dog?, how do you say basketball? and what is the biggest collection of naval fluff? the search engine works by matching key words typed in to different web pages but many people still type in natural language questions, here are some of the strangest queries of 2004 - spelling and grammar errors left untouched - and their possible solutions:,  - how to fold a serviette like an elf's boot? ,  ,  - how do i structure a french letter? ,  ,  - what is better one long vacation each year or several short vacations throughout the year? ,  ,  - what is so special about the swiss? ,  ,  - what are the contemporary issue in nurses? ,  ,  - what is the number 4 in this number 40052308090? ,  ,  - what is up? ,  ,  - what is the name of james martin's dog? ,  , search engines are key to the way people use the internet, companies such as google have become of paramount importance as they dictate how people travel through websites while online., bbc web search aids odd queries]</td>\n",
       "      <td>Search engines are key to the way people use the internet.The search engine works by matching key words typed in to different web pages but many people still type in natural language questions.The BBC's online search engine was used a record amount in 2004, helping with enquires both simple and strange.But there were many strange enquiries, including: what is a dog?, how do you say basketball?Companies such as Google have become of paramount importance as they dictate how people travel through websites while online.The most requested search terms of 2004 included games, EastEnders, CBBC, John Peel, Harry Potter and Olympics.- What is the name of James Martin's dog?</td>\n",
       "      <td>bbc web search aids odd queries</td>\n",
       "      <td>[0.23081010119260448, 0.24031271501172663, 0.23748286685189104, 0.13000301085285665, 0.1929750155461545, 0.2593623715519017, 0.0, 0.2602586302618352, 0.0, 0.19553584939504973, 0.0, 0.25289219089504694, 0.0, 0.2544202423647878, 0.0, 0.2091429980054388, 0.0, 0.27606724416627815, 0.0, 0.26223571172575394, 0.0, 0.2843100175156633, 0.21493203718504414]</td>\n",
       "      <td>[19, 16, 17, 48, 21, 12, 2, 10, 2, 18, 2, 10, 2, 10, 2, 12, 2, 6, 2, 11, 2, 11, 19]</td>\n",
       "      <td>[0.1924500897298753, 0.0, 0.09901475429766744, 0.1062988006905468, 0.08512565307587487, 0.0, 0.0, 0.0, 0.0, 0.0, 0.0, 0.0, 0.0, 0.0, 0.0, 0.0, 0.0, 0.0, 0.0, 0.0, 0.0, 0.11322770341445959, 0.0]</td>\n",
       "    </tr>\n",
       "    <tr>\n",
       "      <th>2222</th>\n",
       "      <td>[faster, better or funkier hardware alone is not going to help phone firms sell more handsets, research suggests., instead, phone firms keen to get more out of their customers should not just be pushing the technology for its own sake, consumers are far more interested in how handsets fit in with their lifestyle than they are in screen size, onboard memory or the chip inside, shows an in-depth study by telecommunications company ericsson, \"historically in the industry there has been too much focus on using technology,\" said dr michael bjorn, senior advisor on mobile media at ericsson's consumer and enterprise lab, \"we have to stop saying that these technologies will change their lives,\" he said, \"we should try to speak to consumers in their own language and help them see how it fits in with what they are doing,\" he told the bbc news website., for the study, ericsson interviewed 14,000 mobile phone owners on the ways they use their phone, \"people's habits remain the same,\" said dr bjorn, \"they just move the activity into the mobile phone as it's a much more convenient way to do it.\", one good example of this was diary-writing among younger people, he said, while diaries have always been popular, a mobile phone -- especially one equipped with a camera -- helps them keep it in a different form, youngsters' use of text messages also reflects their desire to chat and keep in contact with friends and again just lets them do it in a slightly changed way, dr bjorn said that although consumers do what they always did but use a phone to do it, the sheer variety of what the new handset technologies make possible does gradually drive new habits and lifestyles, ericsson's research has shown that consumers divide into different \"tribes\" that use phones in different ways, dr bjorn said groups dubbed \"pioneers\" and \"materialists\" were most interested in trying new things and were behind the start of many trends in phone use, \"for instance,\" he said, \"older people are using sms much more than they did five years ago.\" this was because younger users, often the children of ageing mobile owners, encouraged older people to try it so they could keep in touch., another factor governing the speed of change in mobile phone use was the simple speed with which new devices are bought by pioneers and materialists, only when about 25% of people have handsets with new innovations on them, such as cameras, can consumers stop worrying that if they send a picture message the person at the other end will be able to see it., once this significant number of users is passed, use of new innovations tends to take off, dr bjorn said that early reports of camera phone usage in japan seemed to imply that the innovation was going to be a flop, however, he said, now 45% of the japanese people ericsson questioned use their camera phone at least once a month, in 2003 the figure was 29%, similarly, across europe the numbers of people taking snaps with cameras is starting to rise, in 2003 only 4% of the people in the uk took a phonecam snap at least once a month, now the figure is 14%, similar rises have been seen in many other european nations, dr bjorn said that people also used their camera phones in very different ways to film and even digital cameras, \"usage patterns for digital cameras are almost exactly replacing usage patterns for analogue cameras,\" he said, digital cameras tend to be used on significant events such as weddings, holidays and birthdays, by contrast, he said, camera phones were being used much more to capture a moment and were being woven into everyday life., lifestyle 'governs mobile choice']</td>\n",
       "      <td>Dr Bjorn said that people also used their camera phones in very different ways to film and even digital cameras.However, he said, now 45% of the Japanese people Ericsson questioned use their camera phone at least once a month.Dr Bjorn said that early reports of camera phone usage in Japan seemed to imply that the innovation was going to be a flop.Dr Bjorn said that although consumers do what they always did but use a phone to do it, the sheer variety of what the new handset technologies make possible does gradually drive new habits and lifestyles.For the study, Ericsson interviewed 14,000 mobile phone owners on the ways they use their phone.Dr Bjorn said groups dubbed \"pioneers\" and \"materialists\" were most interested in trying new things and were behind the start of many trends in phone use.By contrast, he said, camera phones were being used much more to capture a moment and were being woven into everyday life.While diaries have always been popular, a mobile phone -- especially one equipped with a camera -- helps them keep it in a different form.\"Historically in the industry there has been too much focus on using technology,\" said Dr Michael Bjorn, senior advisor on mobile media at Ericsson's consumer and enterprise lab.Another factor governing the speed of change in mobile phone use was the simple speed with which new devices are bought by pioneers and materialists.One good example of this was diary-writing among younger people, he said.\"They just move the activity into the mobile phone as it's a much more convenient way to do it.\"\"People's habits remain the same,\" said Dr Bjorn.</td>\n",
       "      <td>lifestyle 'governs mobile choice'</td>\n",
       "      <td>[0.23011528551803956, 0.20490679805475376, 0.16011318999516136, 0.18135544484072433, 0.25779655147091074, 0.17143419974664745, 0.23670882275137392, 0.3559788894506466, 0.2156462212301408, 0.2888136403847638, 0.1754724352854837, 0.17334189322144344, 0.14716927328746968, 0.23065948441125514, 0.17398390636258812, 0.14186478851070589, 0.1772848141225986, 0.15363522800189647, 0.23610389241175767, 0.1853521185977013, 0.21340427084056893, 0.38459496907942053, 0.24470795224551686, 0.20601409655752267, 0.43148017604100913, 0.30883259758466675, 0.21552825407866413, 0.1997665125685866, 0.2512241897164398, 0.1846657523340096]</td>\n",
       "      <td>[18, 22, 33, 28, 14, 30, 16, 8, 19, 12, 25, 29, 36, 16, 26, 41, 25, 39, 16, 24, 20, 6, 15, 19, 5, 10, 20, 16, 15, 22]</td>\n",
       "      <td>[0.0, 0.0, 0.07216878364870323, 0.09128709291752768, 0.0, 0.0, 0.1091089451179962, 0.0, 0.10660035817780521, 0.0, 0.11180339887498948, 0.0, 0.0, 0.0, 0.0, 0.07293249574894728, 0.09284766908852593, 0.0, 0.0, 0.0, 0.0, 0.0, 0.0, 0.0, 0.0, 0.0, 0.0, 0.0, 0.0, 0.0]</td>\n",
       "    </tr>\n",
       "    <tr>\n",
       "      <th>2223</th>\n",
       "      <td>[the cell processor, which will drive sony's playstation 3, will run 10-times faster than current pc chips, its designers have said., sony, ibm and toshiba, who have been working on the cell processor for three years, unveiled the chip on monday, it is being designed for use in graphics workstations, the new playstation console, and has been described as a supercomputer on a chip, the chip will run at speeds of greater than 4 ghz, the firms said, by comparison, rival chip maker intel's fastest processor runs at 3.8 ghz, details of the chip were released at the international solid state circuits conference in san francisco, the new processor is set to ignite a fresh battle between intel and the cell consortium over which processor sits at the centre of digital products, the playstation 3 is expected in 2006, while toshiba plans to incorporate it into high-end televisions next year, ibm has said it will sell a workstation with the chip starting later this year., cell is comprised of several computing engines, or cores, a core based on ibm's power architecture controls eight \"synergistic\" processing centres, in all, they can simultaneously carry out 10 instruction sequences, compared with two for current intel chips., later this year, intel and advanced micro devices plan to release their own \"multicore\" chips, which also increase the number of instructions that can be executed at once, the cell's specifications suggest the playstation 3 will offer a significant boost in graphics capabilities but analysts cautioned that not all the features in a product announcement will find their way into systems, \"any new technology like this has two components,\" said steve kleynhans, an analyst with meta group, he said: \"it has the vision of what it could be because you need the big vision to sell it, \"then there's the reality of how it's really going to be used, which generally is several levels down the chain from there.\", while the playstation 3 is likely to be the first mass-market product to use cell, the chip's designers have said the flexible architecture means that it would be useful for a wide range of applications, from servers to mobile phones, initial devices are unlikely to be any smaller than a games console, however, because the first version of the cell will run hot enough to need a cooling fan, and while marketing speak describes the chip as a \"supercomputer\" - it remains significantly slower than the slowest computer on the list of the world's top 500 supercomputers, ibm said cell was \"os neutral\" and would support multiple operating systems simultaneously but designers would not confirm if microsoft's windows was among those tested with the chip, if cell is to challenge intel's range of chips in the marketplace, it will need to find itself inside pcs, which predominantly run using windows., playstation 3 processor unveiled]</td>\n",
       "      <td>The Cell processor, which will drive Sony's PlayStation 3, will run 10-times faster than current PC chips, its designers have said.IBM has said it will sell a workstation with the chip starting later this year.The chip will run at speeds of greater than 4 GHz, the firms said.While the PlayStation 3 is likely to be the first mass-market product to use Cell, the chip's designers have said the flexible architecture means that it would be useful for a wide range of applications, from servers to mobile phones.If Cell is to challenge Intel's range of chips in the marketplace, it will need to find itself inside PCs, which predominantly run using Windows.Sony, IBM and Toshiba, who have been working on the Cell processor for three years, unveiled the chip on Monday.It is being designed for use in graphics workstations, the new PlayStation console, and has been described as a supercomputer on a chip.By comparison, rival chip maker Intel's fastest processor runs at 3.8 GHz.IBM said Cell was \"OS neutral\" and would support multiple operating systems simultaneously but designers would not confirm if Microsoft's Windows was among those tested with the chip.</td>\n",
       "      <td>playstation 3 processor unveiled</td>\n",
       "      <td>[0.21484406299731357, 0.20458826604581287, 0.19702764686698998, 0.24708316675237024, 0.3013051708390843, 0.23386698050616023, 0.17640899530074472, 0.2325729096830094, 0.2481134000289013, 0.3188590136519031, 0.29241354434713834, 0.23870140748448693, 0.1828967472887054, 0.1602426639279684, 0.2459978112312464, 0.18329975945830626, 0.19494075434998512, 0.14357021924418006, 0.17164263266161084, 0.17202795257207804, 0.17249245003897568, 0.1914507965373466]</td>\n",
       "      <td>[21, 20, 23, 14, 12, 16, 26, 18, 15, 9, 12, 17, 28, 33, 16, 20, 22, 40, 29, 28, 28, 25]</td>\n",
       "      <td>[0.24077170617153845, 0.2357022603955159, 0.12598815766974242, 0.0, 0.17407765595569785, 0.0, 0.20100756305184245, 0.13608276348795437, 0.0, 0.0, 0.0, 0.0, 0.0, 0.0912870929175277, 0.0, 0.0, 0.0, 0.0751646028002829, 0.0, 0.0, 0.0, 0.0]</td>\n",
       "    </tr>\n",
       "    <tr>\n",
       "      <th>2224</th>\n",
       "      <td>[controversial new eu rules for the patenting of computer-based inventions have been put on hold due to a last minute intervention from poland., poland - a large and therefore crucial eu member - has requested more time to consider the issue, especially as it relates to the patenting of software, critics say the law would favour large companies over small, innovative ones, they say it could have massive ramifications for developments such as open source software., polish ministers want to see the phrasing of the text of the directive on the patentability of computer-implemented inventions changed so that it excludes the patenting of software, the planned law has ignited angry debate about whether the eu should allow the patenting of computer programs and internet business methods as currently happens in the us, so, for instance, us-based amazon.com holds a patent on 'one-click shopping', critics claim the law, which the eu says is needed to harmonise with the us, is little more than a law on ideas, \"patent rights, it is claimed, protect inventors but in this case it is exclusively the interests of the big companies that are protected,\" eva lichtenberg, a austrian green member of the european parliament said in a statement, \"smaller, innovative firms cannot afford the patenting and legal costs that the directive would inflict on them,\" she added, the european parliament has already clashed with the european union on the issue and there have been accusations that the process to decide the issue has been undemocratic, the directive has been subject to several previous delays., eu software patent law delayed]</td>\n",
       "      <td>Poland - a large and therefore crucial EU member - has requested more time to consider the issue, especially as it relates to the patenting of software.The planned law has ignited angry debate about whether the EU should allow the patenting of computer programs and internet business methods as currently happens in the US.Critics say the law would favour large companies over small, innovative ones.Critics claim the law, which the EU says is needed to harmonise with the US, is little more than a law on ideas.The European Parliament has already clashed with the European Union on the issue and there have been accusations that the process to decide the issue has been undemocratic.</td>\n",
       "      <td>eu software patent law delayed</td>\n",
       "      <td>[0.20539121246638095, 0.17334589914878965, 0.28207759814308, 0.26294189984985833, 0.1550600686547021, 0.173821541445394, 0.33272938511279493, 0.18128084725877514, 0.14534505956113727, 0.2179376812276588, 0.1508292170892383, 0.3176720236265621]</td>\n",
       "      <td>[23, 27, 12, 14, 28, 28, 11, 23, 37, 19, 28, 9]</td>\n",
       "      <td>[0.09325048082403138, 0.1690308509457033, 0.12909944487358058, 0.11952286093343936, 0.05725983343138682, 0.1414213562373095, 0.12403473458920845, 0.23717082451262841, 0.06388765649999399, 0.0, 0.0, 0.0]</td>\n",
       "    </tr>\n",
       "  </tbody>\n",
       "</table>\n",
       "</div>"
      ],
      "text/plain": [
       "                                                                                                                                                                                                                                                                                                                                                                                                                                                                                                                                                                                                                                                                                                                                                                                                                                                                                                                                                                                                                                                                                                                                                                                                                                                                                                                                                                                                                                                                                                                                                                                                                                                                                                                                                                                                                                                                                                                                                                                                                                                                                                                                                                                                                                                                                                                                                                                                                                                                                                                                                                                                                                                                                                                                                                                                                                                                                                                                                                                                                                                                                                                                                                                                                                                                                                                                                                                                                                                                                                                                                                                                                                                                                                                                                                                   onews  \\\n",
       "2220  [the luxury cruise liner crystal harmony, currently in the gulf of mexico, is the unlikely setting for tests of biometric technology., as holidaymakers enjoy balmy breezes, their ship's crew is testing prototype versions of the world's first internationally issued biometric id cards, the seafarer's equivalent of a passport, along with the owner's picture, name and personal details, the new seafarers' identity document incorporates a barcode representing unique features of its holder's fingerprints, the cards are due to be issued in february next year, in line with the revised un convention on seafarers' identity documents of june 2003, tests currently under way in the caribbean are designed to ensure that new cards and their machine readers, produced by different companies in different countries, are working to interoperable standards, results of the current tests, which involve seafarers from a wide range of occupations and nationalities, will be published by the international labour organisation (ilo) by the end of november, crystal cruises, which operates the crystal harmony, is exploring the use of biometrics but has not yet committed to the technology., authenti-corp, the us technology consultancy, has been working with the ilo on its technical specifications for the cards., \"if you're issued a seafarer's id in your country, you want to be sure that when the ship lands in a port in, say, my country you can validate yourself using whatever equipment we have installed,\" authenti-corp's ceo, cynthia musselman, told the bbc's go digital programme, she said french, jordanian and nigerian nationals would be the first seafarers to get the new id cards since their countries have already ratified the convention, it aims to combat international terrorism whilst guaranteeing the welfare the one million seafarers estimated to be at sea, the convention highlights the importance of access to shore facilities and shore leave as vital elements to a sailor's wellbeing and, therefore, it says, to safer shipping and cleaner oceans, \"by increasing security on the seas as well as border control and protection, the cards will hopefully reduce the number of piracy problems around the world,\" said ms musselman, \"it should be a safer environment for seafarers to work in, and will allow people protecting their borders to have confidence that the people getting off the ship are, in fact, seafarers.\", seamen sail into biometric future]                                                                                                                                                                                                                                                                                                                                                                                                                                                                                                                                                                                                                                                                                                                                                                                                                                                                                                                                                                                                                                                                                                                                                                                                                             \n",
       "2221  [the bbc's online search engine was used a record amount in 2004, helping with enquires both simple and strange., more than 277 million enquiries were made, asking for informaton of a wide range of subjects, the most requested search terms of 2004 included games, eastenders, cbbc, john peel, harry potter and olympics, but there were many strange enquiries, including: what is a dog?, how do you say basketball? and what is the biggest collection of naval fluff? the search engine works by matching key words typed in to different web pages but many people still type in natural language questions, here are some of the strangest queries of 2004 - spelling and grammar errors left untouched - and their possible solutions:,  - how to fold a serviette like an elf's boot? ,  ,  - how do i structure a french letter? ,  ,  - what is better one long vacation each year or several short vacations throughout the year? ,  ,  - what is so special about the swiss? ,  ,  - what are the contemporary issue in nurses? ,  ,  - what is the number 4 in this number 40052308090? ,  ,  - what is up? ,  ,  - what is the name of james martin's dog? ,  , search engines are key to the way people use the internet, companies such as google have become of paramount importance as they dictate how people travel through websites while online., bbc web search aids odd queries]                                                                                                                                                                                                                                                                                                                                                                                                                                                                                                                                                                                                                                                                                                                                                                                                                                                                                                                                                                                                                                                                                                                                                                                                                                                                                                                                                                                                                                                                                                                                                                                                                                                                                                                                                                                                                                                                                                                                                                                                                                                                                                                                                                                                                                                                                                                                                                       \n",
       "2222  [faster, better or funkier hardware alone is not going to help phone firms sell more handsets, research suggests., instead, phone firms keen to get more out of their customers should not just be pushing the technology for its own sake, consumers are far more interested in how handsets fit in with their lifestyle than they are in screen size, onboard memory or the chip inside, shows an in-depth study by telecommunications company ericsson, \"historically in the industry there has been too much focus on using technology,\" said dr michael bjorn, senior advisor on mobile media at ericsson's consumer and enterprise lab, \"we have to stop saying that these technologies will change their lives,\" he said, \"we should try to speak to consumers in their own language and help them see how it fits in with what they are doing,\" he told the bbc news website., for the study, ericsson interviewed 14,000 mobile phone owners on the ways they use their phone, \"people's habits remain the same,\" said dr bjorn, \"they just move the activity into the mobile phone as it's a much more convenient way to do it.\", one good example of this was diary-writing among younger people, he said, while diaries have always been popular, a mobile phone -- especially one equipped with a camera -- helps them keep it in a different form, youngsters' use of text messages also reflects their desire to chat and keep in contact with friends and again just lets them do it in a slightly changed way, dr bjorn said that although consumers do what they always did but use a phone to do it, the sheer variety of what the new handset technologies make possible does gradually drive new habits and lifestyles, ericsson's research has shown that consumers divide into different \"tribes\" that use phones in different ways, dr bjorn said groups dubbed \"pioneers\" and \"materialists\" were most interested in trying new things and were behind the start of many trends in phone use, \"for instance,\" he said, \"older people are using sms much more than they did five years ago.\" this was because younger users, often the children of ageing mobile owners, encouraged older people to try it so they could keep in touch., another factor governing the speed of change in mobile phone use was the simple speed with which new devices are bought by pioneers and materialists, only when about 25% of people have handsets with new innovations on them, such as cameras, can consumers stop worrying that if they send a picture message the person at the other end will be able to see it., once this significant number of users is passed, use of new innovations tends to take off, dr bjorn said that early reports of camera phone usage in japan seemed to imply that the innovation was going to be a flop, however, he said, now 45% of the japanese people ericsson questioned use their camera phone at least once a month, in 2003 the figure was 29%, similarly, across europe the numbers of people taking snaps with cameras is starting to rise, in 2003 only 4% of the people in the uk took a phonecam snap at least once a month, now the figure is 14%, similar rises have been seen in many other european nations, dr bjorn said that people also used their camera phones in very different ways to film and even digital cameras, \"usage patterns for digital cameras are almost exactly replacing usage patterns for analogue cameras,\" he said, digital cameras tend to be used on significant events such as weddings, holidays and birthdays, by contrast, he said, camera phones were being used much more to capture a moment and were being woven into everyday life., lifestyle 'governs mobile choice']   \n",
       "2223  [the cell processor, which will drive sony's playstation 3, will run 10-times faster than current pc chips, its designers have said., sony, ibm and toshiba, who have been working on the cell processor for three years, unveiled the chip on monday, it is being designed for use in graphics workstations, the new playstation console, and has been described as a supercomputer on a chip, the chip will run at speeds of greater than 4 ghz, the firms said, by comparison, rival chip maker intel's fastest processor runs at 3.8 ghz, details of the chip were released at the international solid state circuits conference in san francisco, the new processor is set to ignite a fresh battle between intel and the cell consortium over which processor sits at the centre of digital products, the playstation 3 is expected in 2006, while toshiba plans to incorporate it into high-end televisions next year, ibm has said it will sell a workstation with the chip starting later this year., cell is comprised of several computing engines, or cores, a core based on ibm's power architecture controls eight \"synergistic\" processing centres, in all, they can simultaneously carry out 10 instruction sequences, compared with two for current intel chips., later this year, intel and advanced micro devices plan to release their own \"multicore\" chips, which also increase the number of instructions that can be executed at once, the cell's specifications suggest the playstation 3 will offer a significant boost in graphics capabilities but analysts cautioned that not all the features in a product announcement will find their way into systems, \"any new technology like this has two components,\" said steve kleynhans, an analyst with meta group, he said: \"it has the vision of what it could be because you need the big vision to sell it, \"then there's the reality of how it's really going to be used, which generally is several levels down the chain from there.\", while the playstation 3 is likely to be the first mass-market product to use cell, the chip's designers have said the flexible architecture means that it would be useful for a wide range of applications, from servers to mobile phones, initial devices are unlikely to be any smaller than a games console, however, because the first version of the cell will run hot enough to need a cooling fan, and while marketing speak describes the chip as a \"supercomputer\" - it remains significantly slower than the slowest computer on the list of the world's top 500 supercomputers, ibm said cell was \"os neutral\" and would support multiple operating systems simultaneously but designers would not confirm if microsoft's windows was among those tested with the chip, if cell is to challenge intel's range of chips in the marketplace, it will need to find itself inside pcs, which predominantly run using windows., playstation 3 processor unveiled]                                                                                                                                                                                                                                                                                                                                                                                                                                                                                                                                                                                                                                                                                                                                                                                       \n",
       "2224  [controversial new eu rules for the patenting of computer-based inventions have been put on hold due to a last minute intervention from poland., poland - a large and therefore crucial eu member - has requested more time to consider the issue, especially as it relates to the patenting of software, critics say the law would favour large companies over small, innovative ones, they say it could have massive ramifications for developments such as open source software., polish ministers want to see the phrasing of the text of the directive on the patentability of computer-implemented inventions changed so that it excludes the patenting of software, the planned law has ignited angry debate about whether the eu should allow the patenting of computer programs and internet business methods as currently happens in the us, so, for instance, us-based amazon.com holds a patent on 'one-click shopping', critics claim the law, which the eu says is needed to harmonise with the us, is little more than a law on ideas, \"patent rights, it is claimed, protect inventors but in this case it is exclusively the interests of the big companies that are protected,\" eva lichtenberg, a austrian green member of the european parliament said in a statement, \"smaller, innovative firms cannot afford the patenting and legal costs that the directive would inflict on them,\" she added, the european parliament has already clashed with the european union on the issue and there have been accusations that the process to decide the issue has been undemocratic, the directive has been subject to several previous delays., eu software patent law delayed]                                                                                                                                                                                                                                                                                                                                                                                                                                                                                                                                                                                                                                                                                                                                                                                                                                                                                                                                                                                                                                                                                                                                                                                                                                                                                                                                                                                                                                                                                                                                                                                                                                                                                                                                                                                                                                                                                                                                                                                                                                                                                     \n",
       "\n",
       "                                                                                                                                                                                                                                                                                                                                                                                                                                                                                                                                                                                                                                                                                                                                                                                                                                                                                                                                                                                                                                                                                                                                                                                                                                                                                                                                                                                                                                                                                                                                                                                                                                                                          summ  \\\n",
       "2220  She said French, Jordanian and Nigerian nationals would be the first seafarers to get the new ID cards since their countries have already ratified the convention.The cards are due to be issued in February next year, in line with the revised UN Convention on Seafarers' Identity Documents of June 2003.\"It should be a safer environment for seafarers to work in, and will allow people protecting their borders to have confidence that the people getting off the ship are, in fact, seafarers.\"As holidaymakers enjoy balmy breezes, their ship's crew is testing prototype versions of the world's first internationally issued biometric ID cards, the seafarer's equivalent of a passport.\"If you're issued a seafarer's ID in your country, you want to be sure that when the ship lands in a port in, say, my country you can validate yourself using whatever equipment we have installed,\" Authenti-corp's CEO, Cynthia Musselman, told the BBC's Go Digital programme.The luxury cruise liner Crystal Harmony, currently in the Gulf of Mexico, is the unlikely setting for tests of biometric technology.                                                                                                                                                                                                                                                                                                                                                                                                                                                                                                                                               \n",
       "2221  Search engines are key to the way people use the internet.The search engine works by matching key words typed in to different web pages but many people still type in natural language questions.The BBC's online search engine was used a record amount in 2004, helping with enquires both simple and strange.But there were many strange enquiries, including: what is a dog?, how do you say basketball?Companies such as Google have become of paramount importance as they dictate how people travel through websites while online.The most requested search terms of 2004 included games, EastEnders, CBBC, John Peel, Harry Potter and Olympics.- What is the name of James Martin's dog?                                                                                                                                                                                                                                                                                                                                                                                                                                                                                                                                                                                                                                                                                                                                                                                                                                                                                                                                                                          \n",
       "2222  Dr Bjorn said that people also used their camera phones in very different ways to film and even digital cameras.However, he said, now 45% of the Japanese people Ericsson questioned use their camera phone at least once a month.Dr Bjorn said that early reports of camera phone usage in Japan seemed to imply that the innovation was going to be a flop.Dr Bjorn said that although consumers do what they always did but use a phone to do it, the sheer variety of what the new handset technologies make possible does gradually drive new habits and lifestyles.For the study, Ericsson interviewed 14,000 mobile phone owners on the ways they use their phone.Dr Bjorn said groups dubbed \"pioneers\" and \"materialists\" were most interested in trying new things and were behind the start of many trends in phone use.By contrast, he said, camera phones were being used much more to capture a moment and were being woven into everyday life.While diaries have always been popular, a mobile phone -- especially one equipped with a camera -- helps them keep it in a different form.\"Historically in the industry there has been too much focus on using technology,\" said Dr Michael Bjorn, senior advisor on mobile media at Ericsson's consumer and enterprise lab.Another factor governing the speed of change in mobile phone use was the simple speed with which new devices are bought by pioneers and materialists.One good example of this was diary-writing among younger people, he said.\"They just move the activity into the mobile phone as it's a much more convenient way to do it.\"\"People's habits remain the same,\" said Dr Bjorn.   \n",
       "2223  The Cell processor, which will drive Sony's PlayStation 3, will run 10-times faster than current PC chips, its designers have said.IBM has said it will sell a workstation with the chip starting later this year.The chip will run at speeds of greater than 4 GHz, the firms said.While the PlayStation 3 is likely to be the first mass-market product to use Cell, the chip's designers have said the flexible architecture means that it would be useful for a wide range of applications, from servers to mobile phones.If Cell is to challenge Intel's range of chips in the marketplace, it will need to find itself inside PCs, which predominantly run using Windows.Sony, IBM and Toshiba, who have been working on the Cell processor for three years, unveiled the chip on Monday.It is being designed for use in graphics workstations, the new PlayStation console, and has been described as a supercomputer on a chip.By comparison, rival chip maker Intel's fastest processor runs at 3.8 GHz.IBM said Cell was \"OS neutral\" and would support multiple operating systems simultaneously but designers would not confirm if Microsoft's Windows was among those tested with the chip.                                                                                                                                                                                                                                                                                                                                                                                                                                                                   \n",
       "2224  Poland - a large and therefore crucial EU member - has requested more time to consider the issue, especially as it relates to the patenting of software.The planned law has ignited angry debate about whether the EU should allow the patenting of computer programs and internet business methods as currently happens in the US.Critics say the law would favour large companies over small, innovative ones.Critics claim the law, which the EU says is needed to harmonise with the US, is little more than a law on ideas.The European Parliament has already clashed with the European Union on the issue and there have been accusations that the process to decide the issue has been undemocratic.                                                                                                                                                                                                                                                                                                                                                                                                                                                                                                                                                                                                                                                                                                                                                                                                                                                                                                                                                               \n",
       "\n",
       "                                  Title  \\\n",
       "2220  seamen sail into biometric future   \n",
       "2221  bbc web search aids odd queries     \n",
       "2222  lifestyle 'governs mobile choice'   \n",
       "2223  playstation 3 processor unveiled    \n",
       "2224  eu software patent law delayed      \n",
       "\n",
       "                                                                                                                                                                                                                                                                                                                                                                                                                                                                                                                                                                                                                                    sentimport_mean  \\\n",
       "2220  [0.1994120758533141, 0.18097675005461225, 0.19779990045678505, 0.18473283048601652, 0.16034955448781255, 0.16153416595837458, 0.19435834623610293, 0.22594323240916678, 0.13006222123874628, 0.18261056966078842, 0.21233298116718097, 0.15842544302454326, 0.1677335797869614, 0.15374343242210203]                                                                                                                                                                                                                                                                                                                                            \n",
       "2221  [0.23081010119260448, 0.24031271501172663, 0.23748286685189104, 0.13000301085285665, 0.1929750155461545, 0.2593623715519017, 0.0, 0.2602586302618352, 0.0, 0.19553584939504973, 0.0, 0.25289219089504694, 0.0, 0.2544202423647878, 0.0, 0.2091429980054388, 0.0, 0.27606724416627815, 0.0, 0.26223571172575394, 0.0, 0.2843100175156633, 0.21493203718504414]                                                                                                                                                                                                                                                                                   \n",
       "2222  [0.23011528551803956, 0.20490679805475376, 0.16011318999516136, 0.18135544484072433, 0.25779655147091074, 0.17143419974664745, 0.23670882275137392, 0.3559788894506466, 0.2156462212301408, 0.2888136403847638, 0.1754724352854837, 0.17334189322144344, 0.14716927328746968, 0.23065948441125514, 0.17398390636258812, 0.14186478851070589, 0.1772848141225986, 0.15363522800189647, 0.23610389241175767, 0.1853521185977013, 0.21340427084056893, 0.38459496907942053, 0.24470795224551686, 0.20601409655752267, 0.43148017604100913, 0.30883259758466675, 0.21552825407866413, 0.1997665125685866, 0.2512241897164398, 0.1846657523340096]   \n",
       "2223  [0.21484406299731357, 0.20458826604581287, 0.19702764686698998, 0.24708316675237024, 0.3013051708390843, 0.23386698050616023, 0.17640899530074472, 0.2325729096830094, 0.2481134000289013, 0.3188590136519031, 0.29241354434713834, 0.23870140748448693, 0.1828967472887054, 0.1602426639279684, 0.2459978112312464, 0.18329975945830626, 0.19494075434998512, 0.14357021924418006, 0.17164263266161084, 0.17202795257207804, 0.17249245003897568, 0.1914507965373466]                                                                                                                                                                          \n",
       "2224  [0.20539121246638095, 0.17334589914878965, 0.28207759814308, 0.26294189984985833, 0.1550600686547021, 0.173821541445394, 0.33272938511279493, 0.18128084725877514, 0.14534505956113727, 0.2179376812276588, 0.1508292170892383, 0.3176720236265621]                                                                                                                                                                                                                                                                                                                                                                                             \n",
       "\n",
       "                                                                                                                      snlen  \\\n",
       "2220  [21, 27, 24, 25, 30, 30, 21, 18, 46, 26, 19, 30, 29, 32]                                                                \n",
       "2221  [19, 16, 17, 48, 21, 12, 2, 10, 2, 18, 2, 10, 2, 10, 2, 12, 2, 6, 2, 11, 2, 11, 19]                                     \n",
       "2222  [18, 22, 33, 28, 14, 30, 16, 8, 19, 12, 25, 29, 36, 16, 26, 41, 25, 39, 16, 24, 20, 6, 15, 19, 5, 10, 20, 16, 15, 22]   \n",
       "2223  [21, 20, 23, 14, 12, 16, 26, 18, 15, 9, 12, 17, 28, 33, 16, 20, 22, 40, 29, 28, 28, 25]                                 \n",
       "2224  [23, 27, 12, 14, 28, 28, 11, 23, 37, 19, 28, 9]                                                                         \n",
       "\n",
       "                                                                                                                                                                                                                                                             sentsimilarity  \n",
       "2220  [0.08304547985373996, 0.0816496580927726, 0.0, 0.0, 0.0, 0.0, 0.0, 0.0, 0.0, 0.0, 0.0, 0.0, 0.0, 0.0]                                                                                                                                                                  \n",
       "2221  [0.1924500897298753, 0.0, 0.09901475429766744, 0.1062988006905468, 0.08512565307587487, 0.0, 0.0, 0.0, 0.0, 0.0, 0.0, 0.0, 0.0, 0.0, 0.0, 0.0, 0.0, 0.0, 0.0, 0.0, 0.0, 0.11322770341445959, 0.0]                                                                      \n",
       "2222  [0.0, 0.0, 0.07216878364870323, 0.09128709291752768, 0.0, 0.0, 0.1091089451179962, 0.0, 0.10660035817780521, 0.0, 0.11180339887498948, 0.0, 0.0, 0.0, 0.0, 0.07293249574894728, 0.09284766908852593, 0.0, 0.0, 0.0, 0.0, 0.0, 0.0, 0.0, 0.0, 0.0, 0.0, 0.0, 0.0, 0.0]  \n",
       "2223  [0.24077170617153845, 0.2357022603955159, 0.12598815766974242, 0.0, 0.17407765595569785, 0.0, 0.20100756305184245, 0.13608276348795437, 0.0, 0.0, 0.0, 0.0, 0.0, 0.0912870929175277, 0.0, 0.0, 0.0, 0.0751646028002829, 0.0, 0.0, 0.0, 0.0]                            \n",
       "2224  [0.09325048082403138, 0.1690308509457033, 0.12909944487358058, 0.11952286093343936, 0.05725983343138682, 0.1414213562373095, 0.12403473458920845, 0.23717082451262841, 0.06388765649999399, 0.0, 0.0, 0.0]                                                             "
      ]
     },
     "execution_count": 46,
     "metadata": {},
     "output_type": "execute_result"
    }
   ],
   "source": [
    "datafinal.tail()"
   ]
  },
  {
   "cell_type": "code",
   "execution_count": 47,
   "metadata": {},
   "outputs": [],
   "source": [
    "# data1 = pd.DataFrame({ col:np.repeat(data[col].values, data['news'].str.len()) for col in data.columns.difference(['news']) }).assign(**{'news':np.concatenate(data['news'].values)})[data.columns.tolist()]"
   ]
  },
  {
   "cell_type": "code",
   "execution_count": 48,
   "metadata": {},
   "outputs": [],
   "source": [
    "dataonews = datafinal[['onews','Title']].copy()\n",
    "datasentimport = datafinal[['sentimport_mean','summ']].copy()\n",
    "dataselen = datafinal[['snlen','summ']].copy()\n",
    "datasimil = datafinal[['sentsimilarity','summ']].copy()"
   ]
  },
  {
   "cell_type": "code",
   "execution_count": 49,
   "metadata": {},
   "outputs": [],
   "source": [
    "dataonews = pd.DataFrame({ col:np.repeat(dataonews[col].values, dataonews['onews'].str.len()) for col in dataonews.columns.difference(['onews']) }).assign(**{'onews':np.concatenate(dataonews['onews'].values)})[dataonews.columns.tolist()]\n",
    "datasentimport = pd.DataFrame({ col:np.repeat(datasentimport[col].values, datasentimport['sentimport_mean'].str.len()) for col in datasentimport.columns.difference(['sentimport_mean']) }).assign(**{'sentimport_mean':np.concatenate(datasentimport['sentimport_mean'].values)})[datasentimport.columns.tolist()]\n",
    "dataselen = pd.DataFrame({ col:np.repeat(dataselen[col].values, dataselen['snlen'].str.len()) for col in dataselen.columns.difference(['snlen']) }).assign(**{'snlen':np.concatenate(dataselen['snlen'].values)})[dataselen.columns.tolist()]\n",
    "datasimil = pd.DataFrame({ col:np.repeat(datasimil[col].values, datasimil['sentsimilarity'].str.len()) for col in datasimil.columns.difference(['sentsimilarity']) }).assign(**{'sentsimilarity':np.concatenate(datasimil['sentsimilarity'].values)})[datasimil.columns.tolist()]"
   ]
  },
  {
   "cell_type": "code",
   "execution_count": 50,
   "metadata": {},
   "outputs": [],
   "source": [
    "dataonews.drop(dataonews[dataonews['onews'] == dataonews['Title']].index, inplace = True)\n",
    "# dataonews = dataonews.dropna()\n",
    "dataonews = dataonews.reset_index(drop = True)"
   ]
  },
  {
   "cell_type": "code",
   "execution_count": 51,
   "metadata": {},
   "outputs": [
    {
     "data": {
      "text/plain": [
       "(39553, 2)"
      ]
     },
     "execution_count": 51,
     "metadata": {},
     "output_type": "execute_result"
    }
   ],
   "source": [
    "dataonews.shape"
   ]
  },
  {
   "cell_type": "code",
   "execution_count": 52,
   "metadata": {},
   "outputs": [
    {
     "data": {
      "text/plain": [
       "((39553, 2), (39553, 2), (39553, 2), (39553, 2))"
      ]
     },
     "execution_count": 52,
     "metadata": {},
     "output_type": "execute_result"
    }
   ],
   "source": [
    "dataonews.shape,datasentimport.shape,dataselen.shape,dataselen.shape"
   ]
  },
  {
   "cell_type": "code",
   "execution_count": 53,
   "metadata": {},
   "outputs": [
    {
     "data": {
      "text/html": [
       "<div>\n",
       "<style>\n",
       "    .dataframe thead tr:only-child th {\n",
       "        text-align: right;\n",
       "    }\n",
       "\n",
       "    .dataframe thead th {\n",
       "        text-align: left;\n",
       "    }\n",
       "\n",
       "    .dataframe tbody tr th {\n",
       "        vertical-align: top;\n",
       "    }\n",
       "</style>\n",
       "<table border=\"1\" class=\"dataframe\">\n",
       "  <thead>\n",
       "    <tr style=\"text-align: right;\">\n",
       "      <th></th>\n",
       "      <th>onews</th>\n",
       "      <th>Title</th>\n",
       "    </tr>\n",
       "  </thead>\n",
       "  <tbody>\n",
       "    <tr>\n",
       "      <th>39548</th>\n",
       "      <td>critics claim the law, which the eu says is needed to harmonise with the us, is little more than a law on ideas</td>\n",
       "      <td>eu software patent law delayed</td>\n",
       "    </tr>\n",
       "    <tr>\n",
       "      <th>39549</th>\n",
       "      <td>\"patent rights, it is claimed, protect inventors but in this case it is exclusively the interests of the big companies that are protected,\" eva lichtenberg, a austrian green member of the european parliament said in a statement</td>\n",
       "      <td>eu software patent law delayed</td>\n",
       "    </tr>\n",
       "    <tr>\n",
       "      <th>39550</th>\n",
       "      <td>\"smaller, innovative firms cannot afford the patenting and legal costs that the directive would inflict on them,\" she added</td>\n",
       "      <td>eu software patent law delayed</td>\n",
       "    </tr>\n",
       "    <tr>\n",
       "      <th>39551</th>\n",
       "      <td>the european parliament has already clashed with the european union on the issue and there have been accusations that the process to decide the issue has been undemocratic</td>\n",
       "      <td>eu software patent law delayed</td>\n",
       "    </tr>\n",
       "    <tr>\n",
       "      <th>39552</th>\n",
       "      <td>the directive has been subject to several previous delays.</td>\n",
       "      <td>eu software patent law delayed</td>\n",
       "    </tr>\n",
       "  </tbody>\n",
       "</table>\n",
       "</div>"
      ],
      "text/plain": [
       "                                                                                                                                                                                                                                     onews  \\\n",
       "39548  critics claim the law, which the eu says is needed to harmonise with the us, is little more than a law on ideas                                                                                                                       \n",
       "39549  \"patent rights, it is claimed, protect inventors but in this case it is exclusively the interests of the big companies that are protected,\" eva lichtenberg, a austrian green member of the european parliament said in a statement   \n",
       "39550  \"smaller, innovative firms cannot afford the patenting and legal costs that the directive would inflict on them,\" she added                                                                                                           \n",
       "39551  the european parliament has already clashed with the european union on the issue and there have been accusations that the process to decide the issue has been undemocratic                                                           \n",
       "39552  the directive has been subject to several previous delays.                                                                                                                                                                            \n",
       "\n",
       "                                Title  \n",
       "39548  eu software patent law delayed  \n",
       "39549  eu software patent law delayed  \n",
       "39550  eu software patent law delayed  \n",
       "39551  eu software patent law delayed  \n",
       "39552  eu software patent law delayed  "
      ]
     },
     "execution_count": 53,
     "metadata": {},
     "output_type": "execute_result"
    }
   ],
   "source": [
    "dataonews.tail()"
   ]
  },
  {
   "cell_type": "code",
   "execution_count": 54,
   "metadata": {},
   "outputs": [],
   "source": [
    "finaldata = pd.concat([dataonews,datasentimport,dataselen['snlen'],datasimil['sentsimilarity']],1)\n",
    "finaldata['summ'] = finaldata['summ'].str.lower()"
   ]
  },
  {
   "cell_type": "code",
   "execution_count": 55,
   "metadata": {},
   "outputs": [
    {
     "data": {
      "text/html": [
       "<div>\n",
       "<style>\n",
       "    .dataframe thead tr:only-child th {\n",
       "        text-align: right;\n",
       "    }\n",
       "\n",
       "    .dataframe thead th {\n",
       "        text-align: left;\n",
       "    }\n",
       "\n",
       "    .dataframe tbody tr th {\n",
       "        vertical-align: top;\n",
       "    }\n",
       "</style>\n",
       "<table border=\"1\" class=\"dataframe\">\n",
       "  <thead>\n",
       "    <tr style=\"text-align: right;\">\n",
       "      <th></th>\n",
       "      <th>onews</th>\n",
       "      <th>Title</th>\n",
       "      <th>sentimport_mean</th>\n",
       "      <th>summ</th>\n",
       "      <th>snlen</th>\n",
       "      <th>sentsimilarity</th>\n",
       "    </tr>\n",
       "  </thead>\n",
       "  <tbody>\n",
       "    <tr>\n",
       "      <th>0</th>\n",
       "      <td>kostas kenteris' lawyer has called for the doping charges against the greek sprinter to be dropped.</td>\n",
       "      <td>call for kenteris to be cleared</td>\n",
       "      <td>0.234344</td>\n",
       "      <td>kostas kenteris' lawyer has called for the doping charges against the greek sprinter to be dropped.kenteris and compatriot katerina thanou were given provisional suspensions in december for failing to take drugs tests before the athens olympics.kenteris and thanou withdrew from the athens olympics last august after missing drugs tests on the eve of the opening ceremony.the lawyer added that he has proof the authorities \"knew\" kenteris was in germany at the time he was alleged to have missed a test in chicago.gregory ioannidis has submitted new evidence to a greek athletics tribunal which he claims proves the former olympic champion has no case to answer.</td>\n",
       "      <td>16</td>\n",
       "      <td>0.384900</td>\n",
       "    </tr>\n",
       "    <tr>\n",
       "      <th>1</th>\n",
       "      <td>gregory ioannidis has submitted new evidence to a greek athletics tribunal which he claims proves the former olympic champion has no case to answer</td>\n",
       "      <td>call for kenteris to be cleared</td>\n",
       "      <td>0.190431</td>\n",
       "      <td>kostas kenteris' lawyer has called for the doping charges against the greek sprinter to be dropped.kenteris and compatriot katerina thanou were given provisional suspensions in december for failing to take drugs tests before the athens olympics.kenteris and thanou withdrew from the athens olympics last august after missing drugs tests on the eve of the opening ceremony.the lawyer added that he has proof the authorities \"knew\" kenteris was in germany at the time he was alleged to have missed a test in chicago.gregory ioannidis has submitted new evidence to a greek athletics tribunal which he claims proves the former olympic champion has no case to answer.</td>\n",
       "      <td>24</td>\n",
       "      <td>0.157135</td>\n",
       "    </tr>\n",
       "    <tr>\n",
       "      <th>2</th>\n",
       "      <td>kenteris and compatriot katerina thanou were given provisional suspensions in december for failing to take drugs tests before the athens olympics</td>\n",
       "      <td>call for kenteris to be cleared</td>\n",
       "      <td>0.209813</td>\n",
       "      <td>kostas kenteris' lawyer has called for the doping charges against the greek sprinter to be dropped.kenteris and compatriot katerina thanou were given provisional suspensions in december for failing to take drugs tests before the athens olympics.kenteris and thanou withdrew from the athens olympics last august after missing drugs tests on the eve of the opening ceremony.the lawyer added that he has proof the authorities \"knew\" kenteris was in germany at the time he was alleged to have missed a test in chicago.gregory ioannidis has submitted new evidence to a greek athletics tribunal which he claims proves the former olympic champion has no case to answer.</td>\n",
       "      <td>21</td>\n",
       "      <td>0.267261</td>\n",
       "    </tr>\n",
       "    <tr>\n",
       "      <th>3</th>\n",
       "      <td>the greek tribunal is expected to give its verdict early next week</td>\n",
       "      <td>call for kenteris to be cleared</td>\n",
       "      <td>0.276662</td>\n",
       "      <td>kostas kenteris' lawyer has called for the doping charges against the greek sprinter to be dropped.kenteris and compatriot katerina thanou were given provisional suspensions in december for failing to take drugs tests before the athens olympics.kenteris and thanou withdrew from the athens olympics last august after missing drugs tests on the eve of the opening ceremony.the lawyer added that he has proof the authorities \"knew\" kenteris was in germany at the time he was alleged to have missed a test in chicago.gregory ioannidis has submitted new evidence to a greek athletics tribunal which he claims proves the former olympic champion has no case to answer.</td>\n",
       "      <td>12</td>\n",
       "      <td>0.117851</td>\n",
       "    </tr>\n",
       "    <tr>\n",
       "      <th>4</th>\n",
       "      <td>kenteris and thanou withdrew from the athens olympics last august after missing drugs tests on the eve of the opening ceremony</td>\n",
       "      <td>call for kenteris to be cleared</td>\n",
       "      <td>0.203082</td>\n",
       "      <td>kostas kenteris' lawyer has called for the doping charges against the greek sprinter to be dropped.kenteris and compatriot katerina thanou were given provisional suspensions in december for failing to take drugs tests before the athens olympics.kenteris and thanou withdrew from the athens olympics last august after missing drugs tests on the eve of the opening ceremony.the lawyer added that he has proof the authorities \"knew\" kenteris was in germany at the time he was alleged to have missed a test in chicago.gregory ioannidis has submitted new evidence to a greek athletics tribunal which he claims proves the former olympic champion has no case to answer.</td>\n",
       "      <td>21</td>\n",
       "      <td>0.078567</td>\n",
       "    </tr>\n",
       "    <tr>\n",
       "      <th>5</th>\n",
       "      <td>they were also alleged to have avoided tests in tel aviv and chicago before the games.</td>\n",
       "      <td>call for kenteris to be cleared</td>\n",
       "      <td>0.240773</td>\n",
       "      <td>kostas kenteris' lawyer has called for the doping charges against the greek sprinter to be dropped.kenteris and compatriot katerina thanou were given provisional suspensions in december for failing to take drugs tests before the athens olympics.kenteris and thanou withdrew from the athens olympics last august after missing drugs tests on the eve of the opening ceremony.the lawyer added that he has proof the authorities \"knew\" kenteris was in germany at the time he was alleged to have missed a test in chicago.gregory ioannidis has submitted new evidence to a greek athletics tribunal which he claims proves the former olympic champion has no case to answer.</td>\n",
       "      <td>16</td>\n",
       "      <td>0.102062</td>\n",
       "    </tr>\n",
       "    <tr>\n",
       "      <th>6</th>\n",
       "      <td>but ioannidis said: \"everything overwhelmingly shows that the charges should be dropped.\" ioannidis also said he has presented evidence that will throw a different light on the events leading up to the pair's sensational withdrawal from the athens games</td>\n",
       "      <td>call for kenteris to be cleared</td>\n",
       "      <td>0.143902</td>\n",
       "      <td>kostas kenteris' lawyer has called for the doping charges against the greek sprinter to be dropped.kenteris and compatriot katerina thanou were given provisional suspensions in december for failing to take drugs tests before the athens olympics.kenteris and thanou withdrew from the athens olympics last august after missing drugs tests on the eve of the opening ceremony.the lawyer added that he has proof the authorities \"knew\" kenteris was in germany at the time he was alleged to have missed a test in chicago.gregory ioannidis has submitted new evidence to a greek athletics tribunal which he claims proves the former olympic champion has no case to answer.</td>\n",
       "      <td>39</td>\n",
       "      <td>0.109109</td>\n",
       "    </tr>\n",
       "    <tr>\n",
       "      <th>7</th>\n",
       "      <td>the lawyer added that he has proof the authorities \"knew\" kenteris was in germany at the time he was alleged to have missed a test in chicago</td>\n",
       "      <td>call for kenteris to be cleared</td>\n",
       "      <td>0.166732</td>\n",
       "      <td>kostas kenteris' lawyer has called for the doping charges against the greek sprinter to be dropped.kenteris and compatriot katerina thanou were given provisional suspensions in december for failing to take drugs tests before the athens olympics.kenteris and thanou withdrew from the athens olympics last august after missing drugs tests on the eve of the opening ceremony.the lawyer added that he has proof the authorities \"knew\" kenteris was in germany at the time he was alleged to have missed a test in chicago.gregory ioannidis has submitted new evidence to a greek athletics tribunal which he claims proves the former olympic champion has no case to answer.</td>\n",
       "      <td>27</td>\n",
       "      <td>0.132453</td>\n",
       "    </tr>\n",
       "    <tr>\n",
       "      <th>8</th>\n",
       "      <td>nick davies, spokesman for athletics' ruling body the iaaf, which handed out the provisional bans, said: \"we can't comment because we were not present at the hearing and don't know what was said behind closed doors</td>\n",
       "      <td>call for kenteris to be cleared</td>\n",
       "      <td>0.153746</td>\n",
       "      <td>kostas kenteris' lawyer has called for the doping charges against the greek sprinter to be dropped.kenteris and compatriot katerina thanou were given provisional suspensions in december for failing to take drugs tests before the athens olympics.kenteris and thanou withdrew from the athens olympics last august after missing drugs tests on the eve of the opening ceremony.the lawyer added that he has proof the authorities \"knew\" kenteris was in germany at the time he was alleged to have missed a test in chicago.gregory ioannidis has submitted new evidence to a greek athletics tribunal which he claims proves the former olympic champion has no case to answer.</td>\n",
       "      <td>36</td>\n",
       "      <td>0.060193</td>\n",
       "    </tr>\n",
       "    <tr>\n",
       "      <th>9</th>\n",
       "      <td>\"we expect a verdict from the greek athletics federation before the end of february and will obviously be making a statement then.\" kenteris won 200m gold at the 2000 sydney olympics, while thanou won silver in the 100m.</td>\n",
       "      <td>call for kenteris to be cleared</td>\n",
       "      <td>0.144550</td>\n",
       "      <td>kostas kenteris' lawyer has called for the doping charges against the greek sprinter to be dropped.kenteris and compatriot katerina thanou were given provisional suspensions in december for failing to take drugs tests before the athens olympics.kenteris and thanou withdrew from the athens olympics last august after missing drugs tests on the eve of the opening ceremony.the lawyer added that he has proof the authorities \"knew\" kenteris was in germany at the time he was alleged to have missed a test in chicago.gregory ioannidis has submitted new evidence to a greek athletics tribunal which he claims proves the former olympic champion has no case to answer.</td>\n",
       "      <td>38</td>\n",
       "      <td>0.115470</td>\n",
       "    </tr>\n",
       "    <tr>\n",
       "      <th>10</th>\n",
       "      <td>sixways</td>\n",
       "      <td>worcester v sale (fri)</td>\n",
       "      <td>1.000000</td>\n",
       "      <td>john payne and chris rhys jones come into the centres while scrum-half richard wigglesworth looks set to play on the wing.hanley; mayor, payne, rhys jones, wigglesworth; hercus, redpath (capt); turner, roddam, stewart; day, schofield; caillet, carter, chabal.replacements (from): bozzi, coutts, anglesea, lund, martens, riley, duffy, c jones.</td>\n",
       "      <td>1</td>\n",
       "      <td>0.000000</td>\n",
       "    </tr>\n",
       "    <tr>\n",
       "      <th>11</th>\n",
       "      <td>friday, 25 february</td>\n",
       "      <td>worcester v sale (fri)</td>\n",
       "      <td>0.577350</td>\n",
       "      <td>john payne and chris rhys jones come into the centres while scrum-half richard wigglesworth looks set to play on the wing.hanley; mayor, payne, rhys jones, wigglesworth; hercus, redpath (capt); turner, roddam, stewart; day, schofield; caillet, carter, chabal.replacements (from): bozzi, coutts, anglesea, lund, martens, riley, duffy, c jones.</td>\n",
       "      <td>3</td>\n",
       "      <td>0.000000</td>\n",
       "    </tr>\n",
       "    <tr>\n",
       "      <th>12</th>\n",
       "      <td>2000 gmt</td>\n",
       "      <td>worcester v sale (fri)</td>\n",
       "      <td>0.707107</td>\n",
       "      <td>john payne and chris rhys jones come into the centres while scrum-half richard wigglesworth looks set to play on the wing.hanley; mayor, payne, rhys jones, wigglesworth; hercus, redpath (capt); turner, roddam, stewart; day, schofield; caillet, carter, chabal.replacements (from): bozzi, coutts, anglesea, lund, martens, riley, duffy, c jones.</td>\n",
       "      <td>2</td>\n",
       "      <td>0.000000</td>\n",
       "    </tr>\n",
       "    <tr>\n",
       "      <th>13</th>\n",
       "      <td>they make just one change, with tim collier replacing phil murphy in the second row</td>\n",
       "      <td>worcester v sale (fri)</td>\n",
       "      <td>0.256960</td>\n",
       "      <td>john payne and chris rhys jones come into the centres while scrum-half richard wigglesworth looks set to play on the wing.hanley; mayor, payne, rhys jones, wigglesworth; hercus, redpath (capt); turner, roddam, stewart; day, schofield; caillet, carter, chabal.replacements (from): bozzi, coutts, anglesea, lund, martens, riley, duffy, c jones.</td>\n",
       "      <td>15</td>\n",
       "      <td>0.000000</td>\n",
       "    </tr>\n",
       "    <tr>\n",
       "      <th>14</th>\n",
       "      <td>in contrast, sale are missing 14 players due to a combination of international call-ups and injuries</td>\n",
       "      <td>worcester v sale (fri)</td>\n",
       "      <td>0.256809</td>\n",
       "      <td>john payne and chris rhys jones come into the centres while scrum-half richard wigglesworth looks set to play on the wing.hanley; mayor, payne, rhys jones, wigglesworth; hercus, redpath (capt); turner, roddam, stewart; day, schofield; caillet, carter, chabal.replacements (from): bozzi, coutts, anglesea, lund, martens, riley, duffy, c jones.</td>\n",
       "      <td>16</td>\n",
       "      <td>0.144338</td>\n",
       "    </tr>\n",
       "    <tr>\n",
       "      <th>15</th>\n",
       "      <td>john payne and chris rhys jones come into the centres while scrum-half richard wigglesworth looks set to play on the wing.</td>\n",
       "      <td>worcester v sale (fri)</td>\n",
       "      <td>0.214726</td>\n",
       "      <td>john payne and chris rhys jones come into the centres while scrum-half richard wigglesworth looks set to play on the wing.hanley; mayor, payne, rhys jones, wigglesworth; hercus, redpath (capt); turner, roddam, stewart; day, schofield; caillet, carter, chabal.replacements (from): bozzi, coutts, anglesea, lund, martens, riley, duffy, c jones.</td>\n",
       "      <td>21</td>\n",
       "      <td>0.000000</td>\n",
       "    </tr>\n",
       "    <tr>\n",
       "      <th>16</th>\n",
       "      <td>delport; pieters, rasmussen, lombard, o'leary; brown, powell; windo, van niekerk, horsman; collier, gillies; hickey, sanderson, macleod- henderson.</td>\n",
       "      <td>worcester v sale (fri)</td>\n",
       "      <td>0.249272</td>\n",
       "      <td>john payne and chris rhys jones come into the centres while scrum-half richard wigglesworth looks set to play on the wing.hanley; mayor, payne, rhys jones, wigglesworth; hercus, redpath (capt); turner, roddam, stewart; day, schofield; caillet, carter, chabal.replacements (from): bozzi, coutts, anglesea, lund, martens, riley, duffy, c jones.</td>\n",
       "      <td>17</td>\n",
       "      <td>0.000000</td>\n",
       "    </tr>\n",
       "    <tr>\n",
       "      <th>17</th>\n",
       "      <td>replacements: fortey, murphy, daly, vaili, cole, hayes, trueman.</td>\n",
       "      <td>worcester v sale (fri)</td>\n",
       "      <td>0.351938</td>\n",
       "      <td>john payne and chris rhys jones come into the centres while scrum-half richard wigglesworth looks set to play on the wing.hanley; mayor, payne, rhys jones, wigglesworth; hercus, redpath (capt); turner, roddam, stewart; day, schofield; caillet, carter, chabal.replacements (from): bozzi, coutts, anglesea, lund, martens, riley, duffy, c jones.</td>\n",
       "      <td>8</td>\n",
       "      <td>0.000000</td>\n",
       "    </tr>\n",
       "    <tr>\n",
       "      <th>18</th>\n",
       "      <td>hanley; mayor, payne, rhys jones, wigglesworth; hercus, redpath (capt); turner, roddam, stewart; day, schofield; caillet, carter, chabal.</td>\n",
       "      <td>worcester v sale (fri)</td>\n",
       "      <td>0.241040</td>\n",
       "      <td>john payne and chris rhys jones come into the centres while scrum-half richard wigglesworth looks set to play on the wing.hanley; mayor, payne, rhys jones, wigglesworth; hercus, redpath (capt); turner, roddam, stewart; day, schofield; caillet, carter, chabal.replacements (from): bozzi, coutts, anglesea, lund, martens, riley, duffy, c jones.</td>\n",
       "      <td>17</td>\n",
       "      <td>0.000000</td>\n",
       "    </tr>\n",
       "    <tr>\n",
       "      <th>19</th>\n",
       "      <td>replacements (from): bozzi, coutts, anglesea, lund, martens, riley, duffy, c jones.</td>\n",
       "      <td>worcester v sale (fri)</td>\n",
       "      <td>0.299590</td>\n",
       "      <td>john payne and chris rhys jones come into the centres while scrum-half richard wigglesworth looks set to play on the wing.hanley; mayor, payne, rhys jones, wigglesworth; hercus, redpath (capt); turner, roddam, stewart; day, schofield; caillet, carter, chabal.replacements (from): bozzi, coutts, anglesea, lund, martens, riley, duffy, c jones.</td>\n",
       "      <td>11</td>\n",
       "      <td>0.000000</td>\n",
       "    </tr>\n",
       "  </tbody>\n",
       "</table>\n",
       "</div>"
      ],
      "text/plain": [
       "                                                                                                                                                                                                                                                            onews  \\\n",
       "0   kostas kenteris' lawyer has called for the doping charges against the greek sprinter to be dropped.                                                                                                                                                             \n",
       "1   gregory ioannidis has submitted new evidence to a greek athletics tribunal which he claims proves the former olympic champion has no case to answer                                                                                                             \n",
       "2   kenteris and compatriot katerina thanou were given provisional suspensions in december for failing to take drugs tests before the athens olympics                                                                                                               \n",
       "3   the greek tribunal is expected to give its verdict early next week                                                                                                                                                                                              \n",
       "4   kenteris and thanou withdrew from the athens olympics last august after missing drugs tests on the eve of the opening ceremony                                                                                                                                  \n",
       "5   they were also alleged to have avoided tests in tel aviv and chicago before the games.                                                                                                                                                                          \n",
       "6   but ioannidis said: \"everything overwhelmingly shows that the charges should be dropped.\" ioannidis also said he has presented evidence that will throw a different light on the events leading up to the pair's sensational withdrawal from the athens games   \n",
       "7   the lawyer added that he has proof the authorities \"knew\" kenteris was in germany at the time he was alleged to have missed a test in chicago                                                                                                                   \n",
       "8   nick davies, spokesman for athletics' ruling body the iaaf, which handed out the provisional bans, said: \"we can't comment because we were not present at the hearing and don't know what was said behind closed doors                                          \n",
       "9   \"we expect a verdict from the greek athletics federation before the end of february and will obviously be making a statement then.\" kenteris won 200m gold at the 2000 sydney olympics, while thanou won silver in the 100m.                                    \n",
       "10  sixways                                                                                                                                                                                                                                                         \n",
       "11  friday, 25 february                                                                                                                                                                                                                                             \n",
       "12  2000 gmt                                                                                                                                                                                                                                                        \n",
       "13  they make just one change, with tim collier replacing phil murphy in the second row                                                                                                                                                                             \n",
       "14  in contrast, sale are missing 14 players due to a combination of international call-ups and injuries                                                                                                                                                            \n",
       "15  john payne and chris rhys jones come into the centres while scrum-half richard wigglesworth looks set to play on the wing.                                                                                                                                      \n",
       "16  delport; pieters, rasmussen, lombard, o'leary; brown, powell; windo, van niekerk, horsman; collier, gillies; hickey, sanderson, macleod- henderson.                                                                                                             \n",
       "17  replacements: fortey, murphy, daly, vaili, cole, hayes, trueman.                                                                                                                                                                                                \n",
       "18  hanley; mayor, payne, rhys jones, wigglesworth; hercus, redpath (capt); turner, roddam, stewart; day, schofield; caillet, carter, chabal.                                                                                                                       \n",
       "19  replacements (from): bozzi, coutts, anglesea, lund, martens, riley, duffy, c jones.                                                                                                                                                                             \n",
       "\n",
       "                              Title  sentimport_mean  \\\n",
       "0   call for kenteris to be cleared  0.234344          \n",
       "1   call for kenteris to be cleared  0.190431          \n",
       "2   call for kenteris to be cleared  0.209813          \n",
       "3   call for kenteris to be cleared  0.276662          \n",
       "4   call for kenteris to be cleared  0.203082          \n",
       "5   call for kenteris to be cleared  0.240773          \n",
       "6   call for kenteris to be cleared  0.143902          \n",
       "7   call for kenteris to be cleared  0.166732          \n",
       "8   call for kenteris to be cleared  0.153746          \n",
       "9   call for kenteris to be cleared  0.144550          \n",
       "10  worcester v sale (fri)           1.000000          \n",
       "11  worcester v sale (fri)           0.577350          \n",
       "12  worcester v sale (fri)           0.707107          \n",
       "13  worcester v sale (fri)           0.256960          \n",
       "14  worcester v sale (fri)           0.256809          \n",
       "15  worcester v sale (fri)           0.214726          \n",
       "16  worcester v sale (fri)           0.249272          \n",
       "17  worcester v sale (fri)           0.351938          \n",
       "18  worcester v sale (fri)           0.241040          \n",
       "19  worcester v sale (fri)           0.299590          \n",
       "\n",
       "                                                                                                                                                                                                                                                                                                                                                                                                                                                                                                                                                                                                                                                                                      summ  \\\n",
       "0   kostas kenteris' lawyer has called for the doping charges against the greek sprinter to be dropped.kenteris and compatriot katerina thanou were given provisional suspensions in december for failing to take drugs tests before the athens olympics.kenteris and thanou withdrew from the athens olympics last august after missing drugs tests on the eve of the opening ceremony.the lawyer added that he has proof the authorities \"knew\" kenteris was in germany at the time he was alleged to have missed a test in chicago.gregory ioannidis has submitted new evidence to a greek athletics tribunal which he claims proves the former olympic champion has no case to answer.   \n",
       "1   kostas kenteris' lawyer has called for the doping charges against the greek sprinter to be dropped.kenteris and compatriot katerina thanou were given provisional suspensions in december for failing to take drugs tests before the athens olympics.kenteris and thanou withdrew from the athens olympics last august after missing drugs tests on the eve of the opening ceremony.the lawyer added that he has proof the authorities \"knew\" kenteris was in germany at the time he was alleged to have missed a test in chicago.gregory ioannidis has submitted new evidence to a greek athletics tribunal which he claims proves the former olympic champion has no case to answer.   \n",
       "2   kostas kenteris' lawyer has called for the doping charges against the greek sprinter to be dropped.kenteris and compatriot katerina thanou were given provisional suspensions in december for failing to take drugs tests before the athens olympics.kenteris and thanou withdrew from the athens olympics last august after missing drugs tests on the eve of the opening ceremony.the lawyer added that he has proof the authorities \"knew\" kenteris was in germany at the time he was alleged to have missed a test in chicago.gregory ioannidis has submitted new evidence to a greek athletics tribunal which he claims proves the former olympic champion has no case to answer.   \n",
       "3   kostas kenteris' lawyer has called for the doping charges against the greek sprinter to be dropped.kenteris and compatriot katerina thanou were given provisional suspensions in december for failing to take drugs tests before the athens olympics.kenteris and thanou withdrew from the athens olympics last august after missing drugs tests on the eve of the opening ceremony.the lawyer added that he has proof the authorities \"knew\" kenteris was in germany at the time he was alleged to have missed a test in chicago.gregory ioannidis has submitted new evidence to a greek athletics tribunal which he claims proves the former olympic champion has no case to answer.   \n",
       "4   kostas kenteris' lawyer has called for the doping charges against the greek sprinter to be dropped.kenteris and compatriot katerina thanou were given provisional suspensions in december for failing to take drugs tests before the athens olympics.kenteris and thanou withdrew from the athens olympics last august after missing drugs tests on the eve of the opening ceremony.the lawyer added that he has proof the authorities \"knew\" kenteris was in germany at the time he was alleged to have missed a test in chicago.gregory ioannidis has submitted new evidence to a greek athletics tribunal which he claims proves the former olympic champion has no case to answer.   \n",
       "5   kostas kenteris' lawyer has called for the doping charges against the greek sprinter to be dropped.kenteris and compatriot katerina thanou were given provisional suspensions in december for failing to take drugs tests before the athens olympics.kenteris and thanou withdrew from the athens olympics last august after missing drugs tests on the eve of the opening ceremony.the lawyer added that he has proof the authorities \"knew\" kenteris was in germany at the time he was alleged to have missed a test in chicago.gregory ioannidis has submitted new evidence to a greek athletics tribunal which he claims proves the former olympic champion has no case to answer.   \n",
       "6   kostas kenteris' lawyer has called for the doping charges against the greek sprinter to be dropped.kenteris and compatriot katerina thanou were given provisional suspensions in december for failing to take drugs tests before the athens olympics.kenteris and thanou withdrew from the athens olympics last august after missing drugs tests on the eve of the opening ceremony.the lawyer added that he has proof the authorities \"knew\" kenteris was in germany at the time he was alleged to have missed a test in chicago.gregory ioannidis has submitted new evidence to a greek athletics tribunal which he claims proves the former olympic champion has no case to answer.   \n",
       "7   kostas kenteris' lawyer has called for the doping charges against the greek sprinter to be dropped.kenteris and compatriot katerina thanou were given provisional suspensions in december for failing to take drugs tests before the athens olympics.kenteris and thanou withdrew from the athens olympics last august after missing drugs tests on the eve of the opening ceremony.the lawyer added that he has proof the authorities \"knew\" kenteris was in germany at the time he was alleged to have missed a test in chicago.gregory ioannidis has submitted new evidence to a greek athletics tribunal which he claims proves the former olympic champion has no case to answer.   \n",
       "8   kostas kenteris' lawyer has called for the doping charges against the greek sprinter to be dropped.kenteris and compatriot katerina thanou were given provisional suspensions in december for failing to take drugs tests before the athens olympics.kenteris and thanou withdrew from the athens olympics last august after missing drugs tests on the eve of the opening ceremony.the lawyer added that he has proof the authorities \"knew\" kenteris was in germany at the time he was alleged to have missed a test in chicago.gregory ioannidis has submitted new evidence to a greek athletics tribunal which he claims proves the former olympic champion has no case to answer.   \n",
       "9   kostas kenteris' lawyer has called for the doping charges against the greek sprinter to be dropped.kenteris and compatriot katerina thanou were given provisional suspensions in december for failing to take drugs tests before the athens olympics.kenteris and thanou withdrew from the athens olympics last august after missing drugs tests on the eve of the opening ceremony.the lawyer added that he has proof the authorities \"knew\" kenteris was in germany at the time he was alleged to have missed a test in chicago.gregory ioannidis has submitted new evidence to a greek athletics tribunal which he claims proves the former olympic champion has no case to answer.   \n",
       "10  john payne and chris rhys jones come into the centres while scrum-half richard wigglesworth looks set to play on the wing.hanley; mayor, payne, rhys jones, wigglesworth; hercus, redpath (capt); turner, roddam, stewart; day, schofield; caillet, carter, chabal.replacements (from): bozzi, coutts, anglesea, lund, martens, riley, duffy, c jones.                                                                                                                                                                                                                                                                                                                                   \n",
       "11  john payne and chris rhys jones come into the centres while scrum-half richard wigglesworth looks set to play on the wing.hanley; mayor, payne, rhys jones, wigglesworth; hercus, redpath (capt); turner, roddam, stewart; day, schofield; caillet, carter, chabal.replacements (from): bozzi, coutts, anglesea, lund, martens, riley, duffy, c jones.                                                                                                                                                                                                                                                                                                                                   \n",
       "12  john payne and chris rhys jones come into the centres while scrum-half richard wigglesworth looks set to play on the wing.hanley; mayor, payne, rhys jones, wigglesworth; hercus, redpath (capt); turner, roddam, stewart; day, schofield; caillet, carter, chabal.replacements (from): bozzi, coutts, anglesea, lund, martens, riley, duffy, c jones.                                                                                                                                                                                                                                                                                                                                   \n",
       "13  john payne and chris rhys jones come into the centres while scrum-half richard wigglesworth looks set to play on the wing.hanley; mayor, payne, rhys jones, wigglesworth; hercus, redpath (capt); turner, roddam, stewart; day, schofield; caillet, carter, chabal.replacements (from): bozzi, coutts, anglesea, lund, martens, riley, duffy, c jones.                                                                                                                                                                                                                                                                                                                                   \n",
       "14  john payne and chris rhys jones come into the centres while scrum-half richard wigglesworth looks set to play on the wing.hanley; mayor, payne, rhys jones, wigglesworth; hercus, redpath (capt); turner, roddam, stewart; day, schofield; caillet, carter, chabal.replacements (from): bozzi, coutts, anglesea, lund, martens, riley, duffy, c jones.                                                                                                                                                                                                                                                                                                                                   \n",
       "15  john payne and chris rhys jones come into the centres while scrum-half richard wigglesworth looks set to play on the wing.hanley; mayor, payne, rhys jones, wigglesworth; hercus, redpath (capt); turner, roddam, stewart; day, schofield; caillet, carter, chabal.replacements (from): bozzi, coutts, anglesea, lund, martens, riley, duffy, c jones.                                                                                                                                                                                                                                                                                                                                   \n",
       "16  john payne and chris rhys jones come into the centres while scrum-half richard wigglesworth looks set to play on the wing.hanley; mayor, payne, rhys jones, wigglesworth; hercus, redpath (capt); turner, roddam, stewart; day, schofield; caillet, carter, chabal.replacements (from): bozzi, coutts, anglesea, lund, martens, riley, duffy, c jones.                                                                                                                                                                                                                                                                                                                                   \n",
       "17  john payne and chris rhys jones come into the centres while scrum-half richard wigglesworth looks set to play on the wing.hanley; mayor, payne, rhys jones, wigglesworth; hercus, redpath (capt); turner, roddam, stewart; day, schofield; caillet, carter, chabal.replacements (from): bozzi, coutts, anglesea, lund, martens, riley, duffy, c jones.                                                                                                                                                                                                                                                                                                                                   \n",
       "18  john payne and chris rhys jones come into the centres while scrum-half richard wigglesworth looks set to play on the wing.hanley; mayor, payne, rhys jones, wigglesworth; hercus, redpath (capt); turner, roddam, stewart; day, schofield; caillet, carter, chabal.replacements (from): bozzi, coutts, anglesea, lund, martens, riley, duffy, c jones.                                                                                                                                                                                                                                                                                                                                   \n",
       "19  john payne and chris rhys jones come into the centres while scrum-half richard wigglesworth looks set to play on the wing.hanley; mayor, payne, rhys jones, wigglesworth; hercus, redpath (capt); turner, roddam, stewart; day, schofield; caillet, carter, chabal.replacements (from): bozzi, coutts, anglesea, lund, martens, riley, duffy, c jones.                                                                                                                                                                                                                                                                                                                                   \n",
       "\n",
       "    snlen  sentsimilarity  \n",
       "0   16     0.384900        \n",
       "1   24     0.157135        \n",
       "2   21     0.267261        \n",
       "3   12     0.117851        \n",
       "4   21     0.078567        \n",
       "5   16     0.102062        \n",
       "6   39     0.109109        \n",
       "7   27     0.132453        \n",
       "8   36     0.060193        \n",
       "9   38     0.115470        \n",
       "10  1      0.000000        \n",
       "11  3      0.000000        \n",
       "12  2      0.000000        \n",
       "13  15     0.000000        \n",
       "14  16     0.144338        \n",
       "15  21     0.000000        \n",
       "16  17     0.000000        \n",
       "17  8      0.000000        \n",
       "18  17     0.000000        \n",
       "19  11     0.000000        "
      ]
     },
     "execution_count": 55,
     "metadata": {},
     "output_type": "execute_result"
    }
   ],
   "source": [
    "finaldata.head(20)"
   ]
  },
  {
   "cell_type": "code",
   "execution_count": 56,
   "metadata": {},
   "outputs": [],
   "source": [
    "finaldata['exist'] = finaldata.apply(lambda x : x.onews in x.summ  , axis = 1)"
   ]
  },
  {
   "cell_type": "code",
   "execution_count": 57,
   "metadata": {},
   "outputs": [],
   "source": [
    "X = finaldata[['sentimport_mean','snlen','sentsimilarity']]"
   ]
  },
  {
   "cell_type": "code",
   "execution_count": 58,
   "metadata": {},
   "outputs": [],
   "source": [
    "Y = finaldata['exist']"
   ]
  },
  {
   "cell_type": "code",
   "execution_count": 59,
   "metadata": {},
   "outputs": [],
   "source": [
    "# spilting data and creating train validation and test set and accuracy function\n",
    "\n",
    "kf = KFold(n_splits=70, random_state=None, shuffle=False)\n",
    "\n",
    "for train_index, test_index in kf.split(X):\n",
    "#     print(\"TRAIN:\", train_index, \"TEST:\", test_index)\n",
    "    X_train, X_valid = X.iloc[train_index], X.iloc[test_index]\n",
    "    y_train, y_valid = Y.iloc[train_index], Y.iloc[test_index]\n",
    "\n",
    "def rmse(x,y): return math.sqrt(((x-y)**2).mean())\n",
    "\n",
    "def print_score(m):\n",
    "    res = [rmse(m.predict(X_train), y_train), \n",
    "           rmse(m.predict(X_valid), y_valid), m.score(X_train, y_train), \n",
    "          m.score(X_valid, y_valid)]\n",
    "    \n",
    "    if hasattr(m, 'oob_score_'): res.append(m.oob_score_)\n",
    "    return(res)\n",
    "\n",
    "\n",
    "\n"
   ]
  },
  {
   "cell_type": "code",
   "execution_count": 60,
   "metadata": {},
   "outputs": [
    {
     "name": "stderr",
     "output_type": "stream",
     "text": [
      "/home/sukrit/anaconda3/lib/python3.6/site-packages/pandas/core/computation/expressions.py:183: UserWarning: evaluating in Python space because the '-' operator is not supported by numexpr for the bool dtype, use '^' instead\n",
      "  unsupported[op_str]))\n"
     ]
    },
    {
     "data": {
      "text/plain": [
       "[0.5973076627953653,\n",
       " 0.599409739158641,\n",
       " 0.64322355596593828,\n",
       " 0.64070796460176993]"
      ]
     },
     "execution_count": 60,
     "metadata": {},
     "output_type": "execute_result"
    }
   ],
   "source": [
    "# it will take 6 minutes\n",
    "# clf = SVC(gamma='auto')\n",
    "# clf.fit(X_train, y_train)\n",
    "# print_score(clf)"
   ]
  },
  {
   "cell_type": "code",
   "execution_count": 61,
   "metadata": {},
   "outputs": [
    {
     "name": "stderr",
     "output_type": "stream",
     "text": [
      "/home/sukrit/anaconda3/lib/python3.6/site-packages/pandas/core/computation/expressions.py:183: UserWarning: evaluating in Python space because the '-' operator is not supported by numexpr for the bool dtype, use '^' instead\n",
      "  unsupported[op_str]))\n"
     ]
    },
    {
     "data": {
      "text/plain": [
       "[0.435809860999135,\n",
       " 0.5859716988544814,\n",
       " 0.81006976505591466,\n",
       " 0.6566371681415929]"
      ]
     },
     "execution_count": 61,
     "metadata": {},
     "output_type": "execute_result"
    }
   ],
   "source": [
    "knn = KNeighborsClassifier(n_neighbors = 2, n_jobs = -1)\n",
    "knn.fit(X_train, y_train)\n",
    "print_score(knn)"
   ]
  },
  {
   "cell_type": "code",
   "execution_count": 62,
   "metadata": {},
   "outputs": [
    {
     "name": "stderr",
     "output_type": "stream",
     "text": [
      "/home/sukrit/anaconda3/lib/python3.6/site-packages/sklearn/linear_model/stochastic_gradient.py:128: FutureWarning: max_iter and tol parameters have been added in <class 'sklearn.linear_model.stochastic_gradient.SGDClassifier'> in 0.19. If both are left unset, they default to max_iter=5 and tol=None. If tol is not None, max_iter defaults to max_iter=1000. From 0.21, default max_iter will be 1000, and default tol will be 1e-3.\n",
      "  \"and default tol will be 1e-3.\" % type(self), FutureWarning)\n",
      "/home/sukrit/anaconda3/lib/python3.6/site-packages/pandas/core/computation/expressions.py:183: UserWarning: evaluating in Python space because the '-' operator is not supported by numexpr for the bool dtype, use '^' instead\n",
      "  unsupported[op_str]))\n"
     ]
    },
    {
     "data": {
      "text/plain": [
       "[0.7512344070246867,\n",
       " 0.7595993354673751,\n",
       " 0.43564686570226735,\n",
       " 0.4230088495575221]"
      ]
     },
     "execution_count": 62,
     "metadata": {},
     "output_type": "execute_result"
    }
   ],
   "source": [
    "# stocastic gradient descent\n",
    "sgd = SGDClassifier(shuffle = True , random_state = 101)\n",
    "sgd.fit(X_train, y_train)\n",
    "print_score(sgd)"
   ]
  },
  {
   "cell_type": "code",
   "execution_count": 63,
   "metadata": {},
   "outputs": [
    {
     "name": "stderr",
     "output_type": "stream",
     "text": [
      "/home/sukrit/anaconda3/lib/python3.6/site-packages/pandas/core/computation/expressions.py:183: UserWarning: evaluating in Python space because the '-' operator is not supported by numexpr for the bool dtype, use '^' instead\n",
      "  unsupported[op_str]))\n"
     ]
    },
    {
     "data": {
      "text/plain": [
       "[0.5955875507637879,\n",
       " 0.6023552593005889,\n",
       " 0.64527546937519231,\n",
       " 0.63716814159292035]"
      ]
     },
     "execution_count": 63,
     "metadata": {},
     "output_type": "execute_result"
    }
   ],
   "source": [
    "LGR = LogisticRegression()\n",
    "LGR.fit(X_train, y_train)\n",
    "print_score(LGR)"
   ]
  },
  {
   "cell_type": "code",
   "execution_count": 64,
   "metadata": {},
   "outputs": [],
   "source": [
    "pipe = Pipeline([('classifier' , RandomForestClassifier())])"
   ]
  },
  {
   "cell_type": "code",
   "execution_count": 65,
   "metadata": {},
   "outputs": [],
   "source": [
    "param_grid = [\n",
    "    {'classifier' : [LogisticRegression()],\n",
    "     'classifier__penalty' : ['l1', 'l2'],\n",
    "    'classifier__C' : np.logspace(-4, 4, 20),\n",
    "    'classifier__solver' : ['liblinear']},\n",
    "    {'classifier' : [RandomForestClassifier()],\n",
    "    'classifier__n_estimators' : list(range(10,101,10)),\n",
    "    'classifier__max_features' : list(range(1,3,1))}\n",
    "]"
   ]
  },
  {
   "cell_type": "code",
   "execution_count": 66,
   "metadata": {},
   "outputs": [],
   "source": [
    "clf = GridSearchCV(pipe, param_grid = param_grid, cv = 5, verbose=True, n_jobs=-1)"
   ]
  },
  {
   "cell_type": "code",
   "execution_count": 67,
   "metadata": {},
   "outputs": [
    {
     "name": "stdout",
     "output_type": "stream",
     "text": [
      "Fitting 5 folds for each of 60 candidates, totalling 300 fits\n"
     ]
    },
    {
     "name": "stderr",
     "output_type": "stream",
     "text": [
      "[Parallel(n_jobs=-1)]: Done  76 tasks      | elapsed:    6.2s\n",
      "[Parallel(n_jobs=-1)]: Done 236 tasks      | elapsed:  1.4min\n",
      "[Parallel(n_jobs=-1)]: Done 300 out of 300 | elapsed:  4.2min finished\n"
     ]
    }
   ],
   "source": [
    "# wait for 4 minutes\n",
    "best_clf = clf.fit(X_train, y_train)"
   ]
  },
  {
   "cell_type": "code",
   "execution_count": 68,
   "metadata": {},
   "outputs": [
    {
     "name": "stderr",
     "output_type": "stream",
     "text": [
      "/home/sukrit/anaconda3/lib/python3.6/site-packages/pandas/core/computation/expressions.py:183: UserWarning: evaluating in Python space because the '-' operator is not supported by numexpr for the bool dtype, use '^' instead\n",
      "  unsupported[op_str]))\n"
     ]
    },
    {
     "data": {
      "text/plain": [
       "[0.5953937271808182,\n",
       " 0.6023552593005889,\n",
       " 0.64550630963373345,\n",
       " 0.63716814159292035]"
      ]
     },
     "execution_count": 68,
     "metadata": {},
     "output_type": "execute_result"
    }
   ],
   "source": [
    "print_score(best_clf)"
   ]
  },
  {
   "cell_type": "code",
   "execution_count": 69,
   "metadata": {},
   "outputs": [
    {
     "data": {
      "text/plain": [
       "GridSearchCV(cv=5, error_score='raise',\n",
       "       estimator=Pipeline(memory=None,\n",
       "     steps=[('classifier', RandomForestClassifier(bootstrap=True, class_weight=None, criterion='gini',\n",
       "            max_depth=None, max_features='auto', max_leaf_nodes=None,\n",
       "            min_impurity_decrease=0.0, min_impurity_split=None,\n",
       "            min_samples_leaf=1, min_samples_split=2,\n",
       "            min_weight_fraction_leaf=0.0, n_estimators=10, n_jobs=1,\n",
       "            oob_score=False, random_state=None, verbose=0,\n",
       "            warm_start=False))]),\n",
       "       fit_params=None, iid=True, n_jobs=-1,\n",
       "       param_grid=[{'classifier': [LogisticRegression(C=11.288378916846883, class_weight=None, dual=False,\n",
       "          fit_intercept=True, intercept_scaling=1, max_iter=100,\n",
       "          multi_class='ovr', n_jobs=1, penalty='l2', random_state=None,\n",
       "          solver='liblinear', tol=0.0001, verbose=0, warm_start...fier__n_estimators': [10, 20, 30, 40, 50, 60, 70, 80, 90, 100], 'classifier__max_features': [1, 2]}],\n",
       "       pre_dispatch='2*n_jobs', refit=True, return_train_score='warn',\n",
       "       scoring=None, verbose=True)"
      ]
     },
     "execution_count": 69,
     "metadata": {},
     "output_type": "execute_result"
    }
   ],
   "source": [
    "best_clf"
   ]
  },
  {
   "cell_type": "code",
   "execution_count": 70,
   "metadata": {},
   "outputs": [
    {
     "name": "stderr",
     "output_type": "stream",
     "text": [
      "/home/sukrit/anaconda3/lib/python3.6/site-packages/pandas/core/computation/expressions.py:183: UserWarning: evaluating in Python space because the '-' operator is not supported by numexpr for the bool dtype, use '^' instead\n",
      "  unsupported[op_str]))\n"
     ]
    },
    {
     "data": {
      "text/plain": [
       "[0.034720298500110866,\n",
       " 0.540402996133523,\n",
       " 0.99879450087206323,\n",
       " 0.70796460176991149,\n",
       " 0.6312711603570329]"
      ]
     },
     "execution_count": 70,
     "metadata": {},
     "output_type": "execute_result"
    }
   ],
   "source": [
    "# this is the best classifier which gives best result\n",
    "\n",
    "# output is in below format\n",
    "# 1.training rmse error\n",
    "# 2. validation rmse error\n",
    "# 3. traning accuracy\n",
    "# 4.validation accuracy\n",
    "# 5. out of bag score\n",
    "\n",
    "m =  RandomForestClassifier(n_estimators=90, min_samples_leaf=1, \n",
    "                          max_features=.9, n_jobs=-1,oob_score=True)\n",
    "m.fit(X_train, y_train)\n",
    "print_score(m)"
   ]
  },
  {
   "cell_type": "markdown",
   "metadata": {},
   "source": [
    "70 % accuracy on validation set"
   ]
  },
  {
   "cell_type": "code",
   "execution_count": 71,
   "metadata": {},
   "outputs": [],
   "source": [
    "predicted_values = m.predict(X_valid)"
   ]
  },
  {
   "cell_type": "code",
   "execution_count": 75,
   "metadata": {},
   "outputs": [],
   "source": [
    "label = [True,False]"
   ]
  },
  {
   "cell_type": "code",
   "execution_count": 80,
   "metadata": {},
   "outputs": [
    {
     "data": {
      "image/png": "[encoded data removed]",
      "text/plain": [
       "<matplotlib.figure.Figure at 0x7f302b413d68>"
      ]
     },
     "metadata": {},
     "output_type": "display_data"
    }
   ],
   "source": [
    "#Random Forest confusion matrix\n",
    "conf_mat = confusion_matrix(y_valid, predicted_values, label)\n",
    "plt.figure(figsize=(15,15))\n",
    "sns.heatmap(conf_mat,annot = True, cmap='YlGnBu')\n",
    "plt.xticks([0,1],label)\n",
    "plt.yticks([0,1],label)\n",
    "plt.show()"
   ]
  },
  {
   "cell_type": "code",
   "execution_count": 81,
   "metadata": {},
   "outputs": [],
   "source": [
    "data_tuples = list(zip(y_valid,predicted_values))\n",
    "y_act_vs_y_pred = pd.DataFrame(data_tuples, columns=['True Value','Predicted Value'])\n",
    "y_act_vs_y_pred.to_excel(r'/home/sukrit/Desktop/Random_Forest_Predictions.xlsx')"
   ]
  },
  {
   "cell_type": "code",
   "execution_count": 82,
   "metadata": {},
   "outputs": [],
   "source": [
    "finaldata.to_excel(r'/home/sukrit/Desktop/Relevant_Fields.xlsx')"
   ]
  },
  {
   "cell_type": "code",
   "execution_count": null,
   "metadata": {},
   "outputs": [],
   "source": []
  }
 ],
 "metadata": {
  "kernelspec": {
   "display_name": "Python 3",
   "language": "python",
   "name": "python3"
  },
  "language_info": {
   "codemirror_mode": {
    "name": "ipython",
    "version": 3
   },
   "file_extension": ".py",
   "mimetype": "text/x-python",
   "name": "python",
   "nbconvert_exporter": "python",
   "pygments_lexer": "ipython3",
   "version": "3.6.3"
  }
 },
 "nbformat": 4,
 "nbformat_minor": 2
}
